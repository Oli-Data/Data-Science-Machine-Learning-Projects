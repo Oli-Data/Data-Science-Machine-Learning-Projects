{
 "cells": [
  {
   "cell_type": "markdown",
   "id": "575849ef",
   "metadata": {},
   "source": [
    "**IMPORTANT** <br> <ul> <li> Do **NOT** replace or remove this notebook (ipynb file)! Each cell has unique nbgrader's metadata and ID which, if changed outside the nbgrader, cannot pass the tests. Do **NOT** change the name of the file!</li> <li> To receive any credit, don't forget to **SUBMIT** your notebook when you are done! You can have multiple submissions before the deadline; only the last one is saved, including its timestamp.</li> <li>Before submitting, **Validate** your notebook to check if your codes pass all visible tests. </li> <li>Make sure you fill in any cell with the comment `# your code here`. Remove or comment the command `fail()` (in R), or `raise NotImplementedError` (in Python) and place your code there </li> </ul>"
   ]
  },
  {
   "cell_type": "code",
   "execution_count": 1,
   "id": "e64f6d0f",
   "metadata": {},
   "outputs": [],
   "source": [
    "NAME = \"Christian Olivares-Rodriguez\""
   ]
  },
  {
   "cell_type": "markdown",
   "id": "40cd4390",
   "metadata": {},
   "source": [
    "---"
   ]
  },
  {
   "cell_type": "markdown",
   "id": "8828689c",
   "metadata": {
    "deletable": false,
    "editable": false,
    "nbgrader": {
     "cell_type": "markdown",
     "checksum": "656f7a58b818c5267ae9be7a3dbfcb75",
     "grade": false,
     "grade_id": "cell-120f1335ad472c67",
     "locked": true,
     "schema_version": 3,
     "solution": false,
     "task": false
    }
   },
   "source": [
    "# Logistic Regression in Python\n",
    "\n",
    "In this part of the homework, we'll briefly train some logistic regression models in Python, using functions available through scikit-learn.\n",
    "\n",
    "HW adopted partially from Hands-On Machine Learning with Scikit-Learn, Keras, & TensorFlow by Aurelien Geron, and the scikit-learn documentation: https://scikit-learn.org/stable/modules/generated/sklearn.linear_model.LogisticRegression.html.\n",
    "\n",
    "Run the following cell to import some of our basic libraries/objects, including inlucing the `LogisticRegression` model from `sklearn.linear_model`."
   ]
  },
  {
   "cell_type": "code",
   "execution_count": 24,
   "id": "e2e75e45",
   "metadata": {
    "deletable": false,
    "editable": false,
    "nbgrader": {
     "cell_type": "code",
     "checksum": "9d0122ccaf92c4c546ec7e5ae341be4c",
     "grade": false,
     "grade_id": "cell-c473c8dc8c61418d",
     "locked": true,
     "schema_version": 3,
     "solution": false,
     "task": false
    }
   },
   "outputs": [],
   "source": [
    "import numpy as np\n",
    "import matplotlib.pyplot as plt\n",
    "import pandas as pd\n",
    "\n",
    "\n",
    "#confusion_matrix and accuracy_score may come in handy\n",
    "from sklearn.metrics import confusion_matrix\n",
    "from sklearn.metrics import accuracy_score\n",
    "\n",
    "#Various helper functions\n",
    "from sklearn.model_selection import train_test_split\n",
    "from sklearn.pipeline import make_pipeline\n",
    "from sklearn.preprocessing import StandardScaler\n",
    "from sklearn.preprocessing import PolynomialFeatures\n",
    "\n",
    "#Logistic Regression\n",
    "from sklearn.linear_model import LogisticRegression"
   ]
  },
  {
   "cell_type": "markdown",
   "id": "39320fa4",
   "metadata": {
    "deletable": false,
    "editable": false,
    "nbgrader": {
     "cell_type": "markdown",
     "checksum": "df5a3cc9d1d987e8b587ef6f3aae77f8",
     "grade": false,
     "grade_id": "cell-0538f3f8c949e557",
     "locked": true,
     "schema_version": 3,
     "solution": false,
     "task": false
    }
   },
   "source": [
    "## Iris Data\n",
    "\n",
    "Let's get the iris dataset: This dataset contains sepal and petal length and width for 150 iris flowers of species *Iris setosa*, *Iris versicolor*, and *Iris virginica*. Luckily, we can just load as follows:"
   ]
  },
  {
   "cell_type": "code",
   "execution_count": 25,
   "id": "de078230",
   "metadata": {
    "deletable": false,
    "editable": false,
    "nbgrader": {
     "cell_type": "code",
     "checksum": "0f18e014392c8133becc7c9f037461c9",
     "grade": false,
     "grade_id": "cell-cc34cfe412e31106",
     "locked": true,
     "schema_version": 3,
     "solution": false,
     "task": false
    }
   },
   "outputs": [
    {
     "data": {
      "text/plain": [
       "{'data': array([[5.1, 3.5, 1.4, 0.2],\n",
       "        [4.9, 3. , 1.4, 0.2],\n",
       "        [4.7, 3.2, 1.3, 0.2],\n",
       "        [4.6, 3.1, 1.5, 0.2],\n",
       "        [5. , 3.6, 1.4, 0.2],\n",
       "        [5.4, 3.9, 1.7, 0.4],\n",
       "        [4.6, 3.4, 1.4, 0.3],\n",
       "        [5. , 3.4, 1.5, 0.2],\n",
       "        [4.4, 2.9, 1.4, 0.2],\n",
       "        [4.9, 3.1, 1.5, 0.1],\n",
       "        [5.4, 3.7, 1.5, 0.2],\n",
       "        [4.8, 3.4, 1.6, 0.2],\n",
       "        [4.8, 3. , 1.4, 0.1],\n",
       "        [4.3, 3. , 1.1, 0.1],\n",
       "        [5.8, 4. , 1.2, 0.2],\n",
       "        [5.7, 4.4, 1.5, 0.4],\n",
       "        [5.4, 3.9, 1.3, 0.4],\n",
       "        [5.1, 3.5, 1.4, 0.3],\n",
       "        [5.7, 3.8, 1.7, 0.3],\n",
       "        [5.1, 3.8, 1.5, 0.3],\n",
       "        [5.4, 3.4, 1.7, 0.2],\n",
       "        [5.1, 3.7, 1.5, 0.4],\n",
       "        [4.6, 3.6, 1. , 0.2],\n",
       "        [5.1, 3.3, 1.7, 0.5],\n",
       "        [4.8, 3.4, 1.9, 0.2],\n",
       "        [5. , 3. , 1.6, 0.2],\n",
       "        [5. , 3.4, 1.6, 0.4],\n",
       "        [5.2, 3.5, 1.5, 0.2],\n",
       "        [5.2, 3.4, 1.4, 0.2],\n",
       "        [4.7, 3.2, 1.6, 0.2],\n",
       "        [4.8, 3.1, 1.6, 0.2],\n",
       "        [5.4, 3.4, 1.5, 0.4],\n",
       "        [5.2, 4.1, 1.5, 0.1],\n",
       "        [5.5, 4.2, 1.4, 0.2],\n",
       "        [4.9, 3.1, 1.5, 0.2],\n",
       "        [5. , 3.2, 1.2, 0.2],\n",
       "        [5.5, 3.5, 1.3, 0.2],\n",
       "        [4.9, 3.6, 1.4, 0.1],\n",
       "        [4.4, 3. , 1.3, 0.2],\n",
       "        [5.1, 3.4, 1.5, 0.2],\n",
       "        [5. , 3.5, 1.3, 0.3],\n",
       "        [4.5, 2.3, 1.3, 0.3],\n",
       "        [4.4, 3.2, 1.3, 0.2],\n",
       "        [5. , 3.5, 1.6, 0.6],\n",
       "        [5.1, 3.8, 1.9, 0.4],\n",
       "        [4.8, 3. , 1.4, 0.3],\n",
       "        [5.1, 3.8, 1.6, 0.2],\n",
       "        [4.6, 3.2, 1.4, 0.2],\n",
       "        [5.3, 3.7, 1.5, 0.2],\n",
       "        [5. , 3.3, 1.4, 0.2],\n",
       "        [7. , 3.2, 4.7, 1.4],\n",
       "        [6.4, 3.2, 4.5, 1.5],\n",
       "        [6.9, 3.1, 4.9, 1.5],\n",
       "        [5.5, 2.3, 4. , 1.3],\n",
       "        [6.5, 2.8, 4.6, 1.5],\n",
       "        [5.7, 2.8, 4.5, 1.3],\n",
       "        [6.3, 3.3, 4.7, 1.6],\n",
       "        [4.9, 2.4, 3.3, 1. ],\n",
       "        [6.6, 2.9, 4.6, 1.3],\n",
       "        [5.2, 2.7, 3.9, 1.4],\n",
       "        [5. , 2. , 3.5, 1. ],\n",
       "        [5.9, 3. , 4.2, 1.5],\n",
       "        [6. , 2.2, 4. , 1. ],\n",
       "        [6.1, 2.9, 4.7, 1.4],\n",
       "        [5.6, 2.9, 3.6, 1.3],\n",
       "        [6.7, 3.1, 4.4, 1.4],\n",
       "        [5.6, 3. , 4.5, 1.5],\n",
       "        [5.8, 2.7, 4.1, 1. ],\n",
       "        [6.2, 2.2, 4.5, 1.5],\n",
       "        [5.6, 2.5, 3.9, 1.1],\n",
       "        [5.9, 3.2, 4.8, 1.8],\n",
       "        [6.1, 2.8, 4. , 1.3],\n",
       "        [6.3, 2.5, 4.9, 1.5],\n",
       "        [6.1, 2.8, 4.7, 1.2],\n",
       "        [6.4, 2.9, 4.3, 1.3],\n",
       "        [6.6, 3. , 4.4, 1.4],\n",
       "        [6.8, 2.8, 4.8, 1.4],\n",
       "        [6.7, 3. , 5. , 1.7],\n",
       "        [6. , 2.9, 4.5, 1.5],\n",
       "        [5.7, 2.6, 3.5, 1. ],\n",
       "        [5.5, 2.4, 3.8, 1.1],\n",
       "        [5.5, 2.4, 3.7, 1. ],\n",
       "        [5.8, 2.7, 3.9, 1.2],\n",
       "        [6. , 2.7, 5.1, 1.6],\n",
       "        [5.4, 3. , 4.5, 1.5],\n",
       "        [6. , 3.4, 4.5, 1.6],\n",
       "        [6.7, 3.1, 4.7, 1.5],\n",
       "        [6.3, 2.3, 4.4, 1.3],\n",
       "        [5.6, 3. , 4.1, 1.3],\n",
       "        [5.5, 2.5, 4. , 1.3],\n",
       "        [5.5, 2.6, 4.4, 1.2],\n",
       "        [6.1, 3. , 4.6, 1.4],\n",
       "        [5.8, 2.6, 4. , 1.2],\n",
       "        [5. , 2.3, 3.3, 1. ],\n",
       "        [5.6, 2.7, 4.2, 1.3],\n",
       "        [5.7, 3. , 4.2, 1.2],\n",
       "        [5.7, 2.9, 4.2, 1.3],\n",
       "        [6.2, 2.9, 4.3, 1.3],\n",
       "        [5.1, 2.5, 3. , 1.1],\n",
       "        [5.7, 2.8, 4.1, 1.3],\n",
       "        [6.3, 3.3, 6. , 2.5],\n",
       "        [5.8, 2.7, 5.1, 1.9],\n",
       "        [7.1, 3. , 5.9, 2.1],\n",
       "        [6.3, 2.9, 5.6, 1.8],\n",
       "        [6.5, 3. , 5.8, 2.2],\n",
       "        [7.6, 3. , 6.6, 2.1],\n",
       "        [4.9, 2.5, 4.5, 1.7],\n",
       "        [7.3, 2.9, 6.3, 1.8],\n",
       "        [6.7, 2.5, 5.8, 1.8],\n",
       "        [7.2, 3.6, 6.1, 2.5],\n",
       "        [6.5, 3.2, 5.1, 2. ],\n",
       "        [6.4, 2.7, 5.3, 1.9],\n",
       "        [6.8, 3. , 5.5, 2.1],\n",
       "        [5.7, 2.5, 5. , 2. ],\n",
       "        [5.8, 2.8, 5.1, 2.4],\n",
       "        [6.4, 3.2, 5.3, 2.3],\n",
       "        [6.5, 3. , 5.5, 1.8],\n",
       "        [7.7, 3.8, 6.7, 2.2],\n",
       "        [7.7, 2.6, 6.9, 2.3],\n",
       "        [6. , 2.2, 5. , 1.5],\n",
       "        [6.9, 3.2, 5.7, 2.3],\n",
       "        [5.6, 2.8, 4.9, 2. ],\n",
       "        [7.7, 2.8, 6.7, 2. ],\n",
       "        [6.3, 2.7, 4.9, 1.8],\n",
       "        [6.7, 3.3, 5.7, 2.1],\n",
       "        [7.2, 3.2, 6. , 1.8],\n",
       "        [6.2, 2.8, 4.8, 1.8],\n",
       "        [6.1, 3. , 4.9, 1.8],\n",
       "        [6.4, 2.8, 5.6, 2.1],\n",
       "        [7.2, 3. , 5.8, 1.6],\n",
       "        [7.4, 2.8, 6.1, 1.9],\n",
       "        [7.9, 3.8, 6.4, 2. ],\n",
       "        [6.4, 2.8, 5.6, 2.2],\n",
       "        [6.3, 2.8, 5.1, 1.5],\n",
       "        [6.1, 2.6, 5.6, 1.4],\n",
       "        [7.7, 3. , 6.1, 2.3],\n",
       "        [6.3, 3.4, 5.6, 2.4],\n",
       "        [6.4, 3.1, 5.5, 1.8],\n",
       "        [6. , 3. , 4.8, 1.8],\n",
       "        [6.9, 3.1, 5.4, 2.1],\n",
       "        [6.7, 3.1, 5.6, 2.4],\n",
       "        [6.9, 3.1, 5.1, 2.3],\n",
       "        [5.8, 2.7, 5.1, 1.9],\n",
       "        [6.8, 3.2, 5.9, 2.3],\n",
       "        [6.7, 3.3, 5.7, 2.5],\n",
       "        [6.7, 3. , 5.2, 2.3],\n",
       "        [6.3, 2.5, 5. , 1.9],\n",
       "        [6.5, 3. , 5.2, 2. ],\n",
       "        [6.2, 3.4, 5.4, 2.3],\n",
       "        [5.9, 3. , 5.1, 1.8]]),\n",
       " 'target': array([0, 0, 0, 0, 0, 0, 0, 0, 0, 0, 0, 0, 0, 0, 0, 0, 0, 0, 0, 0, 0, 0,\n",
       "        0, 0, 0, 0, 0, 0, 0, 0, 0, 0, 0, 0, 0, 0, 0, 0, 0, 0, 0, 0, 0, 0,\n",
       "        0, 0, 0, 0, 0, 0, 1, 1, 1, 1, 1, 1, 1, 1, 1, 1, 1, 1, 1, 1, 1, 1,\n",
       "        1, 1, 1, 1, 1, 1, 1, 1, 1, 1, 1, 1, 1, 1, 1, 1, 1, 1, 1, 1, 1, 1,\n",
       "        1, 1, 1, 1, 1, 1, 1, 1, 1, 1, 1, 1, 2, 2, 2, 2, 2, 2, 2, 2, 2, 2,\n",
       "        2, 2, 2, 2, 2, 2, 2, 2, 2, 2, 2, 2, 2, 2, 2, 2, 2, 2, 2, 2, 2, 2,\n",
       "        2, 2, 2, 2, 2, 2, 2, 2, 2, 2, 2, 2, 2, 2, 2, 2, 2, 2]),\n",
       " 'frame': None,\n",
       " 'target_names': array(['setosa', 'versicolor', 'virginica'], dtype='<U10'),\n",
       " 'DESCR': '.. _iris_dataset:\\n\\nIris plants dataset\\n--------------------\\n\\n**Data Set Characteristics:**\\n\\n    :Number of Instances: 150 (50 in each of three classes)\\n    :Number of Attributes: 4 numeric, predictive attributes and the class\\n    :Attribute Information:\\n        - sepal length in cm\\n        - sepal width in cm\\n        - petal length in cm\\n        - petal width in cm\\n        - class:\\n                - Iris-Setosa\\n                - Iris-Versicolour\\n                - Iris-Virginica\\n                \\n    :Summary Statistics:\\n\\n    ============== ==== ==== ======= ===== ====================\\n                    Min  Max   Mean    SD   Class Correlation\\n    ============== ==== ==== ======= ===== ====================\\n    sepal length:   4.3  7.9   5.84   0.83    0.7826\\n    sepal width:    2.0  4.4   3.05   0.43   -0.4194\\n    petal length:   1.0  6.9   3.76   1.76    0.9490  (high!)\\n    petal width:    0.1  2.5   1.20   0.76    0.9565  (high!)\\n    ============== ==== ==== ======= ===== ====================\\n\\n    :Missing Attribute Values: None\\n    :Class Distribution: 33.3% for each of 3 classes.\\n    :Creator: R.A. Fisher\\n    :Donor: Michael Marshall (MARSHALL%PLU@io.arc.nasa.gov)\\n    :Date: July, 1988\\n\\nThe famous Iris database, first used by Sir R.A. Fisher. The dataset is taken\\nfrom Fisher\\'s paper. Note that it\\'s the same as in R, but not as in the UCI\\nMachine Learning Repository, which has two wrong data points.\\n\\nThis is perhaps the best known database to be found in the\\npattern recognition literature.  Fisher\\'s paper is a classic in the field and\\nis referenced frequently to this day.  (See Duda & Hart, for example.)  The\\ndata set contains 3 classes of 50 instances each, where each class refers to a\\ntype of iris plant.  One class is linearly separable from the other 2; the\\nlatter are NOT linearly separable from each other.\\n\\n|details-start|\\n**References**\\n|details-split|\\n\\n- Fisher, R.A. \"The use of multiple measurements in taxonomic problems\"\\n  Annual Eugenics, 7, Part II, 179-188 (1936); also in \"Contributions to\\n  Mathematical Statistics\" (John Wiley, NY, 1950).\\n- Duda, R.O., & Hart, P.E. (1973) Pattern Classification and Scene Analysis.\\n  (Q327.D83) John Wiley & Sons.  ISBN 0-471-22361-1.  See page 218.\\n- Dasarathy, B.V. (1980) \"Nosing Around the Neighborhood: A New System\\n  Structure and Classification Rule for Recognition in Partially Exposed\\n  Environments\".  IEEE Transactions on Pattern Analysis and Machine\\n  Intelligence, Vol. PAMI-2, No. 1, 67-71.\\n- Gates, G.W. (1972) \"The Reduced Nearest Neighbor Rule\".  IEEE Transactions\\n  on Information Theory, May 1972, 431-433.\\n- See also: 1988 MLC Proceedings, 54-64.  Cheeseman et al\"s AUTOCLASS II\\n  conceptual clustering system finds 3 classes in the data.\\n- Many, many more ...\\n\\n|details-end|',\n",
       " 'feature_names': ['sepal length (cm)',\n",
       "  'sepal width (cm)',\n",
       "  'petal length (cm)',\n",
       "  'petal width (cm)'],\n",
       " 'filename': 'iris.csv',\n",
       " 'data_module': 'sklearn.datasets.data'}"
      ]
     },
     "execution_count": 25,
     "metadata": {},
     "output_type": "execute_result"
    }
   ],
   "source": [
    "from sklearn import datasets\n",
    "\n",
    "iris = datasets.load_iris()\n",
    "\n",
    "#We got?\n",
    "iris"
   ]
  },
  {
   "cell_type": "markdown",
   "id": "679ae0d2",
   "metadata": {
    "deletable": false,
    "editable": false,
    "nbgrader": {
     "cell_type": "markdown",
     "checksum": "4a97f80cab27da91c807affb5e48b234",
     "grade": false,
     "grade_id": "cell-a5255a233b95e3e2",
     "locked": true,
     "schema_version": 3,
     "solution": false,
     "task": false
    }
   },
   "source": [
    "<br>\n",
    "\n",
    "Let's put this into a dataframe:\n"
   ]
  },
  {
   "cell_type": "code",
   "execution_count": 26,
   "id": "94e4f3bd",
   "metadata": {
    "deletable": false,
    "editable": false,
    "nbgrader": {
     "cell_type": "code",
     "checksum": "a7cc5804b2b2514687113fe9ca220734",
     "grade": false,
     "grade_id": "cell-d98ad27971dfe8ac",
     "locked": true,
     "schema_version": 3,
     "solution": false,
     "task": false
    }
   },
   "outputs": [
    {
     "data": {
      "text/html": [
       "<div>\n",
       "<style scoped>\n",
       "    .dataframe tbody tr th:only-of-type {\n",
       "        vertical-align: middle;\n",
       "    }\n",
       "\n",
       "    .dataframe tbody tr th {\n",
       "        vertical-align: top;\n",
       "    }\n",
       "\n",
       "    .dataframe thead th {\n",
       "        text-align: right;\n",
       "    }\n",
       "</style>\n",
       "<table border=\"1\" class=\"dataframe\">\n",
       "  <thead>\n",
       "    <tr style=\"text-align: right;\">\n",
       "      <th></th>\n",
       "      <th>sepal length (cm)</th>\n",
       "      <th>sepal width (cm)</th>\n",
       "      <th>petal length (cm)</th>\n",
       "      <th>petal width (cm)</th>\n",
       "      <th>species</th>\n",
       "    </tr>\n",
       "  </thead>\n",
       "  <tbody>\n",
       "    <tr>\n",
       "      <th>0</th>\n",
       "      <td>5.1</td>\n",
       "      <td>3.5</td>\n",
       "      <td>1.4</td>\n",
       "      <td>0.2</td>\n",
       "      <td>0</td>\n",
       "    </tr>\n",
       "    <tr>\n",
       "      <th>1</th>\n",
       "      <td>4.9</td>\n",
       "      <td>3.0</td>\n",
       "      <td>1.4</td>\n",
       "      <td>0.2</td>\n",
       "      <td>0</td>\n",
       "    </tr>\n",
       "    <tr>\n",
       "      <th>2</th>\n",
       "      <td>4.7</td>\n",
       "      <td>3.2</td>\n",
       "      <td>1.3</td>\n",
       "      <td>0.2</td>\n",
       "      <td>0</td>\n",
       "    </tr>\n",
       "    <tr>\n",
       "      <th>3</th>\n",
       "      <td>4.6</td>\n",
       "      <td>3.1</td>\n",
       "      <td>1.5</td>\n",
       "      <td>0.2</td>\n",
       "      <td>0</td>\n",
       "    </tr>\n",
       "    <tr>\n",
       "      <th>4</th>\n",
       "      <td>5.0</td>\n",
       "      <td>3.6</td>\n",
       "      <td>1.4</td>\n",
       "      <td>0.2</td>\n",
       "      <td>0</td>\n",
       "    </tr>\n",
       "  </tbody>\n",
       "</table>\n",
       "</div>"
      ],
      "text/plain": [
       "   sepal length (cm)  sepal width (cm)  petal length (cm)  petal width (cm)  \\\n",
       "0                5.1               3.5                1.4               0.2   \n",
       "1                4.9               3.0                1.4               0.2   \n",
       "2                4.7               3.2                1.3               0.2   \n",
       "3                4.6               3.1                1.5               0.2   \n",
       "4                5.0               3.6                1.4               0.2   \n",
       "\n",
       "   species  \n",
       "0        0  \n",
       "1        0  \n",
       "2        0  \n",
       "3        0  \n",
       "4        0  "
      ]
     },
     "execution_count": 26,
     "metadata": {},
     "output_type": "execute_result"
    }
   ],
   "source": [
    "#Create initial DataFrame:\n",
    "df = pd.DataFrame(np.concatenate((iris['data'], iris['target'].reshape(-1,1)), axis=1),\n",
    "                  columns = list(iris['feature_names']) + ['species'])\n",
    "\n",
    "df['species'] = df['species'].astype(int)\n",
    "df.head()"
   ]
  },
  {
   "cell_type": "markdown",
   "id": "911e15da",
   "metadata": {
    "deletable": false,
    "editable": false,
    "nbgrader": {
     "cell_type": "markdown",
     "checksum": "d5929ded3996b3ed3051677d1ec85732",
     "grade": false,
     "grade_id": "cell-dda4cd5f563febf0",
     "locked": true,
     "schema_version": 3,
     "solution": false,
     "task": false
    }
   },
   "source": [
    "<br>\n",
    "\n",
    "And add in the species names:"
   ]
  },
  {
   "cell_type": "code",
   "execution_count": 27,
   "id": "9f80dedd",
   "metadata": {
    "deletable": false,
    "editable": false,
    "nbgrader": {
     "cell_type": "code",
     "checksum": "9459982270ff24e9a56501833a40a471",
     "grade": false,
     "grade_id": "cell-f94ce75ed3a9642c",
     "locked": true,
     "schema_version": 3,
     "solution": false,
     "task": false
    }
   },
   "outputs": [
    {
     "data": {
      "text/html": [
       "<div>\n",
       "<style scoped>\n",
       "    .dataframe tbody tr th:only-of-type {\n",
       "        vertical-align: middle;\n",
       "    }\n",
       "\n",
       "    .dataframe tbody tr th {\n",
       "        vertical-align: top;\n",
       "    }\n",
       "\n",
       "    .dataframe thead th {\n",
       "        text-align: right;\n",
       "    }\n",
       "</style>\n",
       "<table border=\"1\" class=\"dataframe\">\n",
       "  <thead>\n",
       "    <tr style=\"text-align: right;\">\n",
       "      <th></th>\n",
       "      <th>sepal length (cm)</th>\n",
       "      <th>sepal width (cm)</th>\n",
       "      <th>petal length (cm)</th>\n",
       "      <th>petal width (cm)</th>\n",
       "      <th>species</th>\n",
       "      <th>name</th>\n",
       "    </tr>\n",
       "  </thead>\n",
       "  <tbody>\n",
       "    <tr>\n",
       "      <th>0</th>\n",
       "      <td>5.1</td>\n",
       "      <td>3.5</td>\n",
       "      <td>1.4</td>\n",
       "      <td>0.2</td>\n",
       "      <td>0</td>\n",
       "      <td>setosa</td>\n",
       "    </tr>\n",
       "    <tr>\n",
       "      <th>1</th>\n",
       "      <td>4.9</td>\n",
       "      <td>3.0</td>\n",
       "      <td>1.4</td>\n",
       "      <td>0.2</td>\n",
       "      <td>0</td>\n",
       "      <td>setosa</td>\n",
       "    </tr>\n",
       "    <tr>\n",
       "      <th>2</th>\n",
       "      <td>4.7</td>\n",
       "      <td>3.2</td>\n",
       "      <td>1.3</td>\n",
       "      <td>0.2</td>\n",
       "      <td>0</td>\n",
       "      <td>setosa</td>\n",
       "    </tr>\n",
       "    <tr>\n",
       "      <th>3</th>\n",
       "      <td>4.6</td>\n",
       "      <td>3.1</td>\n",
       "      <td>1.5</td>\n",
       "      <td>0.2</td>\n",
       "      <td>0</td>\n",
       "      <td>setosa</td>\n",
       "    </tr>\n",
       "    <tr>\n",
       "      <th>4</th>\n",
       "      <td>5.0</td>\n",
       "      <td>3.6</td>\n",
       "      <td>1.4</td>\n",
       "      <td>0.2</td>\n",
       "      <td>0</td>\n",
       "      <td>setosa</td>\n",
       "    </tr>\n",
       "  </tbody>\n",
       "</table>\n",
       "</div>"
      ],
      "text/plain": [
       "   sepal length (cm)  sepal width (cm)  petal length (cm)  petal width (cm)  \\\n",
       "0                5.1               3.5                1.4               0.2   \n",
       "1                4.9               3.0                1.4               0.2   \n",
       "2                4.7               3.2                1.3               0.2   \n",
       "3                4.6               3.1                1.5               0.2   \n",
       "4                5.0               3.6                1.4               0.2   \n",
       "\n",
       "   species    name  \n",
       "0        0  setosa  \n",
       "1        0  setosa  \n",
       "2        0  setosa  \n",
       "3        0  setosa  \n",
       "4        0  setosa  "
      ]
     },
     "execution_count": 27,
     "metadata": {},
     "output_type": "execute_result"
    }
   ],
   "source": [
    "#Add species name for our reference\n",
    "#####\n",
    "\n",
    "df['name'] = [iris['target_names'][i] for i in df.species.astype(int)]\n",
    "\n",
    "df.head()"
   ]
  },
  {
   "cell_type": "markdown",
   "id": "75e33d90",
   "metadata": {
    "deletable": false,
    "editable": false,
    "nbgrader": {
     "cell_type": "markdown",
     "checksum": "ef660225583cf43668a0ec5aeb0b77a7",
     "grade": false,
     "grade_id": "cell-25e78fe8c52b1b62",
     "locked": true,
     "schema_version": 3,
     "solution": false,
     "task": false
    }
   },
   "source": [
    "## Train/Test Split\n",
    "\n",
    "Now, let's use our four iris measurements, `sepal length (cm)`, `sepal width (cm)`, `petal length (cm)`, `petal width (cm)` (in that order!), as input/predictors, and `species` (as an integer) as output.\n",
    "\n",
    "Create the DataFrames `X` and Series `y` from our predictor and output variables, respectively.\n",
    "\n",
    "Then split these into training and testing datasets using the `train_test_split` function, with **50%** of our data reserved for testing. **Use `random_state = 1234` for reproducibility.**\n",
    "\n",
    "Name your resulting training/testing datasets `X_train`, `X_test`, `y_train`, and `y_test`."
   ]
  },
  {
   "cell_type": "code",
   "execution_count": 28,
   "id": "553a53b0",
   "metadata": {
    "deletable": false,
    "nbgrader": {
     "cell_type": "code",
     "checksum": "94c2622254f9ffe1d1bc7352a7c7a181",
     "grade": false,
     "grade_id": "cell-6fee51e8b6235eff",
     "locked": false,
     "schema_version": 3,
     "solution": true,
     "task": false
    }
   },
   "outputs": [],
   "source": [
    "# your code here\n",
    "\n",
    "X = df[['sepal length (cm)', 'sepal width (cm)', 'petal length (cm)', 'petal width (cm)']] \n",
    "y = df['species'] \n",
    "\n",
    "X_train, X_test, y_train, y_test = train_test_split(X, y, test_size = 0.5, random_state = 1234)"
   ]
  },
  {
   "cell_type": "code",
   "execution_count": 29,
   "id": "b7aa3064",
   "metadata": {
    "deletable": false,
    "editable": false,
    "nbgrader": {
     "cell_type": "code",
     "checksum": "1dda5df26a5667ab0551be040364aba3",
     "grade": true,
     "grade_id": "cell-e41bd38b9fac2191",
     "locked": true,
     "points": 3,
     "schema_version": 3,
     "solution": false,
     "task": false
    }
   },
   "outputs": [],
   "source": [
    "## test whether the first 2 rows of X_train are correct:\n",
    "c = np.array([[7.9, 3.8, 6.4, 2.0],\n",
    "       [5.7, 4.4, 1.5, 0.4]])\n",
    "\n",
    "assert np.isclose(X_train.iloc[:2,:].values, c).sum() == 8\n",
    "\n",
    "## test whether the first 4 rows of y_train are correct:\n",
    "assert np.isclose(y_train[:4].values, np.array([2, 0, 1, 1])).sum() == 4\n",
    "\n",
    "\n",
    "c = np.array([[6.1, 3.0, 4.6, 1.4],\n",
    "       [6.1, 2.9, 4.7, 1.4]])\n",
    "\n",
    "## test whether the first 2 rows of X_test are correct:\n",
    "assert np.isclose(X_test.iloc[:2,:].values, c).sum() == 8\n",
    "\n",
    "## test whether the first 4 rows of y_test are correct:\n",
    "assert np.isclose(y_test[:4].values, np.array([1, 1, 2, 0])).sum() == 4\n"
   ]
  },
  {
   "cell_type": "markdown",
   "id": "3bb3e397",
   "metadata": {
    "deletable": false,
    "editable": false,
    "nbgrader": {
     "cell_type": "markdown",
     "checksum": "4d0c38caa5becba2402fb3bb1210660b",
     "grade": false,
     "grade_id": "cell-67891246a2140239",
     "locked": true,
     "schema_version": 3,
     "solution": false,
     "task": false
    }
   },
   "source": [
    "## Single Predictor, Binary Output\n",
    "\n",
    "Let's just use `petal width (cm)` to predict whether a flower is or is not species `Iris versicolor`.\n",
    "\n",
    "Create new training and testing **DataFrames** `X_train_pw` and `X_test_pw`, and **Series** `y_train_versicolor` and `y_test_versicolor`, where the latter are `1` if a flower is of species *Iris versicolor*, and `0` otherwise."
   ]
  },
  {
   "cell_type": "code",
   "execution_count": 30,
   "id": "c9967883",
   "metadata": {
    "deletable": false,
    "nbgrader": {
     "cell_type": "code",
     "checksum": "2ad09c235715b4cd9304c9ab07561986",
     "grade": false,
     "grade_id": "cell-84ca8969b310280c",
     "locked": false,
     "schema_version": 3,
     "solution": true,
     "task": false
    }
   },
   "outputs": [],
   "source": [
    "# your code here\n",
    "\n",
    "df['is_versicolor'] = df['name'].apply(lambda x: 1 if x == 'versicolor' else 0)\n",
    "\n",
    "X_pw = df[['petal width (cm)']]\n",
    "\n",
    "y_versicolor = df['is_versicolor']\n",
    "\n",
    "X_train_pw, X_test_pw, y_train_versicolor, y_test_versicolor = train_test_split(X_pw, y_versicolor, test_size = 0.5, random_state = 1234)"
   ]
  },
  {
   "cell_type": "code",
   "execution_count": 31,
   "id": "2a48ca8a",
   "metadata": {
    "deletable": false,
    "editable": false,
    "nbgrader": {
     "cell_type": "code",
     "checksum": "4b06ef13fa23c2c519893c1c34b9a900",
     "grade": true,
     "grade_id": "cell-7e37c904a9ccce46",
     "locked": true,
     "points": 3,
     "schema_version": 3,
     "solution": false,
     "task": false
    }
   },
   "outputs": [],
   "source": [
    "## test whether the first 5 rows of X_train_pw are correct:\n",
    "assert np.isclose(X_train_pw[:5].values.reshape(1,-1), np.array([2, .4, 1.5, 1.3, .4])).sum() == 5\n",
    "\n",
    "## test whether the first 5 rows of y_train_setosa are correct:\n",
    "assert np.isclose(y_train_versicolor[:5].values, np.array([0, 0, 1, 1, 0])).sum() == 5\n",
    "\n",
    "\n",
    "## test whether the first 5 rows of X_test_pw are correct:\n",
    "assert np.isclose(X_test_pw[:5].values.reshape(1,-1), np.array([1.4, 1.4, 1.8, .3, 1.4])).sum() == 5\n",
    "\n",
    "## test whether the first 5 rows of y_test_setosa are correct:\n",
    "assert np.isclose(y_test_versicolor[:5].values, np.array([1, 1, 0, 0, 1])).sum() == 5"
   ]
  },
  {
   "cell_type": "markdown",
   "id": "e608232c",
   "metadata": {
    "deletable": false,
    "editable": false,
    "nbgrader": {
     "cell_type": "markdown",
     "checksum": "7b4efc7e7b781cdf904725d609db7907",
     "grade": false,
     "grade_id": "cell-ada7619515939894",
     "locked": true,
     "schema_version": 3,
     "solution": false,
     "task": false
    }
   },
   "source": [
    "\n",
    "## Make a Pipeline for Adding Polynomial Features, Rescaling\n",
    "\n",
    "Construct a pipeline named `lr_model` using the `make_pipeline` function from Scikit-Learn that does the following in sequence:\n",
    "\n",
    "1. `PolynomialFeatures()` of degree 3\n",
    "2. Applies `StandardScaler()`\n",
    "3. Perform `LogisticRegression()`\n",
    "\n",
    "Then, *fit* `lr_model` the training data `X_train_pw` with target `y_train_versicolor`.\n",
    "\n",
    "Note that the Scikit-Learn `LogisticRegression` class uses L2 regularization by default. Simply use the defaults with respect to regularization."
   ]
  },
  {
   "cell_type": "code",
   "execution_count": 32,
   "id": "c1361ee2",
   "metadata": {
    "deletable": false,
    "nbgrader": {
     "cell_type": "code",
     "checksum": "282d60eb70ced610ca081238449ffac4",
     "grade": false,
     "grade_id": "cell-498ec6c761f8196f",
     "locked": false,
     "schema_version": 3,
     "solution": true,
     "task": false
    }
   },
   "outputs": [
    {
     "data": {
      "text/html": [
       "<style>#sk-container-id-2 {color: black;}#sk-container-id-2 pre{padding: 0;}#sk-container-id-2 div.sk-toggleable {background-color: white;}#sk-container-id-2 label.sk-toggleable__label {cursor: pointer;display: block;width: 100%;margin-bottom: 0;padding: 0.3em;box-sizing: border-box;text-align: center;}#sk-container-id-2 label.sk-toggleable__label-arrow:before {content: \"▸\";float: left;margin-right: 0.25em;color: #696969;}#sk-container-id-2 label.sk-toggleable__label-arrow:hover:before {color: black;}#sk-container-id-2 div.sk-estimator:hover label.sk-toggleable__label-arrow:before {color: black;}#sk-container-id-2 div.sk-toggleable__content {max-height: 0;max-width: 0;overflow: hidden;text-align: left;background-color: #f0f8ff;}#sk-container-id-2 div.sk-toggleable__content pre {margin: 0.2em;color: black;border-radius: 0.25em;background-color: #f0f8ff;}#sk-container-id-2 input.sk-toggleable__control:checked~div.sk-toggleable__content {max-height: 200px;max-width: 100%;overflow: auto;}#sk-container-id-2 input.sk-toggleable__control:checked~label.sk-toggleable__label-arrow:before {content: \"▾\";}#sk-container-id-2 div.sk-estimator input.sk-toggleable__control:checked~label.sk-toggleable__label {background-color: #d4ebff;}#sk-container-id-2 div.sk-label input.sk-toggleable__control:checked~label.sk-toggleable__label {background-color: #d4ebff;}#sk-container-id-2 input.sk-hidden--visually {border: 0;clip: rect(1px 1px 1px 1px);clip: rect(1px, 1px, 1px, 1px);height: 1px;margin: -1px;overflow: hidden;padding: 0;position: absolute;width: 1px;}#sk-container-id-2 div.sk-estimator {font-family: monospace;background-color: #f0f8ff;border: 1px dotted black;border-radius: 0.25em;box-sizing: border-box;margin-bottom: 0.5em;}#sk-container-id-2 div.sk-estimator:hover {background-color: #d4ebff;}#sk-container-id-2 div.sk-parallel-item::after {content: \"\";width: 100%;border-bottom: 1px solid gray;flex-grow: 1;}#sk-container-id-2 div.sk-label:hover label.sk-toggleable__label {background-color: #d4ebff;}#sk-container-id-2 div.sk-serial::before {content: \"\";position: absolute;border-left: 1px solid gray;box-sizing: border-box;top: 0;bottom: 0;left: 50%;z-index: 0;}#sk-container-id-2 div.sk-serial {display: flex;flex-direction: column;align-items: center;background-color: white;padding-right: 0.2em;padding-left: 0.2em;position: relative;}#sk-container-id-2 div.sk-item {position: relative;z-index: 1;}#sk-container-id-2 div.sk-parallel {display: flex;align-items: stretch;justify-content: center;background-color: white;position: relative;}#sk-container-id-2 div.sk-item::before, #sk-container-id-2 div.sk-parallel-item::before {content: \"\";position: absolute;border-left: 1px solid gray;box-sizing: border-box;top: 0;bottom: 0;left: 50%;z-index: -1;}#sk-container-id-2 div.sk-parallel-item {display: flex;flex-direction: column;z-index: 1;position: relative;background-color: white;}#sk-container-id-2 div.sk-parallel-item:first-child::after {align-self: flex-end;width: 50%;}#sk-container-id-2 div.sk-parallel-item:last-child::after {align-self: flex-start;width: 50%;}#sk-container-id-2 div.sk-parallel-item:only-child::after {width: 0;}#sk-container-id-2 div.sk-dashed-wrapped {border: 1px dashed gray;margin: 0 0.4em 0.5em 0.4em;box-sizing: border-box;padding-bottom: 0.4em;background-color: white;}#sk-container-id-2 div.sk-label label {font-family: monospace;font-weight: bold;display: inline-block;line-height: 1.2em;}#sk-container-id-2 div.sk-label-container {text-align: center;}#sk-container-id-2 div.sk-container {/* jupyter's `normalize.less` sets `[hidden] { display: none; }` but bootstrap.min.css set `[hidden] { display: none !important; }` so we also need the `!important` here to be able to override the default hidden behavior on the sphinx rendered scikit-learn.org. See: https://github.com/scikit-learn/scikit-learn/issues/21755 */display: inline-block !important;position: relative;}#sk-container-id-2 div.sk-text-repr-fallback {display: none;}</style><div id=\"sk-container-id-2\" class=\"sk-top-container\"><div class=\"sk-text-repr-fallback\"><pre>Pipeline(steps=[(&#x27;polynomialfeatures&#x27;, PolynomialFeatures(degree=3)),\n",
       "                (&#x27;standardscaler&#x27;, StandardScaler()),\n",
       "                (&#x27;logisticregression&#x27;, LogisticRegression())])</pre><b>In a Jupyter environment, please rerun this cell to show the HTML representation or trust the notebook. <br />On GitHub, the HTML representation is unable to render, please try loading this page with nbviewer.org.</b></div><div class=\"sk-container\" hidden><div class=\"sk-item sk-dashed-wrapped\"><div class=\"sk-label-container\"><div class=\"sk-label sk-toggleable\"><input class=\"sk-toggleable__control sk-hidden--visually\" id=\"sk-estimator-id-5\" type=\"checkbox\" ><label for=\"sk-estimator-id-5\" class=\"sk-toggleable__label sk-toggleable__label-arrow\">Pipeline</label><div class=\"sk-toggleable__content\"><pre>Pipeline(steps=[(&#x27;polynomialfeatures&#x27;, PolynomialFeatures(degree=3)),\n",
       "                (&#x27;standardscaler&#x27;, StandardScaler()),\n",
       "                (&#x27;logisticregression&#x27;, LogisticRegression())])</pre></div></div></div><div class=\"sk-serial\"><div class=\"sk-item\"><div class=\"sk-estimator sk-toggleable\"><input class=\"sk-toggleable__control sk-hidden--visually\" id=\"sk-estimator-id-6\" type=\"checkbox\" ><label for=\"sk-estimator-id-6\" class=\"sk-toggleable__label sk-toggleable__label-arrow\">PolynomialFeatures</label><div class=\"sk-toggleable__content\"><pre>PolynomialFeatures(degree=3)</pre></div></div></div><div class=\"sk-item\"><div class=\"sk-estimator sk-toggleable\"><input class=\"sk-toggleable__control sk-hidden--visually\" id=\"sk-estimator-id-7\" type=\"checkbox\" ><label for=\"sk-estimator-id-7\" class=\"sk-toggleable__label sk-toggleable__label-arrow\">StandardScaler</label><div class=\"sk-toggleable__content\"><pre>StandardScaler()</pre></div></div></div><div class=\"sk-item\"><div class=\"sk-estimator sk-toggleable\"><input class=\"sk-toggleable__control sk-hidden--visually\" id=\"sk-estimator-id-8\" type=\"checkbox\" ><label for=\"sk-estimator-id-8\" class=\"sk-toggleable__label sk-toggleable__label-arrow\">LogisticRegression</label><div class=\"sk-toggleable__content\"><pre>LogisticRegression()</pre></div></div></div></div></div></div></div>"
      ],
      "text/plain": [
       "Pipeline(steps=[('polynomialfeatures', PolynomialFeatures(degree=3)),\n",
       "                ('standardscaler', StandardScaler()),\n",
       "                ('logisticregression', LogisticRegression())])"
      ]
     },
     "execution_count": 32,
     "metadata": {},
     "output_type": "execute_result"
    }
   ],
   "source": [
    "# your code here\n",
    "lr_model = make_pipeline(PolynomialFeatures(degree = 3), StandardScaler(),LogisticRegression())\n",
    "\n",
    "lr_model.fit(X_train_pw, y_train_versicolor)"
   ]
  },
  {
   "cell_type": "code",
   "execution_count": 33,
   "id": "e0be1621",
   "metadata": {
    "deletable": false,
    "editable": false,
    "nbgrader": {
     "cell_type": "code",
     "checksum": "6d7f6c392cbc40bc924b45f1367204df",
     "grade": true,
     "grade_id": "cell-34be183f6d0cc6e9",
     "locked": true,
     "points": 1,
     "schema_version": 3,
     "solution": false,
     "task": false
    }
   },
   "outputs": [],
   "source": [
    "##Check whether steps for lr_model are correct\n",
    "\n",
    "assert isinstance(lr_model.steps[0][1], PolynomialFeatures)\n",
    "\n",
    "assert isinstance(lr_model.steps[1][1], StandardScaler)\n",
    "\n",
    "assert isinstance(lr_model.steps[2][1], LogisticRegression)"
   ]
  },
  {
   "cell_type": "markdown",
   "id": "8aaf72b6",
   "metadata": {
    "deletable": false,
    "editable": false,
    "nbgrader": {
     "cell_type": "markdown",
     "checksum": "87d6ad5f8b38e06dda3d76d69535db84",
     "grade": false,
     "grade_id": "cell-56cfb836f2698767",
     "locked": true,
     "schema_version": 3,
     "solution": false,
     "task": false
    }
   },
   "source": [
    "## Make Predictions on Testing Data\n",
    "\n",
    "Having fit the model/pipeline, make predictions on the testing data, `X_test_pw`. Assign your predictions to the variable `yhat_versicolor`."
   ]
  },
  {
   "cell_type": "code",
   "execution_count": 34,
   "id": "953fd426",
   "metadata": {
    "deletable": false,
    "nbgrader": {
     "cell_type": "code",
     "checksum": "4c566a4e5a51025c7b0008d16f8a7577",
     "grade": false,
     "grade_id": "cell-ee37e693bb80b0ba",
     "locked": false,
     "schema_version": 3,
     "solution": true,
     "task": false
    }
   },
   "outputs": [],
   "source": [
    "# your code here\n",
    "yhat_versicolor = lr_model.predict(X_test_pw)"
   ]
  },
  {
   "cell_type": "code",
   "execution_count": 35,
   "id": "14185f53",
   "metadata": {
    "deletable": false,
    "editable": false,
    "nbgrader": {
     "cell_type": "code",
     "checksum": "8036aa0b7bc2506b6b33175d233b8c9e",
     "grade": true,
     "grade_id": "cell-6c0c2a95cab6a77f",
     "locked": true,
     "points": 1,
     "schema_version": 3,
     "solution": false,
     "task": false
    }
   },
   "outputs": [],
   "source": [
    "## test whether the first 10 elements of yhat_versicolor are correct:\n",
    "assert np.isclose(yhat_versicolor[:10], np.array([1, 1, 0, 0, 1, 0, 0, 0, 1, 0])).sum() == 10\n"
   ]
  },
  {
   "cell_type": "markdown",
   "id": "f820bc58",
   "metadata": {
    "deletable": false,
    "editable": false,
    "nbgrader": {
     "cell_type": "markdown",
     "checksum": "2ebf49ba76e057025fd369dcc2f27d25",
     "grade": false,
     "grade_id": "cell-36c605640de8bae8",
     "locked": true,
     "schema_version": 3,
     "solution": false,
     "task": false
    }
   },
   "source": [
    "\n",
    "## Graphically Characterize Results\n",
    "\n",
    "Reproduce (in essence) the following figure that visually depicts the testing observations along with the model-predicted probability that an instace belongs or does not belong to the Iris versicolor class, based on petal width.\n",
    "\n",
    "<img src=\"versicolor_probs_1feature.png\" alt=\"Versicolor results\" style=\"width:800px;\"/>\n"
   ]
  },
  {
   "cell_type": "code",
   "execution_count": 36,
   "id": "9e4186f0",
   "metadata": {
    "deletable": false,
    "nbgrader": {
     "cell_type": "code",
     "checksum": "9ba54c4c978b4cf5993545a0692bafbf",
     "grade": true,
     "grade_id": "cell-7df3a637ec7cc8b2",
     "locked": false,
     "points": 3,
     "schema_version": 3,
     "solution": true,
     "task": false
    }
   },
   "outputs": [
    {
     "name": "stderr",
     "output_type": "stream",
     "text": [
      "/usr/local/lib/python3.8/dist-packages/sklearn/base.py:465: UserWarning: X does not have valid feature names, but PolynomialFeatures was fitted with feature names\n",
      "  warnings.warn(\n"
     ]
    },
    {
     "data": {
      "text/plain": [
       "Text(0, 0.5, 'Probability/Category')"
      ]
     },
     "execution_count": 36,
     "metadata": {},
     "output_type": "execute_result"
    },
    {
     "data": {
      "image/png": "[encoded data removed]",
      "text/plain": [
       "<Figure size 1080x360 with 1 Axes>"
      ]
     },
     "metadata": {
      "needs_background": "light"
     },
     "output_type": "display_data"
    }
   ],
   "source": [
    "# your code here\n",
    "\n",
    "x_display = np.linspace(X_test_pw.min(), X_test_pw.max(), 1000).reshape(-1, 1)\n",
    "\n",
    "fig1, ax1 = plt.subplots(figsize = (15, 5))\n",
    "\n",
    "\n",
    "jitter_strength = 0.02\n",
    "ax1.scatter(X_train_pw[y_train_versicolor == 0],\n",
    "            y_train_versicolor[y_train_versicolor == 0] + np.random.normal(scale = jitter_strength, size = y_train_versicolor[y_train_versicolor == 0].shape),\n",
    "            color ='red', s = 100, alpha = 0.5, edgecolor = 'black')\n",
    "\n",
    "ax1.scatter(X_train_pw[y_train == 1],\n",
    "            y_train_versicolor[y_train_versicolor == 1] + np.random.normal(scale = jitter_strength, size = y_train_versicolor[y_train_versicolor == 1].shape),\n",
    "            color = 'blue', s = 100, alpha = 0.5, edgecolor = 'black')\n",
    "\n",
    "\n",
    "y_display_prob = lr_model.predict_proba(x_display)  \n",
    "\n",
    "ax1.plot(x_display, y_display_prob[:, 1], '-b', linewidth = 3, label = 'Is Iris Versicolor')\n",
    "ax1.plot(x_display, y_display_prob[:, 0], '--r', linewidth = 3, label = 'Is Not')\n",
    "\n",
    "ax1.legend(fontsize = 14)\n",
    "ax1.tick_params(axis = 'both', labelsize = 14)\n",
    "ax1.set_xlabel('Petal Width', fontsize = 14)\n",
    "ax1.set_ylabel('Probability/Category', fontsize = 14)"
   ]
  },
  {
   "cell_type": "markdown",
   "id": "1edb7ba4",
   "metadata": {
    "deletable": false,
    "editable": false,
    "nbgrader": {
     "cell_type": "markdown",
     "checksum": "95829f1639bd56369d773c59a0fd54cc",
     "grade": false,
     "grade_id": "cell-be3da2533191f06f",
     "locked": true,
     "schema_version": 3,
     "solution": false,
     "task": false
    }
   },
   "source": [
    "### Classifier Metrics\n",
    "\n",
    "Using your predictions on the *test* data, report the following metrics assigned to the following variables:\n",
    "\n",
    "1. `precision` = Precision (positive predictive value)\n",
    "2. `recall` = Recall (sensitivity, true positive rate)\n",
    "3. `F1` = F1 Score (Harmonic mean of recall and precision)\n",
    "3. `acc` = Accuracy\n"
   ]
  },
  {
   "cell_type": "code",
   "execution_count": 37,
   "id": "cb002a1e",
   "metadata": {
    "deletable": false,
    "nbgrader": {
     "cell_type": "code",
     "checksum": "9e20f529e5d39de15a1c75d96c54c3a5",
     "grade": false,
     "grade_id": "cell-65665af7db02022d",
     "locked": false,
     "schema_version": 3,
     "solution": true,
     "task": false
    }
   },
   "outputs": [],
   "source": [
    "# your code here\n",
    "from sklearn.metrics import precision_score, recall_score, f1_score, accuracy_score\n",
    "y_pred_versicolor = lr_model.predict(X_test_pw)\n",
    "\n",
    "precision = precision_score(y_test_versicolor, y_pred_versicolor)\n",
    "recall = recall_score(y_test_versicolor, y_pred_versicolor)\n",
    "f1 = f1_score(y_test_versicolor, y_pred_versicolor)\n",
    "acc = accuracy_score(y_test_versicolor, y_pred_versicolor)"
   ]
  },
  {
   "cell_type": "code",
   "execution_count": 38,
   "id": "1ccb07de",
   "metadata": {
    "deletable": false,
    "editable": false,
    "nbgrader": {
     "cell_type": "code",
     "checksum": "c2b53fee308f7cdc99e6c836554f6173",
     "grade": true,
     "grade_id": "cell-4755b51a3d059b94",
     "locked": true,
     "points": 1,
     "schema_version": 3,
     "solution": false,
     "task": false
    }
   },
   "outputs": [],
   "source": [
    "## test whether the 2nd and 3rd decimal digits of precision are 23\n",
    "assert np.mod(int(np.floor(precision * 10**3)), 100) == 23\n",
    "\n",
    "## test whether the 2nd and 3rd decimal digits of recall are 60\n",
    "assert np.mod(int(np.floor(recall * 10**3)), 100) == 60\n",
    "\n",
    "## test whether the 2nd and 3rd decimal digits of f1 are 41\n",
    "assert np.mod(int(np.floor(f1 * 10**3)), 100) == 41\n",
    "\n",
    "## test whether the 2nd and 3rd decimal digits of acc are 60\n",
    "assert np.mod(int(np.floor(acc * 10**3)), 100) == 60"
   ]
  },
  {
   "cell_type": "code",
   "execution_count": 39,
   "id": "46d5772c",
   "metadata": {
    "deletable": false,
    "editable": false,
    "nbgrader": {
     "cell_type": "code",
     "checksum": "3c4963b37b6160af12e4256cb263ed8b",
     "grade": true,
     "grade_id": "cell-1b80890fc23de875",
     "locked": true,
     "points": 2,
     "schema_version": 3,
     "solution": false,
     "task": false
    }
   },
   "outputs": [],
   "source": [
    "## test whether precision, recall, f1, and acc are correct (hidden tests)\n"
   ]
  },
  {
   "cell_type": "markdown",
   "id": "9706721e",
   "metadata": {
    "deletable": false,
    "editable": false,
    "nbgrader": {
     "cell_type": "markdown",
     "checksum": "c51f95dfd56c63a265d059d9cb9087a9",
     "grade": false,
     "grade_id": "cell-9be1b3b6adfcbd6e",
     "locked": true,
     "schema_version": 3,
     "solution": false,
     "task": false
    }
   },
   "source": [
    "## Logistic Regression (i.e., Multinomial Regression) for All Species\n",
    "\n",
    "Basic logistic regression cannot be used in a classification problem with more than 2 classes. However, we can create an ensemble of one-vs-rest logistic models for a multi-class problem.\n",
    "\n",
    "We can also perform multinomial logistic regression (this is assured simply by setting the parameter `multi_class = \"multinomial\"` when we create the logistic regression model).\n",
    "\n",
    "#### Re-fit and Predict\n",
    "\n",
    "Re-fit the `lr_model` model using petal width as the only predictor, but with all three classes of Iris included in the output (target).\n",
    "\n",
    "Predict the Iris class on the *testing* data (just petal width), and assign the result to `yhat_all`."
   ]
  },
  {
   "cell_type": "code",
   "execution_count": 40,
   "id": "737fbc1d",
   "metadata": {
    "deletable": false,
    "nbgrader": {
     "cell_type": "code",
     "checksum": "7a68d5e74af47ef6a876ccb1d9b9392a",
     "grade": false,
     "grade_id": "cell-cb359d562d68377f",
     "locked": false,
     "schema_version": 3,
     "solution": true,
     "task": false
    }
   },
   "outputs": [],
   "source": [
    "# your code here\n",
    "lr_multinomial_model = make_pipeline(PolynomialFeatures(degree = 3),StandardScaler(),LogisticRegression(multi_class = 'multinomial'))\n",
    "\n",
    "lr_multinomial_model.fit(X_train_pw, y_train) \n",
    "\n",
    "yhat_all = lr_multinomial_model.predict(X_test_pw) "
   ]
  },
  {
   "cell_type": "code",
   "execution_count": 41,
   "id": "f143ca11",
   "metadata": {
    "deletable": false,
    "editable": false,
    "nbgrader": {
     "cell_type": "code",
     "checksum": "ba406874c9671cbcc5cd49d3567fc8b6",
     "grade": true,
     "grade_id": "cell-1576c425d99c419b",
     "locked": true,
     "points": 1,
     "schema_version": 3,
     "solution": false,
     "task": false
    }
   },
   "outputs": [],
   "source": [
    "## test whether the first 10 elements of yhat_versicolor are correct:\n",
    "assert np.isclose(yhat_all[:10], np.array([1, 1, 2, 0, 1, 0, 0, 0, 1, 2])).sum() == 10\n"
   ]
  },
  {
   "cell_type": "markdown",
   "id": "12fd787c",
   "metadata": {
    "deletable": false,
    "editable": false,
    "nbgrader": {
     "cell_type": "markdown",
     "checksum": "0412c7ecbf2c8a92ed0417a188a53ccf",
     "grade": false,
     "grade_id": "cell-7c8777feb1ee19d0",
     "locked": true,
     "schema_version": 3,
     "solution": false,
     "task": false
    }
   },
   "source": [
    "## Graphically Characterize Results for Multinomial Regression\n",
    "\n",
    "Reproduce (in essence) the following figure that visually depicts the testing observations along with the model-predicted probability that an instace belongs to each possible class, based on petal width.\n",
    "\n",
    "<img src=\"all_probs_1feature.png\" alt=\"All species results\" style=\"width:800px;\"/>"
   ]
  },
  {
   "cell_type": "code",
   "execution_count": 49,
   "id": "16b5ff53",
   "metadata": {
    "deletable": false,
    "nbgrader": {
     "cell_type": "code",
     "checksum": "6eb8cbe9749a52e871fd81f57ae421cc",
     "grade": true,
     "grade_id": "cell-6f2325f31f0e15a5",
     "locked": false,
     "points": 3,
     "schema_version": 3,
     "solution": true,
     "task": false
    }
   },
   "outputs": [
    {
     "name": "stderr",
     "output_type": "stream",
     "text": [
      "/usr/local/lib/python3.8/dist-packages/sklearn/base.py:465: UserWarning: X does not have valid feature names, but PolynomialFeatures was fitted with feature names\n",
      "  warnings.warn(\n"
     ]
    },
    {
     "data": {
      "text/plain": [
       "Text(0, 0.5, 'Probability/Category')"
      ]
     },
     "execution_count": 49,
     "metadata": {},
     "output_type": "execute_result"
    },
    {
     "data": {
      "image/png": "[encoded data removed]",
      "text/plain": [
       "<Figure size 1080x360 with 1 Axes>"
      ]
     },
     "metadata": {
      "needs_background": "light"
     },
     "output_type": "display_data"
    }
   ],
   "source": [
    "fig1, ax1 = plt.subplots(figsize = (15, 5))\n",
    "\n",
    "\n",
    "jitter_strength = 1\n",
    "ax1.scatter(X_train_pw[y_train == 0], \n",
    "            np.zeros_like(y_train[y_train == 0]) + np.random.normal(scale=jitter_strength, size=y_train[y_train == 0].shape),\n",
    "            color='green', s=100, alpha=0.5, edgecolor='black')\n",
    "\n",
    "ax1.scatter(X_train_pw[y_train == 1],\n",
    "            np.ones_like(y_train[y_train == 1]) + np.random.normal(scale=jitter_strength, size=y_train[y_train == 1].shape),\n",
    "            color='red', s=100, alpha=0.5, edgecolor='black')\n",
    "\n",
    "ax1.scatter(X_train_pw[y_train == 2],\n",
    "            np.ones_like(y_train[y_train == 2])*2 + np.random.normal(scale=jitter_strength, size=y_train[y_train == 2].shape),\n",
    "            color='blue', s=100, alpha=0.5, edgecolor='black')\n",
    "\n",
    "\n",
    "y_prob = lr_multinomial_model.predict_proba(x_display)\n",
    "\n",
    "ax1.plot(x_display, y_prob[:, 0], '-g', linewidth = 3, label = 'Iris Setosa')\n",
    "ax1.plot(x_display, y_prob[:, 1], '-r', linewidth = 3, label = 'Iris Versicolor')\n",
    "ax1.plot(x_display, y_prob[:, 2], '-b', linewidth = 3, label = 'Iris Virginica')\n",
    "\n",
    "        \n",
    "ax1.legend(fontsize = 14)\n",
    "ax1.tick_params(axis = 'both', labelsize = 14)\n",
    "ax1.set_xlabel('Petal Width', fontsize = 14)\n",
    "ax1.set_ylabel('Probability/Category', fontsize = 14)\n"
   ]
  },
  {
   "cell_type": "markdown",
   "id": "4d694b2c",
   "metadata": {
    "deletable": false,
    "editable": false,
    "nbgrader": {
     "cell_type": "markdown",
     "checksum": "7d6b50ced76f2a6de73509a007d1f45d",
     "grade": false,
     "grade_id": "cell-9d3371979a20421f",
     "locked": true,
     "schema_version": 3,
     "solution": false,
     "task": false
    }
   },
   "source": [
    "## Multinomial Regression with Two Features\n",
    "\n",
    "Finally, perform multinomial logistic regression to classify flowers as either Iris Setosa, Iris Versicolor, or Iris Verginica, using only **sepal length and sepal width** as your predictors.\n",
    "\n",
    "Train the model using the training data, and then make predictions on (what else) the test data.\n",
    "\n",
    "Save the predictions as variable `yhat`.\n",
    "\n",
    "Report the overall accuracy of the model (on the test data) as `acc`.\n",
    "\n",
    "Note that the accuracy of this model will be appreciable less than the model above that used only a single feature. That's because we are using two rather poor predictors, sepal length and sepal width."
   ]
  },
  {
   "cell_type": "code",
   "execution_count": 20,
   "id": "1ce9d235",
   "metadata": {
    "deletable": false,
    "nbgrader": {
     "cell_type": "code",
     "checksum": "8339ecf5233106a4bb9368de059232cf",
     "grade": false,
     "grade_id": "cell-1df4d21cad6fd26a",
     "locked": false,
     "schema_version": 3,
     "solution": true,
     "task": false
    }
   },
   "outputs": [],
   "source": [
    "# your code here\n",
    "X_sl_sw = df[['sepal length (cm)', 'sepal width (cm)']]\n",
    "\n",
    "X_train_sl_sw, X_test_sl_sw, y_train, y_test = train_test_split(X_sl_sw, y, test_size = 0.5, random_state = 1234)\n",
    "\n",
    "lr_model_sl_sw = make_pipeline(PolynomialFeatures(degree = 3),StandardScaler(),LogisticRegression(multi_class = 'multinomial'))\n",
    "\n",
    "lr_model_sl_sw.fit(X_train_sl_sw, y_train)\n",
    "\n",
    "yhat = lr_model_sl_sw.predict(X_test_sl_sw)\n",
    "\n",
    "acc = accuracy_score(y_test, yhat)"
   ]
  },
  {
   "cell_type": "code",
   "execution_count": 21,
   "id": "f696fd23",
   "metadata": {
    "deletable": false,
    "editable": false,
    "nbgrader": {
     "cell_type": "code",
     "checksum": "29a1e001cddb5f72d3f0f7caf6138ff9",
     "grade": true,
     "grade_id": "cell-f2447690eb808284",
     "locked": true,
     "points": 1,
     "schema_version": 3,
     "solution": false,
     "task": false
    }
   },
   "outputs": [],
   "source": [
    "## test whether 2th and 3rd decimal digits of acc are 13\n",
    "assert np.mod(int(np.floor(acc * 10**3)), 100) == 13"
   ]
  },
  {
   "cell_type": "code",
   "execution_count": 22,
   "id": "45b08de8",
   "metadata": {
    "deletable": false,
    "editable": false,
    "nbgrader": {
     "cell_type": "code",
     "checksum": "f3cf0051daabaddce047c70b6e2d2874",
     "grade": true,
     "grade_id": "cell-d248970895869b41",
     "locked": true,
     "points": 2,
     "schema_version": 3,
     "solution": false,
     "task": false
    }
   },
   "outputs": [],
   "source": [
    "## test whether acc is correct (hidden tests)\n"
   ]
  },
  {
   "cell_type": "markdown",
   "id": "8e49177b",
   "metadata": {
    "deletable": false,
    "editable": false,
    "nbgrader": {
     "cell_type": "markdown",
     "checksum": "f62a373a6a838042f9bd769ecc1ed6cc",
     "grade": false,
     "grade_id": "cell-3293dbcacb9a21fe",
     "locked": true,
     "schema_version": 3,
     "solution": false,
     "task": false
    }
   },
   "source": [
    "## Decision Surface\n",
    "\n",
    "Make two plots that plot the decision surface and either (1) the training data, or (2) the testing data. Your plots should resemble the following:\n",
    "\n",
    "<img src=\"iris_decision_surface.png\" alt=\"Decision Surface\" style=\"width:800px;\"/>"
   ]
  },
  {
   "cell_type": "code",
   "execution_count": 23,
   "id": "6d10ca0b",
   "metadata": {
    "deletable": false,
    "nbgrader": {
     "cell_type": "code",
     "checksum": "c91304bb2fb0fa562ff7a8a8404ebfc8",
     "grade": true,
     "grade_id": "cell-bb2331352be00d2b",
     "locked": false,
     "points": 4,
     "schema_version": 3,
     "solution": true,
     "task": false
    }
   },
   "outputs": [
    {
     "name": "stderr",
     "output_type": "stream",
     "text": [
      "/usr/local/lib/python3.8/dist-packages/sklearn/base.py:465: UserWarning: X does not have valid feature names, but PolynomialFeatures was fitted with feature names\n",
      "  warnings.warn(\n",
      "/usr/local/lib/python3.8/dist-packages/sklearn/base.py:465: UserWarning: X does not have valid feature names, but PolynomialFeatures was fitted with feature names\n",
      "  warnings.warn(\n"
     ]
    },
    {
     "data": {
      "text/plain": [
       "Text(0, 0.5, 'sepal width (cm)')"
      ]
     },
     "execution_count": 23,
     "metadata": {},
     "output_type": "execute_result"
    },
    {
     "data": {
      "image/png": "[encoded data removed]",
      "text/plain": [
       "<Figure size 1008x504 with 2 Axes>"
      ]
     },
     "metadata": {
      "needs_background": "light"
     },
     "output_type": "display_data"
    }
   ],
   "source": [
    "# your code here\n",
    "from matplotlib.colors import ListedColormap\n",
    "new_cmap = (ListedColormap(['green', 'red', 'blue']))\n",
    "\n",
    "x_min, x_max = X_train_sl_sw.iloc[:, 0].min() - 1, X_train_sl_sw.iloc[:, 0].max() + 1\n",
    "y_min, y_max = X_train_sl_sw.iloc[:, 1].min() - 1, X_train_sl_sw.iloc[:, 1].max() + 1\n",
    "xx, yy = np.meshgrid(np.arange(x_min, x_max, 0.1),np.arange(y_min, y_max, 0.1))\n",
    "\n",
    "# Training data plot\n",
    "plt.figure(figsize = (14, 7))\n",
    "\n",
    "plt.subplot(1, 2, 1)\n",
    "Z = lr_model_sl_sw.predict(np.c_[xx.ravel(), yy.ravel()])\n",
    "Z = Z.reshape(xx.shape)\n",
    "plt.contourf(xx, yy, Z, alpha = 0.4,\n",
    "             cmap = ListedColormap(['green', 'red', 'blue']))\n",
    "plt.scatter(X_train_sl_sw.iloc[:, 0],\n",
    "            X_train_sl_sw.iloc[:, 1],\n",
    "            c = y_train, edgecolors = 'k',\n",
    "            cmap = ListedColormap(['green', 'red', 'blue']))\n",
    "plt.title('Training Data')\n",
    "plt.xlabel('Sepal length (cm)')\n",
    "plt.ylabel('Sepal width (cm)')\n",
    "\n",
    "\n",
    "# Testing data plot\n",
    "plt.subplot(1, 2, 2)\n",
    "Z = lr_model_sl_sw.predict(np.c_[xx.ravel(), yy.ravel()])\n",
    "Z = Z.reshape(xx.shape)\n",
    "plt.contourf(xx, yy, Z, alpha = 0.4,\n",
    "            cmap = ListedColormap(['green', 'red', 'blue']))\n",
    "plt.scatter(X_test_sl_sw.iloc[:, 0],\n",
    "            X_test_sl_sw.iloc[:, 1],\n",
    "            c = y_test, edgecolors = 'k',\n",
    "            cmap = ListedColormap(['green', 'red', 'blue']))\n",
    "plt.title('Testing Data')\n",
    "plt.xlabel('sepal length (cm)')\n",
    "plt.ylabel('sepal width (cm)')\n"
   ]
  },
  {
   "cell_type": "code",
   "execution_count": null,
   "id": "d6333e2d",
   "metadata": {},
   "outputs": [],
   "source": []
  }
 ],
 "metadata": {
  "kernelspec": {
   "display_name": "Python 3 (ipykernel)",
   "language": "python",
   "name": "python3"
  },
  "language_info": {
   "codemirror_mode": {
    "name": "ipython",
    "version": 3
   },
   "file_extension": ".py",
   "mimetype": "text/x-python",
   "name": "python",
   "nbconvert_exporter": "python",
   "pygments_lexer": "ipython3",
   "version": "3.12.3"
  }
 },
 "nbformat": 4,
 "nbformat_minor": 5
}
