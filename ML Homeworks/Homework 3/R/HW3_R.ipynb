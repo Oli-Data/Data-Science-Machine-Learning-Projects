{
 "cells": [
  {
   "cell_type": "markdown",
   "id": "1e2ada11",
   "metadata": {},
   "source": [
    "**IMPORTANT** <br> <ul> <li> Do **NOT** replace or remove this notebook (ipynb file)! Each cell has unique nbgrader's metadata and ID which, if changed outside the nbgrader, cannot pass the tests. Do **NOT** change the name of the file!</li> <li> To receive any credit, don't forget to **SUBMIT** your notebook when you are done! You can have multiple submissions before the deadline; only the last one is saved, including its timestamp.</li> <li>Before submitting, **Validate** your notebook to check if your codes pass all visible tests. </li> <li>Make sure you fill in any cell with the comment `# your code here`. Remove or comment the command `fail()` (in R), or `raise NotImplementedError` (in Python) and place your code there </li> </ul>"
   ]
  },
  {
   "cell_type": "code",
   "execution_count": null,
   "id": "815e74fe",
   "metadata": {},
   "outputs": [],
   "source": [
    "NAME = \"Christian Olivares-Rodriguez\""
   ]
  },
  {
   "cell_type": "markdown",
   "id": "2ed43ee4",
   "metadata": {},
   "source": [
    "---"
   ]
  },
  {
   "cell_type": "code",
   "execution_count": 1,
   "id": "0ae3a87f",
   "metadata": {
    "deletable": false,
    "editable": false,
    "nbgrader": {
     "cell_type": "code",
     "checksum": "a556db6f1d18eb9d3473e12ea053338c",
     "grade": false,
     "grade_id": "cell-4ea9ea7ca2050147",
     "locked": true,
     "schema_version": 3,
     "solution": false,
     "task": false
    }
   },
   "outputs": [],
   "source": [
    "## Import some needed libraries\n",
    "## Make sure you run this code first!\n",
    "\n",
    "library(testthat)\n",
    "library(digest)\n",
    "library(stringr)"
   ]
  },
  {
   "cell_type": "markdown",
   "id": "d3da88c4",
   "metadata": {
    "deletable": false,
    "editable": false,
    "nbgrader": {
     "cell_type": "markdown",
     "checksum": "7957cfaf27a112f81bdccc3610408ef6",
     "grade": false,
     "grade_id": "cell-4b5b223551a0ce39",
     "locked": true,
     "schema_version": 3,
     "solution": false,
     "task": false
    }
   },
   "source": [
    "## Question 1.\n",
    "\n",
    "In HW2 we predicted whether a person has heart disease or not using 14 variables/predictors using the Naive Bayes method in Python. This time, we will use logistic regression in R, and explore regularization a little bit as well, using the `glmnet` library.\n",
    "\n",
    "Since DAT 401 is a prerequisite for DAT 402, this homework assumes some basic familiarity with R, but we will introduce all the glmnet-specific functions, etc.\n",
    "\n",
    "The dataset we use can be found at <https://www.statlearning.com> as the file Heart.csv. \n",
    "\n",
    "Before loading the dataset, we first import some additional libraries needed for this assignment. To do that, run the following cell and take a look at which libraries we use."
   ]
  },
  {
   "cell_type": "code",
   "execution_count": 3,
   "id": "740a2a5b",
   "metadata": {
    "deletable": false,
    "editable": false,
    "nbgrader": {
     "cell_type": "code",
     "checksum": "334b9aafc146541d68be6538230bf0a9",
     "grade": false,
     "grade_id": "cell-a4a039186cc4637f",
     "locked": true,
     "schema_version": 3,
     "solution": false,
     "task": false
    }
   },
   "outputs": [],
   "source": [
    "\n",
    "library(glmnet) #to do logistic regression with regularization\n",
    "library(latex2exp) #used for including some latex in plots\n",
    "library(pROC) #used for plotting ROC curve\n"
   ]
  },
  {
   "cell_type": "markdown",
   "id": "c8001b25",
   "metadata": {
    "deletable": false,
    "editable": false,
    "nbgrader": {
     "cell_type": "markdown",
     "checksum": "f60bed7853fac1f369389a46851e9b3d",
     "grade": false,
     "grade_id": "cell-44c6d8aee5d3627c",
     "locked": true,
     "schema_version": 3,
     "solution": false,
     "task": false
    }
   },
   "source": [
    "\n",
    "### Importing and Cleaning Data\n",
    "\n",
    "\n",
    "<br>\n",
    "\n",
    "\n",
    "Now let's load the dataset. Our output variable will be the final one, `AHD`, which is a binary variable (Yes/No) indicating the presence of angiographic heart disease.\n",
    "\n",
    "Our goal is to predict the value of `AHD` (Yes or No) based on all the other variables."
   ]
  },
  {
   "cell_type": "code",
   "execution_count": 4,
   "id": "6c87cc99",
   "metadata": {
    "deletable": false,
    "editable": false,
    "nbgrader": {
     "cell_type": "code",
     "checksum": "b3e5b74382472e5b162175dd7adf8faf",
     "grade": false,
     "grade_id": "cell-cb6dd85784906a84",
     "locked": true,
     "schema_version": 3,
     "solution": false,
     "task": false
    }
   },
   "outputs": [
    {
     "data": {
      "text/html": [
       "<table class=\"dataframe\">\n",
       "<caption>A data.frame: 6 × 15</caption>\n",
       "<thead>\n",
       "\t<tr><th></th><th scope=col>PatientID</th><th scope=col>Age</th><th scope=col>Sex</th><th scope=col>ChestPain</th><th scope=col>RestBP</th><th scope=col>Chol</th><th scope=col>Fbs</th><th scope=col>RestECG</th><th scope=col>MaxHR</th><th scope=col>ExAng</th><th scope=col>Oldpeak</th><th scope=col>Slope</th><th scope=col>Ca</th><th scope=col>Thal</th><th scope=col>AHD</th></tr>\n",
       "\t<tr><th></th><th scope=col>&lt;int&gt;</th><th scope=col>&lt;int&gt;</th><th scope=col>&lt;int&gt;</th><th scope=col>&lt;fct&gt;</th><th scope=col>&lt;int&gt;</th><th scope=col>&lt;int&gt;</th><th scope=col>&lt;int&gt;</th><th scope=col>&lt;int&gt;</th><th scope=col>&lt;int&gt;</th><th scope=col>&lt;int&gt;</th><th scope=col>&lt;dbl&gt;</th><th scope=col>&lt;int&gt;</th><th scope=col>&lt;int&gt;</th><th scope=col>&lt;fct&gt;</th><th scope=col>&lt;fct&gt;</th></tr>\n",
       "</thead>\n",
       "<tbody>\n",
       "\t<tr><th scope=row>1</th><td>1</td><td>63</td><td>1</td><td>typical     </td><td>145</td><td>233</td><td>1</td><td>2</td><td>150</td><td>0</td><td>2.3</td><td>3</td><td>0</td><td>fixed     </td><td>No </td></tr>\n",
       "\t<tr><th scope=row>2</th><td>2</td><td>67</td><td>1</td><td>asymptomatic</td><td>160</td><td>286</td><td>0</td><td>2</td><td>108</td><td>1</td><td>1.5</td><td>2</td><td>3</td><td>normal    </td><td>Yes</td></tr>\n",
       "\t<tr><th scope=row>3</th><td>3</td><td>67</td><td>1</td><td>asymptomatic</td><td>120</td><td>229</td><td>0</td><td>2</td><td>129</td><td>1</td><td>2.6</td><td>2</td><td>2</td><td>reversable</td><td>Yes</td></tr>\n",
       "\t<tr><th scope=row>4</th><td>4</td><td>37</td><td>1</td><td>nonanginal  </td><td>130</td><td>250</td><td>0</td><td>0</td><td>187</td><td>0</td><td>3.5</td><td>3</td><td>0</td><td>normal    </td><td>No </td></tr>\n",
       "\t<tr><th scope=row>5</th><td>5</td><td>41</td><td>0</td><td>nontypical  </td><td>130</td><td>204</td><td>0</td><td>2</td><td>172</td><td>0</td><td>1.4</td><td>1</td><td>0</td><td>normal    </td><td>No </td></tr>\n",
       "\t<tr><th scope=row>6</th><td>6</td><td>56</td><td>1</td><td>nontypical  </td><td>120</td><td>236</td><td>0</td><td>0</td><td>178</td><td>0</td><td>0.8</td><td>1</td><td>0</td><td>normal    </td><td>No </td></tr>\n",
       "</tbody>\n",
       "</table>\n"
      ],
      "text/latex": [
       "A data.frame: 6 × 15\n",
       "\\begin{tabular}{r|lllllllllllllll}\n",
       "  & PatientID & Age & Sex & ChestPain & RestBP & Chol & Fbs & RestECG & MaxHR & ExAng & Oldpeak & Slope & Ca & Thal & AHD\\\\\n",
       "  & <int> & <int> & <int> & <fct> & <int> & <int> & <int> & <int> & <int> & <int> & <dbl> & <int> & <int> & <fct> & <fct>\\\\\n",
       "\\hline\n",
       "\t1 & 1 & 63 & 1 & typical      & 145 & 233 & 1 & 2 & 150 & 0 & 2.3 & 3 & 0 & fixed      & No \\\\\n",
       "\t2 & 2 & 67 & 1 & asymptomatic & 160 & 286 & 0 & 2 & 108 & 1 & 1.5 & 2 & 3 & normal     & Yes\\\\\n",
       "\t3 & 3 & 67 & 1 & asymptomatic & 120 & 229 & 0 & 2 & 129 & 1 & 2.6 & 2 & 2 & reversable & Yes\\\\\n",
       "\t4 & 4 & 37 & 1 & nonanginal   & 130 & 250 & 0 & 0 & 187 & 0 & 3.5 & 3 & 0 & normal     & No \\\\\n",
       "\t5 & 5 & 41 & 0 & nontypical   & 130 & 204 & 0 & 2 & 172 & 0 & 1.4 & 1 & 0 & normal     & No \\\\\n",
       "\t6 & 6 & 56 & 1 & nontypical   & 120 & 236 & 0 & 0 & 178 & 0 & 0.8 & 1 & 0 & normal     & No \\\\\n",
       "\\end{tabular}\n"
      ],
      "text/markdown": [
       "\n",
       "A data.frame: 6 × 15\n",
       "\n",
       "| <!--/--> | PatientID &lt;int&gt; | Age &lt;int&gt; | Sex &lt;int&gt; | ChestPain &lt;fct&gt; | RestBP &lt;int&gt; | Chol &lt;int&gt; | Fbs &lt;int&gt; | RestECG &lt;int&gt; | MaxHR &lt;int&gt; | ExAng &lt;int&gt; | Oldpeak &lt;dbl&gt; | Slope &lt;int&gt; | Ca &lt;int&gt; | Thal &lt;fct&gt; | AHD &lt;fct&gt; |\n",
       "|---|---|---|---|---|---|---|---|---|---|---|---|---|---|---|---|\n",
       "| 1 | 1 | 63 | 1 | typical      | 145 | 233 | 1 | 2 | 150 | 0 | 2.3 | 3 | 0 | fixed      | No  |\n",
       "| 2 | 2 | 67 | 1 | asymptomatic | 160 | 286 | 0 | 2 | 108 | 1 | 1.5 | 2 | 3 | normal     | Yes |\n",
       "| 3 | 3 | 67 | 1 | asymptomatic | 120 | 229 | 0 | 2 | 129 | 1 | 2.6 | 2 | 2 | reversable | Yes |\n",
       "| 4 | 4 | 37 | 1 | nonanginal   | 130 | 250 | 0 | 0 | 187 | 0 | 3.5 | 3 | 0 | normal     | No  |\n",
       "| 5 | 5 | 41 | 0 | nontypical   | 130 | 204 | 0 | 2 | 172 | 0 | 1.4 | 1 | 0 | normal     | No  |\n",
       "| 6 | 6 | 56 | 1 | nontypical   | 120 | 236 | 0 | 0 | 178 | 0 | 0.8 | 1 | 0 | normal     | No  |\n",
       "\n"
      ],
      "text/plain": [
       "  PatientID Age Sex ChestPain    RestBP Chol Fbs RestECG MaxHR ExAng Oldpeak\n",
       "1 1         63  1   typical      145    233  1   2       150   0     2.3    \n",
       "2 2         67  1   asymptomatic 160    286  0   2       108   1     1.5    \n",
       "3 3         67  1   asymptomatic 120    229  0   2       129   1     2.6    \n",
       "4 4         37  1   nonanginal   130    250  0   0       187   0     3.5    \n",
       "5 5         41  0   nontypical   130    204  0   2       172   0     1.4    \n",
       "6 6         56  1   nontypical   120    236  0   0       178   0     0.8    \n",
       "  Slope Ca Thal       AHD\n",
       "1 3     0  fixed      No \n",
       "2 2     3  normal     Yes\n",
       "3 2     2  reversable Yes\n",
       "4 3     0  normal     No \n",
       "5 1     0  normal     No \n",
       "6 1     0  normal     No "
      ]
     },
     "metadata": {},
     "output_type": "display_data"
    },
    {
     "data": {
      "text/html": [
       "<style>\n",
       ".list-inline {list-style: none; margin:0; padding: 0}\n",
       ".list-inline>li {display: inline-block}\n",
       ".list-inline>li:not(:last-child)::after {content: \"\\00b7\"; padding: 0 .5ex}\n",
       "</style>\n",
       "<ol class=list-inline><li>303</li><li>15</li></ol>\n"
      ],
      "text/latex": [
       "\\begin{enumerate*}\n",
       "\\item 303\n",
       "\\item 15\n",
       "\\end{enumerate*}\n"
      ],
      "text/markdown": [
       "1. 303\n",
       "2. 15\n",
       "\n",
       "\n"
      ],
      "text/plain": [
       "[1] 303  15"
      ]
     },
     "metadata": {},
     "output_type": "display_data"
    }
   ],
   "source": [
    "\n",
    "heart = read.csv(\"Heart.csv\")\n",
    "head(heart)\n",
    "dim(heart)\n",
    "\n"
   ]
  },
  {
   "cell_type": "markdown",
   "id": "30164677",
   "metadata": {
    "deletable": false,
    "editable": false,
    "nbgrader": {
     "cell_type": "markdown",
     "checksum": "5e92e02108dd83c3afc2c268865a9453",
     "grade": false,
     "grade_id": "cell-6699c78e0b540bc1",
     "locked": true,
     "schema_version": 3,
     "solution": false,
     "task": false
    }
   },
   "source": [
    "Our R data frame object `heart` has some missing values, although only 6. Run the following code cells to see this."
   ]
  },
  {
   "cell_type": "code",
   "execution_count": 5,
   "id": "d122d6aa",
   "metadata": {
    "deletable": false,
    "editable": false,
    "nbgrader": {
     "cell_type": "code",
     "checksum": "6e396cdb5be2ad0d5bca401c81f37488",
     "grade": false,
     "grade_id": "cell-09a18c23ed9149ff",
     "locked": true,
     "schema_version": 3,
     "solution": false,
     "task": false
    }
   },
   "outputs": [
    {
     "data": {
      "text/html": [
       "6"
      ],
      "text/latex": [
       "6"
      ],
      "text/markdown": [
       "6"
      ],
      "text/plain": [
       "[1] 6"
      ]
     },
     "metadata": {},
     "output_type": "display_data"
    }
   ],
   "source": [
    "#Total missing values:\n",
    "sum(is.na(heart))"
   ]
  },
  {
   "cell_type": "code",
   "execution_count": 6,
   "id": "2a62d1a2",
   "metadata": {
    "deletable": false,
    "editable": false,
    "nbgrader": {
     "cell_type": "code",
     "checksum": "069b67e302aa016abbaed36375ee44fa",
     "grade": false,
     "grade_id": "cell-5511cf85f0c89f12",
     "locked": true,
     "schema_version": 3,
     "solution": false,
     "task": false
    }
   },
   "outputs": [
    {
     "data": {
      "text/html": [
       "<style>\n",
       ".dl-inline {width: auto; margin:0; padding: 0}\n",
       ".dl-inline>dt, .dl-inline>dd {float: none; width: auto; display: inline-block}\n",
       ".dl-inline>dt::after {content: \":\\0020\"; padding-right: .5ex}\n",
       ".dl-inline>dt:not(:first-of-type) {padding-left: .5ex}\n",
       "</style><dl class=dl-inline><dt>PatientID</dt><dd>0</dd><dt>Age</dt><dd>0</dd><dt>Sex</dt><dd>0</dd><dt>ChestPain</dt><dd>0</dd><dt>RestBP</dt><dd>0</dd><dt>Chol</dt><dd>0</dd><dt>Fbs</dt><dd>0</dd><dt>RestECG</dt><dd>0</dd><dt>MaxHR</dt><dd>0</dd><dt>ExAng</dt><dd>0</dd><dt>Oldpeak</dt><dd>0</dd><dt>Slope</dt><dd>0</dd><dt>Ca</dt><dd>4</dd><dt>Thal</dt><dd>2</dd><dt>AHD</dt><dd>0</dd></dl>\n"
      ],
      "text/latex": [
       "\\begin{description*}\n",
       "\\item[PatientID] 0\n",
       "\\item[Age] 0\n",
       "\\item[Sex] 0\n",
       "\\item[ChestPain] 0\n",
       "\\item[RestBP] 0\n",
       "\\item[Chol] 0\n",
       "\\item[Fbs] 0\n",
       "\\item[RestECG] 0\n",
       "\\item[MaxHR] 0\n",
       "\\item[ExAng] 0\n",
       "\\item[Oldpeak] 0\n",
       "\\item[Slope] 0\n",
       "\\item[Ca] 4\n",
       "\\item[Thal] 2\n",
       "\\item[AHD] 0\n",
       "\\end{description*}\n"
      ],
      "text/markdown": [
       "PatientID\n",
       ":   0Age\n",
       ":   0Sex\n",
       ":   0ChestPain\n",
       ":   0RestBP\n",
       ":   0Chol\n",
       ":   0Fbs\n",
       ":   0RestECG\n",
       ":   0MaxHR\n",
       ":   0ExAng\n",
       ":   0Oldpeak\n",
       ":   0Slope\n",
       ":   0Ca\n",
       ":   4Thal\n",
       ":   2AHD\n",
       ":   0\n",
       "\n"
      ],
      "text/plain": [
       "PatientID       Age       Sex ChestPain    RestBP      Chol       Fbs   RestECG \n",
       "        0         0         0         0         0         0         0         0 \n",
       "    MaxHR     ExAng   Oldpeak     Slope        Ca      Thal       AHD \n",
       "        0         0         0         0         4         2         0 "
      ]
     },
     "metadata": {},
     "output_type": "display_data"
    }
   ],
   "source": [
    "#Missing values by column:\n",
    "apply(is.na(heart), MARGIN=2, FUN=sum)"
   ]
  },
  {
   "cell_type": "markdown",
   "id": "b1329b2d",
   "metadata": {
    "deletable": false,
    "editable": false,
    "nbgrader": {
     "cell_type": "markdown",
     "checksum": "925cbb13bb4030c5f0f72615de60baca",
     "grade": false,
     "grade_id": "cell-43778ae0e5aa8754",
     "locked": true,
     "schema_version": 3,
     "solution": false,
     "task": false
    }
   },
   "source": [
    "\n",
    "### Part (a)\n",
    "\n",
    "<br>\n",
    "\n",
    "Let's deal with missing observations. As usual, one option is imputation. Since both our variables with missing data are categorical, we can impute using the mode. The following snippet of code would do so for the `Ca` variable:\n",
    "\n",
    "```\n",
    "most_freq = as.integer(names(sort(table(heart['Ca']), decreasing = TRUE)[1]))\n",
    "\n",
    "heart[is.na(heart['Ca']),'Ca'] = most_freq\n",
    "```\n",
    "\n",
    "However, let's just keep things simple and drop the observations (rows) that contain missing data.\n",
    "\n",
    "Change the data frame `heart` by dropping/omitting the rows with missing values (use the same name \"heart\" for the modified data frame). So, your code should be of the form\n",
    "\n",
    "`heart = <some expression>`\n",
    "\n",
    "<br>\n",
    "\n",
    "The modified `heart` dataframe should have 297 rows/obs. "
   ]
  },
  {
   "cell_type": "code",
   "execution_count": 7,
   "id": "14e39975",
   "metadata": {
    "deletable": false,
    "nbgrader": {
     "cell_type": "code",
     "checksum": "cb0363eee9448bf344bd0d7a6d2bce8d",
     "grade": false,
     "grade_id": "cell-fcf795dde2880b3f",
     "locked": false,
     "schema_version": 3,
     "solution": true,
     "task": false
    }
   },
   "outputs": [
    {
     "data": {
      "text/html": [
       "<table class=\"dataframe\">\n",
       "<caption>A data.frame: 6 × 15</caption>\n",
       "<thead>\n",
       "\t<tr><th></th><th scope=col>PatientID</th><th scope=col>Age</th><th scope=col>Sex</th><th scope=col>ChestPain</th><th scope=col>RestBP</th><th scope=col>Chol</th><th scope=col>Fbs</th><th scope=col>RestECG</th><th scope=col>MaxHR</th><th scope=col>ExAng</th><th scope=col>Oldpeak</th><th scope=col>Slope</th><th scope=col>Ca</th><th scope=col>Thal</th><th scope=col>AHD</th></tr>\n",
       "\t<tr><th></th><th scope=col>&lt;int&gt;</th><th scope=col>&lt;int&gt;</th><th scope=col>&lt;int&gt;</th><th scope=col>&lt;fct&gt;</th><th scope=col>&lt;int&gt;</th><th scope=col>&lt;int&gt;</th><th scope=col>&lt;int&gt;</th><th scope=col>&lt;int&gt;</th><th scope=col>&lt;int&gt;</th><th scope=col>&lt;int&gt;</th><th scope=col>&lt;dbl&gt;</th><th scope=col>&lt;int&gt;</th><th scope=col>&lt;int&gt;</th><th scope=col>&lt;fct&gt;</th><th scope=col>&lt;fct&gt;</th></tr>\n",
       "</thead>\n",
       "<tbody>\n",
       "\t<tr><th scope=row>1</th><td>1</td><td>63</td><td>1</td><td>typical     </td><td>145</td><td>233</td><td>1</td><td>2</td><td>150</td><td>0</td><td>2.3</td><td>3</td><td>0</td><td>fixed     </td><td>No </td></tr>\n",
       "\t<tr><th scope=row>2</th><td>2</td><td>67</td><td>1</td><td>asymptomatic</td><td>160</td><td>286</td><td>0</td><td>2</td><td>108</td><td>1</td><td>1.5</td><td>2</td><td>3</td><td>normal    </td><td>Yes</td></tr>\n",
       "\t<tr><th scope=row>3</th><td>3</td><td>67</td><td>1</td><td>asymptomatic</td><td>120</td><td>229</td><td>0</td><td>2</td><td>129</td><td>1</td><td>2.6</td><td>2</td><td>2</td><td>reversable</td><td>Yes</td></tr>\n",
       "\t<tr><th scope=row>4</th><td>4</td><td>37</td><td>1</td><td>nonanginal  </td><td>130</td><td>250</td><td>0</td><td>0</td><td>187</td><td>0</td><td>3.5</td><td>3</td><td>0</td><td>normal    </td><td>No </td></tr>\n",
       "\t<tr><th scope=row>5</th><td>5</td><td>41</td><td>0</td><td>nontypical  </td><td>130</td><td>204</td><td>0</td><td>2</td><td>172</td><td>0</td><td>1.4</td><td>1</td><td>0</td><td>normal    </td><td>No </td></tr>\n",
       "\t<tr><th scope=row>6</th><td>6</td><td>56</td><td>1</td><td>nontypical  </td><td>120</td><td>236</td><td>0</td><td>0</td><td>178</td><td>0</td><td>0.8</td><td>1</td><td>0</td><td>normal    </td><td>No </td></tr>\n",
       "</tbody>\n",
       "</table>\n"
      ],
      "text/latex": [
       "A data.frame: 6 × 15\n",
       "\\begin{tabular}{r|lllllllllllllll}\n",
       "  & PatientID & Age & Sex & ChestPain & RestBP & Chol & Fbs & RestECG & MaxHR & ExAng & Oldpeak & Slope & Ca & Thal & AHD\\\\\n",
       "  & <int> & <int> & <int> & <fct> & <int> & <int> & <int> & <int> & <int> & <int> & <dbl> & <int> & <int> & <fct> & <fct>\\\\\n",
       "\\hline\n",
       "\t1 & 1 & 63 & 1 & typical      & 145 & 233 & 1 & 2 & 150 & 0 & 2.3 & 3 & 0 & fixed      & No \\\\\n",
       "\t2 & 2 & 67 & 1 & asymptomatic & 160 & 286 & 0 & 2 & 108 & 1 & 1.5 & 2 & 3 & normal     & Yes\\\\\n",
       "\t3 & 3 & 67 & 1 & asymptomatic & 120 & 229 & 0 & 2 & 129 & 1 & 2.6 & 2 & 2 & reversable & Yes\\\\\n",
       "\t4 & 4 & 37 & 1 & nonanginal   & 130 & 250 & 0 & 0 & 187 & 0 & 3.5 & 3 & 0 & normal     & No \\\\\n",
       "\t5 & 5 & 41 & 0 & nontypical   & 130 & 204 & 0 & 2 & 172 & 0 & 1.4 & 1 & 0 & normal     & No \\\\\n",
       "\t6 & 6 & 56 & 1 & nontypical   & 120 & 236 & 0 & 0 & 178 & 0 & 0.8 & 1 & 0 & normal     & No \\\\\n",
       "\\end{tabular}\n"
      ],
      "text/markdown": [
       "\n",
       "A data.frame: 6 × 15\n",
       "\n",
       "| <!--/--> | PatientID &lt;int&gt; | Age &lt;int&gt; | Sex &lt;int&gt; | ChestPain &lt;fct&gt; | RestBP &lt;int&gt; | Chol &lt;int&gt; | Fbs &lt;int&gt; | RestECG &lt;int&gt; | MaxHR &lt;int&gt; | ExAng &lt;int&gt; | Oldpeak &lt;dbl&gt; | Slope &lt;int&gt; | Ca &lt;int&gt; | Thal &lt;fct&gt; | AHD &lt;fct&gt; |\n",
       "|---|---|---|---|---|---|---|---|---|---|---|---|---|---|---|---|\n",
       "| 1 | 1 | 63 | 1 | typical      | 145 | 233 | 1 | 2 | 150 | 0 | 2.3 | 3 | 0 | fixed      | No  |\n",
       "| 2 | 2 | 67 | 1 | asymptomatic | 160 | 286 | 0 | 2 | 108 | 1 | 1.5 | 2 | 3 | normal     | Yes |\n",
       "| 3 | 3 | 67 | 1 | asymptomatic | 120 | 229 | 0 | 2 | 129 | 1 | 2.6 | 2 | 2 | reversable | Yes |\n",
       "| 4 | 4 | 37 | 1 | nonanginal   | 130 | 250 | 0 | 0 | 187 | 0 | 3.5 | 3 | 0 | normal     | No  |\n",
       "| 5 | 5 | 41 | 0 | nontypical   | 130 | 204 | 0 | 2 | 172 | 0 | 1.4 | 1 | 0 | normal     | No  |\n",
       "| 6 | 6 | 56 | 1 | nontypical   | 120 | 236 | 0 | 0 | 178 | 0 | 0.8 | 1 | 0 | normal     | No  |\n",
       "\n"
      ],
      "text/plain": [
       "  PatientID Age Sex ChestPain    RestBP Chol Fbs RestECG MaxHR ExAng Oldpeak\n",
       "1 1         63  1   typical      145    233  1   2       150   0     2.3    \n",
       "2 2         67  1   asymptomatic 160    286  0   2       108   1     1.5    \n",
       "3 3         67  1   asymptomatic 120    229  0   2       129   1     2.6    \n",
       "4 4         37  1   nonanginal   130    250  0   0       187   0     3.5    \n",
       "5 5         41  0   nontypical   130    204  0   2       172   0     1.4    \n",
       "6 6         56  1   nontypical   120    236  0   0       178   0     0.8    \n",
       "  Slope Ca Thal       AHD\n",
       "1 3     0  fixed      No \n",
       "2 2     3  normal     Yes\n",
       "3 2     2  reversable Yes\n",
       "4 3     0  normal     No \n",
       "5 1     0  normal     No \n",
       "6 1     0  normal     No "
      ]
     },
     "metadata": {},
     "output_type": "display_data"
    }
   ],
   "source": [
    "# your code here\n",
    "\n",
    "head(heart) #quick check\n",
    "\n",
    "heart = na.omit(heart)\n",
    "\n",
    "stopifnot(nrow(heart) == 297)"
   ]
  },
  {
   "cell_type": "code",
   "execution_count": 8,
   "id": "bacb61a6",
   "metadata": {
    "deletable": false,
    "editable": false,
    "nbgrader": {
     "cell_type": "code",
     "checksum": "0b5767afff4083e156f331b95768f735",
     "grade": true,
     "grade_id": "cell-25b3f5a0d5310369",
     "locked": true,
     "points": 1,
     "schema_version": 3,
     "solution": false,
     "task": false
    }
   },
   "outputs": [
    {
     "name": "stdout",
     "output_type": "stream",
     "text": [
      "\u001b[32mTest passed\u001b[39m 😀\n",
      "\u001b[32mTest passed\u001b[39m 😀\n"
     ]
    }
   ],
   "source": [
    "## check whether heart is a data frame with correct dimensions\n",
    "\n",
    "if (test_that(desc=\"\", code={\n",
    "    expect_equal(is.data.frame(heart), TRUE)\n",
    "    }) != TRUE) stop(\"Sorry, wrong answer\")\n",
    "\n",
    "if (test_that(desc=\"\", code={\n",
    "    expect_equal(dim(heart), c(297,15))\n",
    "    }) != TRUE) stop(\"Sorry, wrong dimensions\")\n"
   ]
  },
  {
   "cell_type": "markdown",
   "id": "90ca90c2",
   "metadata": {
    "deletable": false,
    "editable": false,
    "nbgrader": {
     "cell_type": "markdown",
     "checksum": "ce06857186601486665814e17fb56178",
     "grade": false,
     "grade_id": "cell-126e8f8bca8eaae2",
     "locked": true,
     "schema_version": 3,
     "solution": false,
     "task": false
    }
   },
   "source": [
    "### Train-Test Split\n",
    "\n",
    "Next, we split our dataset into training and testing data at a 70/30 ratio. These two new data frames will be called `train` and `test`. \n",
    "\n",
    "We set the seed (to 1234) before randomly choosing 70% of the data as training data. Simply run the following cell to make this split.\n"
   ]
  },
  {
   "cell_type": "code",
   "execution_count": 9,
   "id": "ea99d7f0",
   "metadata": {
    "deletable": false,
    "editable": false,
    "nbgrader": {
     "cell_type": "code",
     "checksum": "8ea8641bdd170e889ec4604a6b68677c",
     "grade": false,
     "grade_id": "cell-e28cfbea09f7af27",
     "locked": true,
     "schema_version": 3,
     "solution": false,
     "task": false
    }
   },
   "outputs": [
    {
     "data": {
      "text/html": [
       "<style>\n",
       ".list-inline {list-style: none; margin:0; padding: 0}\n",
       ".list-inline>li {display: inline-block}\n",
       ".list-inline>li:not(:last-child)::after {content: \"\\00b7\"; padding: 0 .5ex}\n",
       "</style>\n",
       "<ol class=list-inline><li>207</li><li>15</li></ol>\n"
      ],
      "text/latex": [
       "\\begin{enumerate*}\n",
       "\\item 207\n",
       "\\item 15\n",
       "\\end{enumerate*}\n"
      ],
      "text/markdown": [
       "1. 207\n",
       "2. 15\n",
       "\n",
       "\n"
      ],
      "text/plain": [
       "[1] 207  15"
      ]
     },
     "metadata": {},
     "output_type": "display_data"
    },
    {
     "data": {
      "text/html": [
       "'Train data actual proportion: 0.696969696969697'"
      ],
      "text/latex": [
       "'Train data actual proportion: 0.696969696969697'"
      ],
      "text/markdown": [
       "'Train data actual proportion: 0.696969696969697'"
      ],
      "text/plain": [
       "[1] \"Train data actual proportion: 0.696969696969697\""
      ]
     },
     "metadata": {},
     "output_type": "display_data"
    },
    {
     "data": {
      "text/html": [
       "'Test data actual proportion: 0.303030303030303'"
      ],
      "text/latex": [
       "'Test data actual proportion: 0.303030303030303'"
      ],
      "text/markdown": [
       "'Test data actual proportion: 0.303030303030303'"
      ],
      "text/plain": [
       "[1] \"Test data actual proportion: 0.303030303030303\""
      ]
     },
     "metadata": {},
     "output_type": "display_data"
    }
   ],
   "source": [
    "set.seed(1234)\n",
    "trainidx = sample(1:nrow(heart), size=0.7*nrow(heart), replace=FALSE)\n",
    "\n",
    "\n",
    "train = heart[trainidx, ]\n",
    "test = heart[-trainidx, ]\n",
    "\n",
    "dim(train) #see the dimensions of train data frame\n",
    "\n",
    "\n",
    "#check the proportions 70%-30% of data taken into the train and test data frames\n",
    "\n",
    "paste(\"Train data actual proportion:\", nrow(train)/nrow(heart))\n",
    "paste(\"Test data actual proportion:\", nrow(test)/nrow(heart))"
   ]
  },
  {
   "cell_type": "markdown",
   "id": "20738400",
   "metadata": {
    "deletable": false,
    "editable": false,
    "nbgrader": {
     "cell_type": "markdown",
     "checksum": "81e90ec610121082ffd2f688c17b4680",
     "grade": false,
     "grade_id": "cell-10884a29bc343c3c",
     "locked": true,
     "schema_version": 3,
     "solution": false,
     "task": false
    }
   },
   "source": [
    "<br>\n",
    "\n",
    "We also create `X` and `y` as the predictors and target for the training data as follows. Note that we drop `PatientID` from the predictor matrix."
   ]
  },
  {
   "cell_type": "code",
   "execution_count": 10,
   "id": "178b8b1b",
   "metadata": {
    "deletable": false,
    "editable": false,
    "nbgrader": {
     "cell_type": "code",
     "checksum": "2e01424c3c457b990b12eb1fae0fed5c",
     "grade": false,
     "grade_id": "cell-fec6b6d437c3935a",
     "locked": true,
     "schema_version": 3,
     "solution": false,
     "task": false
    }
   },
   "outputs": [
    {
     "data": {
      "text/html": [
       "<style>\n",
       ".list-inline {list-style: none; margin:0; padding: 0}\n",
       ".list-inline>li {display: inline-block}\n",
       ".list-inline>li:not(:last-child)::after {content: \"\\00b7\"; padding: 0 .5ex}\n",
       "</style>\n",
       "<ol class=list-inline><li>207</li><li>13</li></ol>\n"
      ],
      "text/latex": [
       "\\begin{enumerate*}\n",
       "\\item 207\n",
       "\\item 13\n",
       "\\end{enumerate*}\n"
      ],
      "text/markdown": [
       "1. 207\n",
       "2. 13\n",
       "\n",
       "\n"
      ],
      "text/plain": [
       "[1] 207  13"
      ]
     },
     "metadata": {},
     "output_type": "display_data"
    }
   ],
   "source": [
    "\n",
    "#Get response vector y and predictor matrix (in fact, data frame) X from heart data\n",
    "y = train$AHD\n",
    "\n",
    "X = train[, !(names(train) %in% c(\"PatientID\",\"AHD\"))] #all but PatientID and AHD\n",
    "dim(X)"
   ]
  },
  {
   "cell_type": "markdown",
   "id": "6cd0dc04",
   "metadata": {
    "deletable": false,
    "editable": false,
    "nbgrader": {
     "cell_type": "markdown",
     "checksum": "2fe53f61c7d7df568b31975db3b5e914",
     "grade": false,
     "grade_id": "cell-e68af4b657ad32c7",
     "locked": true,
     "schema_version": 3,
     "solution": false,
     "task": false
    }
   },
   "source": [
    "## Preprocessing Categorical Predictors\n",
    "\n",
    "<br>\n",
    "\n",
    "Our predictor matrix `X` is actually an R data frame. In order to use it in the `cv.glmnet()` function from `glmnet` library, we should convert it into an R matrix object. Furthermore, the function `cv.glmnet()` does not take care of categorical variables (by creating dummies) automatically. So, we need to preprocess categorical variables and code the levels into dummy variables.\n",
    "\n",
    "By running the following cell, we can see that `ChestPain` and `Thal` are categorical variables, having 4 and 3 levels (i.e. categories), respectively.\n"
   ]
  },
  {
   "cell_type": "code",
   "execution_count": 11,
   "id": "f2db6a95",
   "metadata": {
    "deletable": false,
    "editable": false,
    "nbgrader": {
     "cell_type": "code",
     "checksum": "a3c95cfb4b54884844751fe077d6f154",
     "grade": false,
     "grade_id": "cell-680624a93876ca31",
     "locked": true,
     "schema_version": 3,
     "solution": false,
     "task": false
    }
   },
   "outputs": [
    {
     "name": "stdout",
     "output_type": "stream",
     "text": [
      "'data.frame':\t207 obs. of  13 variables:\n",
      " $ Age      : int  56 34 56 51 52 71 46 66 48 71 ...\n",
      " $ Sex      : int  1 1 1 1 1 0 0 1 1 0 ...\n",
      " $ ChestPain: Factor w/ 4 levels \"asymptomatic\",..: 3 4 1 1 3 2 3 1 3 1 ...\n",
      " $ RestBP   : int  130 118 125 140 134 110 105 120 130 112 ...\n",
      " $ Chol     : int  221 182 249 261 201 265 204 302 245 149 ...\n",
      " $ Fbs      : int  0 0 1 0 0 1 0 0 0 0 ...\n",
      " $ RestECG  : int  2 2 2 2 0 2 0 2 2 0 ...\n",
      " $ MaxHR    : int  163 174 144 186 158 130 172 151 180 125 ...\n",
      " $ ExAng    : int  0 0 1 1 0 0 0 0 0 0 ...\n",
      " $ Oldpeak  : num  0 0 1.2 0 0.8 0 0 0.4 0.2 1.6 ...\n",
      " $ Slope    : int  1 1 2 1 1 1 1 2 2 2 ...\n",
      " $ Ca       : int  0 0 1 0 1 1 0 0 0 0 ...\n",
      " $ Thal     : Factor w/ 3 levels \"fixed\",\"normal\",..: 3 2 2 2 2 2 2 2 2 2 ...\n"
     ]
    }
   ],
   "source": [
    "str(X) #structure of X"
   ]
  },
  {
   "cell_type": "markdown",
   "id": "3dbd1ba4",
   "metadata": {
    "deletable": false,
    "editable": false,
    "nbgrader": {
     "cell_type": "markdown",
     "checksum": "b4e88e4b7a8062bad21d8fe798ff7ed7",
     "grade": false,
     "grade_id": "cell-28eac17630ea9dd4",
     "locked": true,
     "schema_version": 3,
     "solution": false,
     "task": false
    }
   },
   "source": [
    "#### To dummy up our categorical variables, we only need one line of code:\n",
    "\n",
    "`X = model.matrix( ~ . , data=X)[,-1]`\n",
    "\n",
    "By having `[,-1]` at the end we are dropping the first column of `model.matrix( ~ . , data=X)`, which is the column of 1s (for the intercept). Function `cv.glmnet()` needs a matrix of the predictors only, i.e. without these 1s. "
   ]
  },
  {
   "cell_type": "code",
   "execution_count": 12,
   "id": "11988ed1",
   "metadata": {
    "deletable": false,
    "editable": false,
    "nbgrader": {
     "cell_type": "code",
     "checksum": "94912ed47a691eb545f1010fc9cdc46d",
     "grade": false,
     "grade_id": "cell-90e05fcf68ae7f74",
     "locked": true,
     "schema_version": 3,
     "solution": false,
     "task": false
    }
   },
   "outputs": [
    {
     "data": {
      "text/html": [
       "<style>\n",
       ".list-inline {list-style: none; margin:0; padding: 0}\n",
       ".list-inline>li {display: inline-block}\n",
       ".list-inline>li:not(:last-child)::after {content: \"\\00b7\"; padding: 0 .5ex}\n",
       "</style>\n",
       "<ol class=list-inline><li>207</li><li>16</li></ol>\n"
      ],
      "text/latex": [
       "\\begin{enumerate*}\n",
       "\\item 207\n",
       "\\item 16\n",
       "\\end{enumerate*}\n"
      ],
      "text/markdown": [
       "1. 207\n",
       "2. 16\n",
       "\n",
       "\n"
      ],
      "text/plain": [
       "[1] 207  16"
      ]
     },
     "metadata": {},
     "output_type": "display_data"
    },
    {
     "data": {
      "text/html": [
       "<table class=\"dataframe\">\n",
       "<caption>A matrix: 5 × 16 of type dbl</caption>\n",
       "<thead>\n",
       "\t<tr><th></th><th scope=col>Age</th><th scope=col>Sex</th><th scope=col>ChestPainnonanginal</th><th scope=col>ChestPainnontypical</th><th scope=col>ChestPaintypical</th><th scope=col>RestBP</th><th scope=col>Chol</th><th scope=col>Fbs</th><th scope=col>RestECG</th><th scope=col>MaxHR</th><th scope=col>ExAng</th><th scope=col>Oldpeak</th><th scope=col>Slope</th><th scope=col>Ca</th><th scope=col>Thalnormal</th><th scope=col>Thalreversable</th></tr>\n",
       "</thead>\n",
       "<tbody>\n",
       "\t<tr><th scope=row>289</th><td>56</td><td>1</td><td>0</td><td>1</td><td>0</td><td>130</td><td>221</td><td>0</td><td>2</td><td>163</td><td>0</td><td>0.0</td><td>1</td><td>0</td><td>0</td><td>1</td></tr>\n",
       "\t<tr><th scope=row>102</th><td>34</td><td>1</td><td>0</td><td>0</td><td>1</td><td>118</td><td>182</td><td>0</td><td>2</td><td>174</td><td>0</td><td>0.0</td><td>1</td><td>0</td><td>1</td><td>0</td></tr>\n",
       "\t<tr><th scope=row>112</th><td>56</td><td>1</td><td>0</td><td>0</td><td>0</td><td>125</td><td>249</td><td>1</td><td>2</td><td>144</td><td>1</td><td>1.2</td><td>2</td><td>1</td><td>1</td><td>0</td></tr>\n",
       "\t<tr><th scope=row>134</th><td>51</td><td>1</td><td>0</td><td>0</td><td>0</td><td>140</td><td>261</td><td>0</td><td>2</td><td>186</td><td>1</td><td>0.0</td><td>1</td><td>0</td><td>1</td><td>0</td></tr>\n",
       "\t<tr><th scope=row>99</th><td>52</td><td>1</td><td>0</td><td>1</td><td>0</td><td>134</td><td>201</td><td>0</td><td>0</td><td>158</td><td>0</td><td>0.8</td><td>1</td><td>1</td><td>1</td><td>0</td></tr>\n",
       "</tbody>\n",
       "</table>\n"
      ],
      "text/latex": [
       "A matrix: 5 × 16 of type dbl\n",
       "\\begin{tabular}{r|llllllllllllllll}\n",
       "  & Age & Sex & ChestPainnonanginal & ChestPainnontypical & ChestPaintypical & RestBP & Chol & Fbs & RestECG & MaxHR & ExAng & Oldpeak & Slope & Ca & Thalnormal & Thalreversable\\\\\n",
       "\\hline\n",
       "\t289 & 56 & 1 & 0 & 1 & 0 & 130 & 221 & 0 & 2 & 163 & 0 & 0.0 & 1 & 0 & 0 & 1\\\\\n",
       "\t102 & 34 & 1 & 0 & 0 & 1 & 118 & 182 & 0 & 2 & 174 & 0 & 0.0 & 1 & 0 & 1 & 0\\\\\n",
       "\t112 & 56 & 1 & 0 & 0 & 0 & 125 & 249 & 1 & 2 & 144 & 1 & 1.2 & 2 & 1 & 1 & 0\\\\\n",
       "\t134 & 51 & 1 & 0 & 0 & 0 & 140 & 261 & 0 & 2 & 186 & 1 & 0.0 & 1 & 0 & 1 & 0\\\\\n",
       "\t99 & 52 & 1 & 0 & 1 & 0 & 134 & 201 & 0 & 0 & 158 & 0 & 0.8 & 1 & 1 & 1 & 0\\\\\n",
       "\\end{tabular}\n"
      ],
      "text/markdown": [
       "\n",
       "A matrix: 5 × 16 of type dbl\n",
       "\n",
       "| <!--/--> | Age | Sex | ChestPainnonanginal | ChestPainnontypical | ChestPaintypical | RestBP | Chol | Fbs | RestECG | MaxHR | ExAng | Oldpeak | Slope | Ca | Thalnormal | Thalreversable |\n",
       "|---|---|---|---|---|---|---|---|---|---|---|---|---|---|---|---|---|\n",
       "| 289 | 56 | 1 | 0 | 1 | 0 | 130 | 221 | 0 | 2 | 163 | 0 | 0.0 | 1 | 0 | 0 | 1 |\n",
       "| 102 | 34 | 1 | 0 | 0 | 1 | 118 | 182 | 0 | 2 | 174 | 0 | 0.0 | 1 | 0 | 1 | 0 |\n",
       "| 112 | 56 | 1 | 0 | 0 | 0 | 125 | 249 | 1 | 2 | 144 | 1 | 1.2 | 2 | 1 | 1 | 0 |\n",
       "| 134 | 51 | 1 | 0 | 0 | 0 | 140 | 261 | 0 | 2 | 186 | 1 | 0.0 | 1 | 0 | 1 | 0 |\n",
       "| 99 | 52 | 1 | 0 | 1 | 0 | 134 | 201 | 0 | 0 | 158 | 0 | 0.8 | 1 | 1 | 1 | 0 |\n",
       "\n"
      ],
      "text/plain": [
       "    Age Sex ChestPainnonanginal ChestPainnontypical ChestPaintypical RestBP\n",
       "289 56  1   0                   1                   0                130   \n",
       "102 34  1   0                   0                   1                118   \n",
       "112 56  1   0                   0                   0                125   \n",
       "134 51  1   0                   0                   0                140   \n",
       "99  52  1   0                   1                   0                134   \n",
       "    Chol Fbs RestECG MaxHR ExAng Oldpeak Slope Ca Thalnormal Thalreversable\n",
       "289 221  0   2       163   0     0.0     1     0  0          1             \n",
       "102 182  0   2       174   0     0.0     1     0  1          0             \n",
       "112 249  1   2       144   1     1.2     2     1  1          0             \n",
       "134 261  0   2       186   1     0.0     1     0  1          0             \n",
       "99  201  0   0       158   0     0.8     1     1  1          0             "
      ]
     },
     "metadata": {},
     "output_type": "display_data"
    }
   ],
   "source": [
    "X = model.matrix( ~ . , data=X)[,-1]\n",
    "\n",
    "dim(X)\n",
    "\n",
    "X[1:5,]"
   ]
  },
  {
   "cell_type": "markdown",
   "id": "301213de",
   "metadata": {
    "deletable": false,
    "editable": false,
    "nbgrader": {
     "cell_type": "markdown",
     "checksum": "5ac7a77af15b561fd521bf29cf6fea3c",
     "grade": false,
     "grade_id": "cell-0c8350b6affd830e",
     "locked": true,
     "schema_version": 3,
     "solution": false,
     "task": false
    }
   },
   "source": [
    "Note that there are 3 dummies for the 4-level variable `ChestPain`. The level `asymptomatic` does not need a dummy, if we dummy up the other three levels. This is because when the sum of the three dummies is 0 (i.e. `ChestPain` value is none of the three named levels), this indicates the corresponding observation has level `asymptomatic`. Note also that the names of all dummies are a concatenation of the name of the variable (`ChestPain`) and the corresponding level.\n",
    "\n",
    "Similarly, variable `Thal`, which has three levels, was converted to two dummy variables. As an overall consequence, instead of 13 columns, we now have 16.\n"
   ]
  },
  {
   "cell_type": "markdown",
   "id": "a973dee3",
   "metadata": {
    "deletable": false,
    "editable": false,
    "nbgrader": {
     "cell_type": "markdown",
     "checksum": "7a3c6b6279f74ed1fb82cd2e155ddd09",
     "grade": false,
     "grade_id": "cell-c64ba1e1267d1e77",
     "locked": true,
     "schema_version": 3,
     "solution": false,
     "task": false
    }
   },
   "source": [
    "### Ridge Regularization\n",
    "\n",
    "<br>\n",
    "\n",
    "Let us train a logistic regression model with ridge regularization,using cross-validation to tune the hyperparameter $\\lambda$. For that purpose, we deploy the function `cv.glmnet()` from the library `glmnet`.\n",
    "\n",
    "<br>\n",
    "\n",
    "We will use both **deviance** $D = -2\\ln L(\\beta)=2\\ell(\\beta)$  (essentially equivalent to binary cross-entropy, and the most appropriate cost function for logistic regression), and **mean squared error** $MSE = \\sum_i(y_i-\\hat{y}_i)^2$ as measures of goodness of fit (not a very good measure for logistic regression, but we can still use it).\n",
    "\n",
    "\n",
    "**Note**: In logistic regression (i.e. when the only values of the output are 0-1), we have that $\\forall i, \\,\\,(y_i-\\hat{y}_i)^2\\in\\{0,1\\}$. So, $MSE$ = 1 - accuracy. Again, we would usually use cross-entropy/deviance for logistic regression.\n",
    "\n",
    "Also, we will set the grid for $\\lambda$ manually, rather than letting the function `cv.glmnet()` to decide for us. One should be cautions when setting the $\\lambda$ grid manually, as sometimes that may lead to issues with convergence of the algorithm; also, it is less efficient. For more details, see the documentation for `cv.glmnet()`. We set the $\\lambda$ grid manually here so that the plots are a bit nicer.\n",
    "\n",
    "<br>\n",
    "\n",
    "**Run the following cells and study the codes/commands and their outputs, as well as the comments that preceed the commands. The comments are explanations of the commands, and some of them are also hints for the parts that you need to do.**"
   ]
  },
  {
   "cell_type": "code",
   "execution_count": 13,
   "id": "14419b81",
   "metadata": {
    "deletable": false,
    "editable": false,
    "nbgrader": {
     "cell_type": "code",
     "checksum": "b451ec34ffe07b2f11b5dd15d2a76fbc",
     "grade": false,
     "grade_id": "cell-0278174f66fa3877",
     "locked": true,
     "schema_version": 3,
     "solution": false,
     "task": false
    }
   },
   "outputs": [
    {
     "data": {
      "image/png": "[encoded data removed]",
      "text/plain": [
       "plot without title"
      ]
     },
     "metadata": {
      "image/png": {
       "height": 420,
       "width": 420
      }
     },
     "output_type": "display_data"
    }
   ],
   "source": [
    "## Set lambda grid manually\n",
    "mylambda=seq(0, 2, length.out = 500) \n",
    "\n",
    "#Here, we use deviance (cross-entropy) as a measure performance.\n",
    "\n",
    "#by default, for logistic regression, type.measure is \"deviance\"\n",
    "cvfit = cv.glmnet(X, y, family = \"binomial\", lambda = mylambda, type.measure=\"deviance\",\n",
    "                  nfolds = 10, alpha = 0)  #alpha- ridge:0, lasso:1\n",
    "\n",
    "#plot performance based on deviance\n",
    "#We get both the mean and standard deviation for every lambda value\n",
    "#note on the x-axis in the plot is log(lambda). Thus, a higher value means stronger regularization\n",
    "plot(cvfit)  \n"
   ]
  },
  {
   "cell_type": "code",
   "execution_count": 14,
   "id": "aef97ff1",
   "metadata": {
    "deletable": false,
    "editable": false,
    "nbgrader": {
     "cell_type": "code",
     "checksum": "9b37d2be130a5a6cd6553224bffecd68",
     "grade": false,
     "grade_id": "cell-baf205d08f0c4714",
     "locked": true,
     "schema_version": 3,
     "solution": false,
     "task": false
    }
   },
   "outputs": [
    {
     "data": {
      "image/png": "[encoded data removed]",
      "text/plain": [
       "plot without title"
      ]
     },
     "metadata": {
      "image/png": {
       "height": 420,
       "width": 420
      }
     },
     "output_type": "display_data"
    }
   ],
   "source": [
    "## Here, we use MSE as a measure of performance. \n",
    "\n",
    "#by default, for logistic regression, type.measure is \"deviance\"\n",
    "cvfit = cv.glmnet(X, y, family = \"binomial\",lambda=mylambda, type.measure=\"mse\",\n",
    "                  nfolds = 10, alpha = 0)  #alpha- ridge:0, lasso:1\n",
    "\n",
    "#plot performance based on mse\n",
    "#We get both the mean and standard deviation for every lambda value\n",
    "plot(cvfit)  #x-axis gives us log(lambda)\n",
    "\n"
   ]
  },
  {
   "cell_type": "code",
   "execution_count": 15,
   "id": "65608ce6",
   "metadata": {
    "deletable": false,
    "editable": false,
    "nbgrader": {
     "cell_type": "code",
     "checksum": "1b97819539c0824660c611f1ef47edd3",
     "grade": false,
     "grade_id": "cell-803e88cdc33ca4ff",
     "locked": true,
     "schema_version": 3,
     "solution": false,
     "task": false
    }
   },
   "outputs": [
    {
     "name": "stdout",
     "output_type": "stream",
     "text": [
      "List of 12\n",
      " $ lambda    : num [1:500] 2 2 1.99 1.99 1.98 ...\n",
      " $ cvm       : num [1:500] 0.366 0.366 0.365 0.365 0.365 ...\n",
      " $ cvsd      : num [1:500] 0.0074 0.0074 0.00741 0.00741 0.00742 ...\n",
      " $ cvup      : num [1:500] 0.373 0.373 0.373 0.373 0.372 ...\n",
      " $ cvlo      : num [1:500] 0.358 0.358 0.358 0.358 0.358 ...\n",
      " $ nzero     : Named int [1:500] 16 16 16 16 16 16 16 16 16 16 ...\n",
      "  ..- attr(*, \"names\")= chr [1:500] \"s0\" \"s1\" \"s2\" \"s3\" ...\n",
      " $ call      : language cv.glmnet(x = X, y = y, lambda = mylambda, type.measure = \"mse\", nfolds = 10,      family = \"binomial\", alpha = 0)\n",
      " $ name      : Named chr \"Mean-Squared Error\"\n",
      "  ..- attr(*, \"names\")= chr \"mse\"\n",
      " $ glmnet.fit:List of 13\n",
      "  ..$ a0        : Named num [1:500] -0.643 -0.644 -0.645 -0.645 -0.646 ...\n",
      "  .. ..- attr(*, \"names\")= chr [1:500] \"s0\" \"s1\" \"s2\" \"s3\" ...\n",
      "  ..$ beta      :Formal class 'dgCMatrix' [package \"Matrix\"] with 6 slots\n",
      "  .. .. ..@ i       : int [1:8000] 0 1 2 3 4 5 6 7 8 9 ...\n",
      "  .. .. ..@ p       : int [1:501] 0 16 32 48 64 80 96 112 128 144 ...\n",
      "  .. .. ..@ Dim     : int [1:2] 16 500\n",
      "  .. .. ..@ Dimnames:List of 2\n",
      "  .. .. .. ..$ : chr [1:16] \"Age\" \"Sex\" \"ChestPainnonanginal\" \"ChestPainnontypical\" ...\n",
      "  .. .. .. ..$ : chr [1:500] \"s0\" \"s1\" \"s2\" \"s3\" ...\n",
      "  .. .. ..@ x       : num [1:8000] 0.00513 0.10812 -0.135 -0.09518 -0.15798 ...\n",
      "  .. .. ..@ factors : list()\n",
      "  ..$ df        : int [1:500] 16 16 16 16 16 16 16 16 16 16 ...\n",
      "  ..$ dim       : int [1:2] 16 500\n",
      "  ..$ lambda    : num [1:500] 2 2 1.99 1.99 1.98 ...\n",
      "  ..$ dev.ratio : num [1:500] 0.205 0.205 0.206 0.206 0.206 ...\n",
      "  ..$ nulldev   : num 286\n",
      "  ..$ npasses   : int 1329\n",
      "  ..$ jerr      : int 0\n",
      "  ..$ offset    : logi FALSE\n",
      "  ..$ classnames: chr [1:2] \"No\" \"Yes\"\n",
      "  ..$ call      : language glmnet(x = X, y = y, lambda = mylambda, family = \"binomial\", alpha = 0)\n",
      "  ..$ nobs      : int 207\n",
      "  ..- attr(*, \"class\")= chr [1:2] \"lognet\" \"glmnet\"\n",
      " $ lambda.min: num 0.02\n",
      " $ lambda.1se: num 0.228\n",
      " $ index     : int [1:2, 1] 495 443\n",
      "  ..- attr(*, \"dimnames\")=List of 2\n",
      "  .. ..$ : chr [1:2] \"min\" \"1se\"\n",
      "  .. ..$ : chr \"Lambda\"\n",
      " - attr(*, \"class\")= chr \"cv.glmnet\"\n"
     ]
    }
   ],
   "source": [
    "## Explore the structure of the object cvfit\n",
    "str(cvfit)"
   ]
  },
  {
   "cell_type": "code",
   "execution_count": 16,
   "id": "50ff43f7",
   "metadata": {
    "deletable": false,
    "editable": false,
    "nbgrader": {
     "cell_type": "code",
     "checksum": "62dfa50378623ddebd0031832d1f2fa2",
     "grade": false,
     "grade_id": "cell-fc388b4fc84670b6",
     "locked": true,
     "schema_version": 3,
     "solution": false,
     "task": false
    }
   },
   "outputs": [
    {
     "data": {
      "text/html": [
       "0.0200400801603206"
      ],
      "text/latex": [
       "0.0200400801603206"
      ],
      "text/markdown": [
       "0.0200400801603206"
      ],
      "text/plain": [
       "[1] 0.02004008"
      ]
     },
     "metadata": {},
     "output_type": "display_data"
    },
    {
     "data": {
      "text/html": [
       "0.228456913827655"
      ],
      "text/latex": [
       "0.228456913827655"
      ],
      "text/markdown": [
       "0.228456913827655"
      ],
      "text/plain": [
       "[1] 0.2284569"
      ]
     },
     "metadata": {},
     "output_type": "display_data"
    }
   ],
   "source": [
    "## The value of optimal lambda that minimizes loss (we used mse most recently)\n",
    "cvfit$lambda.min\n",
    "\n",
    "## The value of optimal lambda by the 1SE rule\n",
    "cvfit$lambda.1se"
   ]
  },
  {
   "cell_type": "markdown",
   "id": "de47a5ac",
   "metadata": {
    "deletable": false,
    "editable": false,
    "nbgrader": {
     "cell_type": "markdown",
     "checksum": "85d63e47960a7cce834e0b79c7cb7fdb",
     "grade": false,
     "grade_id": "cell-ffccb2a4b4d3d35f",
     "locked": true,
     "schema_version": 3,
     "solution": false,
     "task": false
    }
   },
   "source": [
    "#### Fitted Coefficients\n",
    "\n",
    "<br>\n",
    "\n",
    "We can use either `coef(cvfit)` or `predict(object=cvfit, type=\"coefficients\")` to see the values of all the fitted coefficients. We can also check they give the same values."
   ]
  },
  {
   "cell_type": "code",
   "execution_count": 17,
   "id": "4832d7fb",
   "metadata": {
    "deletable": false,
    "editable": false,
    "nbgrader": {
     "cell_type": "code",
     "checksum": "33338880a38a0c3ae5009e7cc06d3cc2",
     "grade": false,
     "grade_id": "cell-a2a60e075d20c324",
     "locked": true,
     "schema_version": 3,
     "solution": false,
     "task": false
    }
   },
   "outputs": [
    {
     "name": "stdout",
     "output_type": "stream",
     "text": [
      "[1] \"Using coef(cvfit):\"\n"
     ]
    },
    {
     "data": {
      "text/plain": [
       "17 x 1 sparse Matrix of class \"dgCMatrix\"\n",
       "                              s1\n",
       "(Intercept)         -1.771510074\n",
       "Age                  0.013332188\n",
       "Sex                  0.391555647\n",
       "ChestPainnonanginal -0.484115962\n",
       "ChestPainnontypical -0.288854820\n",
       "ChestPaintypical    -0.853578455\n",
       "RestBP               0.005747026\n",
       "Chol                 0.001783589\n",
       "Fbs                 -0.172892822\n",
       "RestECG              0.078418209\n",
       "MaxHR               -0.009302802\n",
       "ExAng                0.386521774\n",
       "Oldpeak              0.191841636\n",
       "Slope                0.274192239\n",
       "Ca                   0.408775268\n",
       "Thalnormal          -0.488616002\n",
       "Thalreversable       0.580587436"
      ]
     },
     "metadata": {},
     "output_type": "display_data"
    },
    {
     "name": "stdout",
     "output_type": "stream",
     "text": [
      "\n",
      "\n",
      "[1] \"Using predict(object=cvfit, type=\\\"coefficients\\\"):\"\n"
     ]
    },
    {
     "data": {
      "text/plain": [
       "17 x 1 sparse Matrix of class \"dgCMatrix\"\n",
       "                      lambda.1se\n",
       "(Intercept)         -1.771510074\n",
       "Age                  0.013332188\n",
       "Sex                  0.391555647\n",
       "ChestPainnonanginal -0.484115962\n",
       "ChestPainnontypical -0.288854820\n",
       "ChestPaintypical    -0.853578455\n",
       "RestBP               0.005747026\n",
       "Chol                 0.001783589\n",
       "Fbs                 -0.172892822\n",
       "RestECG              0.078418209\n",
       "MaxHR               -0.009302802\n",
       "ExAng                0.386521774\n",
       "Oldpeak              0.191841636\n",
       "Slope                0.274192239\n",
       "Ca                   0.408775268\n",
       "Thalnormal          -0.488616002\n",
       "Thalreversable       0.580587436"
      ]
     },
     "metadata": {},
     "output_type": "display_data"
    }
   ],
   "source": [
    "print(\"Using coef(cvfit):\")\n",
    "coef(cvfit)\n",
    "\n",
    "cat(\"\\n\\n\") #two newlines\n",
    "\n",
    "print('Using predict(object=cvfit, type=\"coefficients\"):')\n",
    "predict(object=cvfit, type=\"coefficients\")\n",
    "\n"
   ]
  },
  {
   "cell_type": "code",
   "execution_count": 18,
   "id": "5a84ebc1",
   "metadata": {
    "deletable": false,
    "editable": false,
    "nbgrader": {
     "cell_type": "code",
     "checksum": "8be16a248f43a545a9193bd65293cad2",
     "grade": false,
     "grade_id": "cell-da50b78e4aaeac01",
     "locked": true,
     "schema_version": 3,
     "solution": false,
     "task": false
    }
   },
   "outputs": [
    {
     "data": {
      "text/html": [
       "TRUE"
      ],
      "text/latex": [
       "TRUE"
      ],
      "text/markdown": [
       "TRUE"
      ],
      "text/plain": [
       "[1] TRUE"
      ]
     },
     "metadata": {},
     "output_type": "display_data"
    }
   ],
   "source": [
    "#check that all the coefficients are the same\n",
    "\n",
    "all(coef(cvfit)==predict(object=cvfit, type=\"coefficients\"))"
   ]
  },
  {
   "cell_type": "markdown",
   "id": "a4d212da",
   "metadata": {
    "deletable": false,
    "editable": false,
    "nbgrader": {
     "cell_type": "markdown",
     "checksum": "5449d107efeba06e224d481f0c223757",
     "grade": false,
     "grade_id": "cell-a649d386924eb795",
     "locked": true,
     "schema_version": 3,
     "solution": false,
     "task": false
    }
   },
   "source": [
    "Note that in the output `predict()` we see the fitted values correspond to optimal $\\lambda$ based on the 1SE rule, which the `coef()` function also uses as a default.\n",
    "\n",
    "The parameter `s` in the `predict()` function controls lambda. The default is equivalent to\n",
    "\n",
    "`predict(object=cvfit, s=cvfit$lambda.1se, type=\"coefficients\")` \n",
    "\n",
    "and gives the same output as \n",
    "\n",
    "`predict(object=cvfit, type=\"coefficients\")` or as `coef(cvfit)`.\n",
    "\n",
    "You can check that by running the following cell."
   ]
  },
  {
   "cell_type": "code",
   "execution_count": 19,
   "id": "fa9de314",
   "metadata": {
    "deletable": false,
    "editable": false,
    "nbgrader": {
     "cell_type": "code",
     "checksum": "cbd824a583658a78ca2a95e1337acff3",
     "grade": false,
     "grade_id": "cell-c9a869a8a9e70905",
     "locked": true,
     "schema_version": 3,
     "solution": false,
     "task": false
    }
   },
   "outputs": [
    {
     "data": {
      "text/html": [
       "TRUE"
      ],
      "text/latex": [
       "TRUE"
      ],
      "text/markdown": [
       "TRUE"
      ],
      "text/plain": [
       "[1] TRUE"
      ]
     },
     "metadata": {},
     "output_type": "display_data"
    }
   ],
   "source": [
    "all(predict(object=cvfit, s=cvfit$lambda.1se, type=\"coefficients\") == predict(object=cvfit, type=\"coefficients\"))"
   ]
  },
  {
   "cell_type": "markdown",
   "id": "91b311a9",
   "metadata": {
    "deletable": false,
    "editable": false,
    "nbgrader": {
     "cell_type": "markdown",
     "checksum": "1162045a3c1328c3b2fa74f1118eb2fa",
     "grade": false,
     "grade_id": "cell-d77add38b30610d2",
     "locked": true,
     "schema_version": 3,
     "solution": false,
     "task": false
    }
   },
   "source": [
    "### Predictions on the Train Data\n",
    "\n",
    "<br>\n",
    "\n",
    "To check performance, we use the `predict()` function and include the argument `newx`, which is the predictor matrix with the train data. The following gives us the prediction *probability*, not the predicted class. Note again we are using the train data here."
   ]
  },
  {
   "cell_type": "code",
   "execution_count": 20,
   "id": "7f027608",
   "metadata": {
    "deletable": false,
    "editable": false,
    "nbgrader": {
     "cell_type": "code",
     "checksum": "8c4605355f1602f3b48d5bfdfac81a9b",
     "grade": false,
     "grade_id": "cell-93524a73b0f121ef",
     "locked": true,
     "schema_version": 3,
     "solution": false,
     "task": false
    }
   },
   "outputs": [
    {
     "data": {
      "text/html": [
       "207"
      ],
      "text/latex": [
       "207"
      ],
      "text/markdown": [
       "207"
      ],
      "text/plain": [
       "[1] 207"
      ]
     },
     "metadata": {},
     "output_type": "display_data"
    },
    {
     "data": {
      "text/html": [
       "<style>\n",
       ".list-inline {list-style: none; margin:0; padding: 0}\n",
       ".list-inline>li {display: inline-block}\n",
       ".list-inline>li:not(:last-child)::after {content: \"\\00b7\"; padding: 0 .5ex}\n",
       "</style>\n",
       "<ol class=list-inline><li>207</li><li>16</li></ol>\n"
      ],
      "text/latex": [
       "\\begin{enumerate*}\n",
       "\\item 207\n",
       "\\item 16\n",
       "\\end{enumerate*}\n"
      ],
      "text/markdown": [
       "1. 207\n",
       "2. 16\n",
       "\n",
       "\n"
      ],
      "text/plain": [
       "[1] 207  16"
      ]
     },
     "metadata": {},
     "output_type": "display_data"
    }
   ],
   "source": [
    "# We have train data, X, from above\n",
    "# Just get the predictions:\n",
    "\n",
    "phat = predict(object=cvfit, s=cvfit$lambda.1se, newx = X, type=\"response\") #Use type=\"class\" for binary class\n",
    "\n",
    "length(phat)\n",
    "dim(X)\n"
   ]
  },
  {
   "cell_type": "markdown",
   "id": "e9d93fc6",
   "metadata": {
    "deletable": false,
    "editable": false,
    "nbgrader": {
     "cell_type": "markdown",
     "checksum": "32d04e831f04ef91093efc15170ded58",
     "grade": false,
     "grade_id": "cell-8a2f0c54fa1f7f23",
     "locked": true,
     "schema_version": 3,
     "solution": false,
     "task": false
    }
   },
   "source": [
    "### Measuring Performance\n",
    "\n",
    "<br>\n",
    "\n",
    "We will assess performance using the ROC curve and accuracy, as well the sensitivity and specifity. Note that we do this on the training data here.\n",
    "\n",
    "\n",
    "#### ROC Curve\n",
    "\n",
    "\n",
    "<br>"
   ]
  },
  {
   "cell_type": "code",
   "execution_count": 21,
   "id": "95ad3830",
   "metadata": {
    "deletable": false,
    "editable": false,
    "nbgrader": {
     "cell_type": "code",
     "checksum": "410a0f791a9dcf84232bffbd2b41d75b",
     "grade": false,
     "grade_id": "cell-e72f92288186269c",
     "locked": true,
     "schema_version": 3,
     "solution": false,
     "task": false
    }
   },
   "outputs": [
    {
     "name": "stderr",
     "output_type": "stream",
     "text": [
      "Setting levels: control = FALSE, case = TRUE\n",
      "\n",
      "Setting direction: controls < cases\n",
      "\n"
     ]
    },
    {
     "data": {
      "image/png": "[encoded data removed]",
      "text/plain": [
       "Plot with title “AUC =  0.93”"
      ]
     },
     "metadata": {
      "image/png": {
       "height": 420,
       "width": 420
      }
     },
     "output_type": "display_data"
    }
   ],
   "source": [
    "# Convert to binary:\n",
    "ylogical = (y == \"Yes\")\n",
    "\n",
    "#Get the curve:\n",
    "ROC_curve = roc(response=ylogical, predictor=as.vector(phat))\n",
    "\n",
    "#And the area under the curve:\n",
    "AUC = auc(ROC_curve)\n",
    "\n",
    "#Can get the point closest to upper left\n",
    "best_point = coords(ROC_curve, \"best\", ret=c(\"threshold\", \"sens\", \"spec\"))\n",
    "\n",
    "#Plot 1 - specificity\n",
    "plot(x=1 - ROC_curve$specificities, y=ROC_curve$sensitivities, main=paste(\"AUC = \", round(AUC,2)), \n",
    "     xlab=\"1 - Specificity\", ylab=\"Sensitivity\", type=\"l\", col=\"red\", lwd=2, cex=1.25, cex.lab=1.25)\n",
    "\n",
    "abline(a=0, b=1, lty=\"dashed\") #the diagonal line = Chance alone\n",
    "\n",
    "#Plot the point corresponding to the best cutoff\n",
    "points((1 - best_point$spec), best_point$sens, pch=21, bg='black', cex=2)\n"
   ]
  },
  {
   "cell_type": "code",
   "execution_count": 22,
   "id": "03ede5a3",
   "metadata": {
    "deletable": false,
    "editable": false,
    "nbgrader": {
     "cell_type": "code",
     "checksum": "a2a2b46dd227edcb5cadf5896dc877c1",
     "grade": false,
     "grade_id": "cell-35a800b5458c627f",
     "locked": true,
     "schema_version": 3,
     "solution": false,
     "task": false
    }
   },
   "outputs": [
    {
     "name": "stdout",
     "output_type": "stream",
     "text": [
      " 'auc' num 0.933\n",
      " - attr(*, \"partial.auc\")= logi FALSE\n",
      " - attr(*, \"percent\")= logi FALSE\n",
      " - attr(*, \"roc\")=List of 15\n",
      "  ..$ percent           : logi FALSE\n",
      "  ..$ sensitivities     : num [1:208] 1 1 1 1 1 1 1 1 1 1 ...\n",
      "  ..$ specificities     : num [1:208] 0 0.00893 0.01786 0.02679 0.03571 ...\n",
      "  ..$ thresholds        : num [1:208] -Inf 0.0694 0.078 0.0804 0.0866 ...\n",
      "  ..$ direction         : chr \"<\"\n",
      "  ..$ cases             : num [1:95] 0.564 0.284 0.921 0.87 0.881 ...\n",
      "  ..$ controls          : num [1:112] 0.4291 0.0792 0.3034 0.2751 0.2253 ...\n",
      "  ..$ fun.sesp          :function (thresholds, controls, cases, direction)  \n",
      "  ..$ auc               : 'auc' num 0.933\n",
      "  .. ..- attr(*, \"partial.auc\")= logi FALSE\n",
      "  .. ..- attr(*, \"percent\")= logi FALSE\n",
      "  .. ..- attr(*, \"roc\")=List of 15\n",
      "  .. .. ..$ percent           : logi FALSE\n",
      "  .. .. ..$ sensitivities     : num [1:208] 1 1 1 1 1 1 1 1 1 1 ...\n",
      "  .. .. ..$ specificities     : num [1:208] 0 0.00893 0.01786 0.02679 0.03571 ...\n",
      "  .. .. ..$ thresholds        : num [1:208] -Inf 0.0694 0.078 0.0804 0.0866 ...\n",
      "  .. .. ..$ direction         : chr \"<\"\n",
      "  .. .. ..$ cases             : num [1:95] 0.564 0.284 0.921 0.87 0.881 ...\n",
      "  .. .. ..$ controls          : num [1:112] 0.4291 0.0792 0.3034 0.2751 0.2253 ...\n",
      "  .. .. ..$ fun.sesp          :function (thresholds, controls, cases, direction)  \n",
      "  .. .. ..$ auc               : 'auc' num 0.933\n",
      "  .. .. .. ..- attr(*, \"partial.auc\")= logi FALSE\n",
      "  .. .. .. ..- attr(*, \"percent\")= logi FALSE\n",
      "  .. .. .. ..- attr(*, \"roc\")=List of 8\n",
      "  .. .. .. .. ..$ percent      : logi FALSE\n",
      "  .. .. .. .. ..$ sensitivities: num [1:208] 1 1 1 1 1 1 1 1 1 1 ...\n",
      "  .. .. .. .. ..$ specificities: num [1:208] 0 0.00893 0.01786 0.02679 0.03571 ...\n",
      "  .. .. .. .. ..$ thresholds   : num [1:208] -Inf 0.0694 0.078 0.0804 0.0866 ...\n",
      "  .. .. .. .. ..$ direction    : chr \"<\"\n",
      "  .. .. .. .. ..$ cases        : num [1:95] 0.564 0.284 0.921 0.87 0.881 ...\n",
      "  .. .. .. .. ..$ controls     : num [1:112] 0.4291 0.0792 0.3034 0.2751 0.2253 ...\n",
      "  .. .. .. .. ..$ fun.sesp     :function (thresholds, controls, cases, direction)  \n",
      "  .. .. .. .. ..- attr(*, \"class\")= chr \"roc\"\n",
      "  .. .. ..$ call              : language roc.default(response = ylogical, predictor = as.vector(phat))\n",
      "  .. .. ..$ original.predictor: num [1:207] 0.4291 0.0792 0.5643 0.3034 0.2751 ...\n",
      "  .. .. ..$ original.response : logi [1:207] FALSE FALSE TRUE FALSE FALSE FALSE ...\n",
      "  .. .. ..$ predictor         : num [1:207] 0.4291 0.0792 0.5643 0.3034 0.2751 ...\n",
      "  .. .. ..$ response          : logi [1:207] FALSE FALSE TRUE FALSE FALSE FALSE ...\n",
      "  .. .. ..$ levels            : chr [1:2] \"FALSE\" \"TRUE\"\n",
      "  .. .. ..- attr(*, \"class\")= chr \"roc\"\n",
      "  ..$ call              : language roc.default(response = ylogical, predictor = as.vector(phat))\n",
      "  ..$ original.predictor: num [1:207] 0.4291 0.0792 0.5643 0.3034 0.2751 ...\n",
      "  ..$ original.response : logi [1:207] FALSE FALSE TRUE FALSE FALSE FALSE ...\n",
      "  ..$ predictor         : num [1:207] 0.4291 0.0792 0.5643 0.3034 0.2751 ...\n",
      "  ..$ response          : logi [1:207] FALSE FALSE TRUE FALSE FALSE FALSE ...\n",
      "  ..$ levels            : chr [1:2] \"FALSE\" \"TRUE\"\n",
      "  ..- attr(*, \"class\")= chr \"roc\"\n"
     ]
    }
   ],
   "source": [
    "#explore the structure of AUC object, produced by the function auc()\n",
    "#note that it is a numeric variable, a single value, but with a lot of attributes (i.e. info behind this single value)\n",
    "str(AUC)"
   ]
  },
  {
   "cell_type": "code",
   "execution_count": 23,
   "id": "1e1fc528",
   "metadata": {
    "deletable": false,
    "editable": false,
    "nbgrader": {
     "cell_type": "code",
     "checksum": "eb160e4b2eefe9a3fc7795ed877fff4e",
     "grade": false,
     "grade_id": "cell-2184f162b1fc6538",
     "locked": true,
     "schema_version": 3,
     "solution": false,
     "task": false
    }
   },
   "outputs": [
    {
     "data": {
      "text/html": [
       "0.933364661654135"
      ],
      "text/latex": [
       "0.933364661654135"
      ],
      "text/markdown": [
       "0.933364661654135"
      ],
      "text/plain": [
       "Area under the curve: 0.9334"
      ]
     },
     "metadata": {},
     "output_type": "display_data"
    }
   ],
   "source": [
    "#print the precise value of AUC\n",
    "AUC"
   ]
  },
  {
   "cell_type": "markdown",
   "id": "899a1d11",
   "metadata": {
    "deletable": false,
    "editable": false,
    "nbgrader": {
     "cell_type": "markdown",
     "checksum": "35bb713af079fe4c95e1ebfe60a85bb4",
     "grade": false,
     "grade_id": "cell-2f7639d600607e09",
     "locked": true,
     "schema_version": 3,
     "solution": false,
     "task": false
    }
   },
   "source": [
    "#### Accuracy, Sensitivity, Specifity\n",
    "\n",
    "As usual, we can construct a confusion matrix and extract the accuracy, sensitivity, and specifity."
   ]
  },
  {
   "cell_type": "code",
   "execution_count": 24,
   "id": "547f354e",
   "metadata": {
    "deletable": false,
    "editable": false,
    "nbgrader": {
     "cell_type": "code",
     "checksum": "40321fcf283d2bcc7084710c62aa10ae",
     "grade": false,
     "grade_id": "cell-3326b58405d179a3",
     "locked": true,
     "schema_version": 3,
     "solution": false,
     "task": false
    }
   },
   "outputs": [],
   "source": [
    "#Create yhat vector based on the rule: yhat=Yes if phat>0.5; otherwise, yhat=No\n",
    "\n",
    "yhat = ifelse(phat>0.5, \"Yes\", \"No\")"
   ]
  },
  {
   "cell_type": "code",
   "execution_count": 25,
   "id": "0f954e78",
   "metadata": {
    "deletable": false,
    "editable": false,
    "nbgrader": {
     "cell_type": "code",
     "checksum": "9a586e3330d4f03ba951fb46359f30a0",
     "grade": false,
     "grade_id": "cell-8dad814a1e142720",
     "locked": true,
     "schema_version": 3,
     "solution": false,
     "task": false
    }
   },
   "outputs": [
    {
     "data": {
      "text/plain": [
       "     yhat\n",
       "y      No Yes\n",
       "  No  104   8\n",
       "  Yes  18  77"
      ]
     },
     "metadata": {},
     "output_type": "display_data"
    }
   ],
   "source": [
    "#And we can create a confusion matrix:\n",
    "######\n",
    "\n",
    "tbl = table(y, yhat)\n",
    "tbl"
   ]
  },
  {
   "cell_type": "code",
   "execution_count": 26,
   "id": "72234ded",
   "metadata": {
    "deletable": false,
    "editable": false,
    "nbgrader": {
     "cell_type": "code",
     "checksum": "f853f32f48ba8418735c0cb6a315ae05",
     "grade": false,
     "grade_id": "cell-0c17d1276c8c76f6",
     "locked": true,
     "schema_version": 3,
     "solution": false,
     "task": false
    }
   },
   "outputs": [
    {
     "data": {
      "text/html": [
       "0.8743961352657"
      ],
      "text/latex": [
       "0.8743961352657"
      ],
      "text/markdown": [
       "0.8743961352657"
      ],
      "text/plain": [
       "[1] 0.8743961"
      ]
     },
     "metadata": {},
     "output_type": "display_data"
    }
   ],
   "source": [
    "# And finally, Accuracy (proportion of correctly predicted)\n",
    "#####\n",
    "\n",
    "acc = (tbl[1,1]+tbl[2,2])/sum(tbl)\n",
    "acc"
   ]
  },
  {
   "cell_type": "code",
   "execution_count": 27,
   "id": "42eb633a",
   "metadata": {
    "deletable": false,
    "editable": false,
    "nbgrader": {
     "cell_type": "code",
     "checksum": "a09c087d34daec06c1cfd82ae3f0a855",
     "grade": false,
     "grade_id": "cell-b3e16f785f1cb58d",
     "locked": true,
     "schema_version": 3,
     "solution": false,
     "task": false
    }
   },
   "outputs": [
    {
     "data": {
      "text/html": [
       "0.810526315789474"
      ],
      "text/latex": [
       "0.810526315789474"
      ],
      "text/markdown": [
       "0.810526315789474"
      ],
      "text/plain": [
       "[1] 0.8105263"
      ]
     },
     "metadata": {},
     "output_type": "display_data"
    }
   ],
   "source": [
    "# Sensitivity\n",
    "#####\n",
    "\n",
    "sens = tbl[2,2] / (tbl[2,2] + tbl[2,1])\n",
    "sens"
   ]
  },
  {
   "cell_type": "code",
   "execution_count": 28,
   "id": "d5b9a3ba",
   "metadata": {
    "deletable": false,
    "editable": false,
    "nbgrader": {
     "cell_type": "code",
     "checksum": "0e1104d336ab2209d8aa95a4c16a1049",
     "grade": false,
     "grade_id": "cell-0408734bb9c2209f",
     "locked": true,
     "schema_version": 3,
     "solution": false,
     "task": false
    }
   },
   "outputs": [
    {
     "data": {
      "text/html": [
       "0.928571428571429"
      ],
      "text/latex": [
       "0.928571428571429"
      ],
      "text/markdown": [
       "0.928571428571429"
      ],
      "text/plain": [
       "[1] 0.9285714"
      ]
     },
     "metadata": {},
     "output_type": "display_data"
    }
   ],
   "source": [
    "# Specificity\n",
    "#####\n",
    "\n",
    "spec = tbl[1,1] / (tbl[1,1] + tbl[1,2])\n",
    "spec"
   ]
  },
  {
   "cell_type": "code",
   "execution_count": 29,
   "id": "6358bef7",
   "metadata": {
    "deletable": false,
    "editable": false,
    "nbgrader": {
     "cell_type": "code",
     "checksum": "4731141b882ef4ccdb57ff2e79c6e7e5",
     "grade": false,
     "grade_id": "cell-017ff6bb686321d4",
     "locked": true,
     "schema_version": 3,
     "solution": false,
     "task": false
    }
   },
   "outputs": [
    {
     "data": {
      "image/png": "[encoded data removed]",
      "text/plain": [
       "plot without title"
      ]
     },
     "metadata": {
      "image/png": {
       "height": 420,
       "width": 420
      }
     },
     "output_type": "display_data"
    }
   ],
   "source": [
    "# Finally, note that we can quickly plot the coefficients for various models, i.e. various lambdas/flexibilities\n",
    "######\n",
    "\n",
    "plot(cvfit$glmnet.fit)"
   ]
  },
  {
   "cell_type": "markdown",
   "id": "a6cae99b",
   "metadata": {
    "deletable": false,
    "editable": false,
    "nbgrader": {
     "cell_type": "markdown",
     "checksum": "32b9718daf83dad38b90c526a8d5a367",
     "grade": false,
     "grade_id": "cell-5ffbeac70786512c",
     "locked": true,
     "schema_version": 3,
     "solution": false,
     "task": false
    }
   },
   "source": [
    "<br>\n",
    "\n",
    "### Lasso Regularization\n",
    "\n",
    "\n",
    "<br>\n",
    "\n",
    "Now repeat some of the above steps, but for lasso regularization.\n",
    "\n",
    "<br>\n",
    "\n",
    "### Part (b)\n",
    "\n",
    "Fit the lasso model using cross-validation with 10 folds. To do that, create object `cvfit` using the `cv.glmnet()` function. Use **deviance** as a loss function, i.e. as a measure of performance. Also, use the same `mylambda` as above as your vector of $\\lambda$s.  Before running the `cv.glmnet()` function, set your random number seed to `1`.\n",
    "\n",
    "If everything is okay, the estimated intercept coefficient should be `-0.85515095`; also the variables `Age`, `Chol`, `RestECG`, and `Thalnormal` will not appear in the model with optimal $\\lambda$ based on the 1SE rule.\n",
    "\n",
    "**IMPORTANT:** **Be sure to set your random number seed to `1`** or your results will not match those expected by the autograder.\n"
   ]
  },
  {
   "cell_type": "code",
   "execution_count": 11,
   "id": "a8dd95ba",
   "metadata": {
    "deletable": false,
    "nbgrader": {
     "cell_type": "code",
     "checksum": "a8e0975ab6fdf43dcd4fd19c875fa040",
     "grade": false,
     "grade_id": "cell-408d28f341f99cbd",
     "locked": false,
     "schema_version": 3,
     "solution": true,
     "task": false
    }
   },
   "outputs": [
    {
     "ename": "ERROR",
     "evalue": "Error in nrow(x): object 'X' not found\n",
     "output_type": "error",
     "traceback": [
      "Error in nrow(x): object 'X' not found\nTraceback:\n",
      "1. cv.glmnet(X, y, family = \"binomial\", lambda = mylambda, type.measure = \"deviance\", \n .     nfolds = 10, alpha = 1)",
      "2. nrow(x)"
     ]
    }
   ],
   "source": [
    "\n",
    "# your code here\n",
    "#code from this same assignment\n",
    "set.seed(1)\n",
    "\n",
    "mylambda = seq(0, 2, length.out = 500) \n",
    "\n",
    "cvfit = cv.glmnet(X, y, family = \"binomial\", lambda = mylambda, type.measure = \"deviance\", nfolds = 10, alpha = 1) #1)  # Setting alpha to 1 for lasso\n",
    "\n",
    "str(cvfit)\n",
    "\n",
    "## The value of optimal lambda that minimizes loss (we used mse most recently)\n",
    "cvfit$lambda.min\n",
    "\n",
    "## The value of optimal lambda by the 1SE rule\n",
    "cvfit$lambda.1se\n",
    "\n",
    "print(\"Using coef(cvfit):\")\n",
    "coef(cvfit)\n",
    "\n",
    "cat(\"\\n\\n\") #two newlines\n",
    "\n",
    "print('Using predict(object=cvfit, type=\"coefficients\"):')\n",
    "predict(object = cvfit, type = \"coefficients\")\n",
    "\n",
    "all(coef(cvfit) == predict(object = cvfit, type = \"coefficients\"))\n",
    "\n",
    "all(predict(object = cvfit, s = cvfit$lambda.1se, type = \"coefficients\") == predict(object=cvfit, type=\"coefficients\"))\n",
    "\n"
   ]
  },
  {
   "cell_type": "code",
   "execution_count": 52,
   "id": "9832629e",
   "metadata": {
    "deletable": false,
    "editable": false,
    "nbgrader": {
     "cell_type": "code",
     "checksum": "c10375d4eb4caa209532dc88b83f2ce0",
     "grade": false,
     "grade_id": "cell-124cffb43831fdc1",
     "locked": true,
     "schema_version": 3,
     "solution": false,
     "task": false
    }
   },
   "outputs": [
    {
     "data": {
      "text/plain": [
       "17 x 1 sparse Matrix of class \"dgCMatrix\"\n",
       "                             s1\n",
       "(Intercept)         -0.85515095\n",
       "Age                  .         \n",
       "Sex                  0.39613283\n",
       "ChestPainnonanginal -0.72014753\n",
       "ChestPainnontypical -0.05373977\n",
       "ChestPaintypical    -1.62194001\n",
       "RestBP               0.00683900\n",
       "Chol                 .         \n",
       "Fbs                 -0.02970809\n",
       "RestECG              .         \n",
       "MaxHR               -0.01488785\n",
       "ExAng                0.37434341\n",
       "Oldpeak              0.35105037\n",
       "Slope                0.28686163\n",
       "Ca                   0.93447940\n",
       "Thalnormal           .         \n",
       "Thalreversable       1.40149307"
      ]
     },
     "metadata": {},
     "output_type": "display_data"
    }
   ],
   "source": [
    "#Check out our coefficients:\n",
    "coef(cvfit)"
   ]
  },
  {
   "cell_type": "code",
   "execution_count": 53,
   "id": "92610dc6",
   "metadata": {
    "deletable": false,
    "editable": false,
    "nbgrader": {
     "cell_type": "code",
     "checksum": "df60a9686deac094fad02b81750b7c73",
     "grade": true,
     "grade_id": "cell-396dce43b1f98567",
     "locked": true,
     "points": 1,
     "schema_version": 3,
     "solution": false,
     "task": false
    }
   },
   "outputs": [
    {
     "name": "stdout",
     "output_type": "stream",
     "text": [
      "\u001b[32mTest passed\u001b[39m 🎉\n"
     ]
    }
   ],
   "source": [
    "#check whether the intercept coefficient is -0.85515095\n",
    "\n",
    "if (test_that(desc=\"\", code={\n",
    "    expect_equal(abs(coef(cvfit)[1] - (-0.85515095)) < 1.e-5, TRUE)\n",
    "    }) != TRUE) stop(\"Sorry, wrong answer\")"
   ]
  },
  {
   "cell_type": "code",
   "execution_count": 54,
   "id": "6ddb5361",
   "metadata": {
    "deletable": false,
    "editable": false,
    "nbgrader": {
     "cell_type": "code",
     "checksum": "a671a9d4226a2c3c09e063e56fbf3f99",
     "grade": true,
     "grade_id": "cell-73b249ed0e6bd386",
     "locked": true,
     "points": 1,
     "schema_version": 3,
     "solution": false,
     "task": false
    }
   },
   "outputs": [
    {
     "name": "stdout",
     "output_type": "stream",
     "text": [
      "\u001b[32mTest passed\u001b[39m 🥳\n",
      "\u001b[32mTest passed\u001b[39m 🎉\n"
     ]
    }
   ],
   "source": [
    "#check whether the Age variable does not appear in the cvfit model (i.e. its coef. is 0) \n",
    "\n",
    "if (test_that(desc=\"\", code={\n",
    "    expect_equal(coef(cvfit)[2], 0)\n",
    "    }) != TRUE) stop(\"Sorry, wrong answer\")\n",
    "\n",
    "\n",
    "#check also the 3rd, 6th and 7th coefficient\n",
    "if (test_that(desc=\"\", code={\n",
    "    expect_equal(norm(coef(cvfit)[c(3,6,7)] - c(0.39613283,-1.62194001,0.00683900),type=\"2\") < 1.e-5, TRUE)\n",
    "    }) != TRUE) stop(\"Sorry, wrong answer\")\n"
   ]
  },
  {
   "cell_type": "code",
   "execution_count": 55,
   "id": "4b3fadd7",
   "metadata": {
    "deletable": false,
    "editable": false,
    "nbgrader": {
     "cell_type": "code",
     "checksum": "5cbf5bf8ae21bddee9af1f98add8e4bd",
     "grade": true,
     "grade_id": "cell-6390120fba7fe77e",
     "locked": true,
     "points": 2,
     "schema_version": 3,
     "solution": false,
     "task": false
    }
   },
   "outputs": [],
   "source": [
    "#check whether cvfit is correct (hidden tests)\n",
    "\n"
   ]
  },
  {
   "cell_type": "code",
   "execution_count": 56,
   "id": "e7cde240",
   "metadata": {
    "deletable": false,
    "editable": false,
    "nbgrader": {
     "cell_type": "code",
     "checksum": "dc7a5ede908d64940d821231f59eef14",
     "grade": false,
     "grade_id": "cell-d411c24d98d3235a",
     "locked": true,
     "schema_version": 3,
     "solution": false,
     "task": false
    }
   },
   "outputs": [
    {
     "name": "stderr",
     "output_type": "stream",
     "text": [
      "Warning message in regularize.values(x, y, ties, missing(ties)):\n",
      "“collapsing to unique 'x' values”\n"
     ]
    },
    {
     "data": {
      "image/png": "[encoded data removed]",
      "text/plain": [
       "plot without title"
      ]
     },
     "metadata": {
      "image/png": {
       "height": 420,
       "width": 420
      }
     },
     "output_type": "display_data"
    },
    {
     "data": {
      "image/png": "[encoded data removed]",
      "text/plain": [
       "plot without title"
      ]
     },
     "metadata": {
      "image/png": {
       "height": 420,
       "width": 420
      }
     },
     "output_type": "display_data"
    }
   ],
   "source": [
    "#Some plots based on your model:\n",
    "#######\n",
    "\n",
    "#plot Lasso based on deviance measure\n",
    "plot(cvfit)  #note the x-axis in the plot is log(lambda)\n",
    "\n",
    "#plot coefficients for various models; ignore the warning message\n",
    "plot(cvfit$glmnet.fit)"
   ]
  },
  {
   "cell_type": "code",
   "execution_count": 57,
   "id": "b416c77d",
   "metadata": {
    "deletable": false,
    "editable": false,
    "nbgrader": {
     "cell_type": "code",
     "checksum": "a9211410d51924ed094f6b3989719789",
     "grade": false,
     "grade_id": "cell-419c6849339a2543",
     "locked": true,
     "schema_version": 3,
     "solution": false,
     "task": false
    }
   },
   "outputs": [
    {
     "data": {
      "image/png": "[encoded data removed]",
      "text/plain": [
       "Plot with title “paste(\"Number of Non-zero Coeff\", minute, \"s for Each \", \"\", lambda, , , , \"\")”"
      ]
     },
     "metadata": {
      "image/png": {
       "height": 420,
       "width": 420
      }
     },
     "output_type": "display_data"
    }
   ],
   "source": [
    "##Number of non-zero coefficients vs. $\\lambda$\n",
    "\n",
    "plot(cvfit$glmnet$lambda, cvfit$glmnet$df, \n",
    "     main=TeX(\"Number of Non-zero Coeff's for Each $\\\\lambda$\"),pch=16,\n",
    "     xlab=TeX('$\\\\lambda$'), ylab='Number of Non-zero coeffs', cex=1.25, cex.lab=1.25, cex.main=1.25)\n",
    "\n",
    "abline(v=cvfit$lambda.min,col=\"red\",lty=\"dashed\")\n",
    "abline(v=cvfit$lambda.1se,col=\"blue\",lty=\"dashed\")"
   ]
  },
  {
   "cell_type": "markdown",
   "id": "023b7454",
   "metadata": {
    "deletable": false,
    "editable": false,
    "nbgrader": {
     "cell_type": "markdown",
     "checksum": "d45779326ed77bd40e2d0a57def62ed0",
     "grade": false,
     "grade_id": "cell-704fb5a51241e613",
     "locked": true,
     "schema_version": 3,
     "solution": false,
     "task": false
    }
   },
   "source": [
    "### Part (c)\n",
    "\n",
    "In this part you are to create `ytest`, `Xtest` and `phat` from test data, similar to the `y`, `X` and `phat` that we created above.\n",
    "\n",
    "Create a vector of output values from the test data, and call this vector `ytest`. Also, create matrix `Xtest`, which is the predictor matrix with predictor values from the test data. `phat` should be the predicted probability of being in the `Yes` class, using the model you trained above.\n",
    "\n",
    "**Hint:** `ytest` and `Xtest` should be just like `y` and `X`, except that you create them from the test data, rather than train data. The length of `ytest` should be 90, and the dimensions of `Xtest` should be 90 x 16.\n",
    "\n",
    "Also, create vector `phat` using `predict()` function and the predictor values from `Xtest`."
   ]
  },
  {
   "cell_type": "code",
   "execution_count": 37,
   "id": "c42f81c7",
   "metadata": {
    "deletable": false,
    "nbgrader": {
     "cell_type": "code",
     "checksum": "b4cc7f9404f45d84639acf6833c0fe61",
     "grade": false,
     "grade_id": "cell-7e126c88246ab09b",
     "locked": false,
     "schema_version": 3,
     "solution": true,
     "task": false
    }
   },
   "outputs": [],
   "source": [
    "# your code here\n",
    "ytest = test$AHD\n",
    "\n",
    "Xtest = test[, !(names(test) %in% c(\"PatientID\", \"AHD\"))]\n",
    "\n",
    "Xtest = model.matrix(~ ., data = Xtest)[, -1]  \n",
    "\n",
    "phat = predict(cvfit, newx = Xtest, type = \"response\", s = \"lambda.1se\")\n"
   ]
  },
  {
   "cell_type": "code",
   "execution_count": 38,
   "id": "92af4767",
   "metadata": {
    "deletable": false,
    "editable": false,
    "nbgrader": {
     "cell_type": "code",
     "checksum": "d313b3072ac0aa43456f893339ede282",
     "grade": true,
     "grade_id": "cell-1d660a96c2b308db",
     "locked": true,
     "points": 1,
     "schema_version": 3,
     "solution": false,
     "task": false
    }
   },
   "outputs": [
    {
     "name": "stdout",
     "output_type": "stream",
     "text": [
      "\u001b[32mTest passed\u001b[39m 🎉\n",
      "\u001b[32mTest passed\u001b[39m 🥇\n",
      "\u001b[32mTest passed\u001b[39m 🥳\n"
     ]
    }
   ],
   "source": [
    "#check whether the lengths/dimensions of ytest, Xtest and phat are correct\n",
    "\n",
    "if (test_that(desc=\"\", code={\n",
    "    expect_equal(length(ytest), 90)\n",
    "    }) != TRUE) stop(\"Sorry, wrong answer\")\n",
    "\n",
    "if (test_that(desc=\"\", code={\n",
    "    expect_equal(dim(Xtest), c(90,16))\n",
    "    }) != TRUE) stop(\"Sorry, wrong answer\")\n",
    "\n",
    "if (test_that(desc=\"\", code={\n",
    "    expect_equal(length(phat), 90)\n",
    "    }) != TRUE) stop(\"Sorry, wrong answer\")\n"
   ]
  },
  {
   "cell_type": "code",
   "execution_count": 39,
   "id": "99d13bf1",
   "metadata": {
    "deletable": false,
    "editable": false,
    "nbgrader": {
     "cell_type": "code",
     "checksum": "58e9e51b2b4b600d03c2ba3a5a119446",
     "grade": true,
     "grade_id": "cell-e84b56056a7dc9c0",
     "locked": true,
     "points": 3,
     "schema_version": 3,
     "solution": false,
     "task": false
    }
   },
   "outputs": [
    {
     "name": "stdout",
     "output_type": "stream",
     "text": [
      "\u001b[32mTest passed\u001b[39m 🎉\n",
      "\u001b[32mTest passed\u001b[39m 🎉\n",
      "\u001b[32mTest passed\u001b[39m 🌈\n"
     ]
    }
   ],
   "source": [
    "#check first couple of entries for each of the three objects\n",
    "\n",
    "if (test_that(desc=\"\", code={\n",
    "    expect_equal(all(ytest[1:7] == c('No','Yes','No','Yes','No','No','Yes')), TRUE)\n",
    "    }) != TRUE) stop(\"Sorry, wrong answer\")\n",
    "\n",
    "if (test_that(desc=\"\", code={\n",
    "    expect_equal(all(Xtest[1:3,1:2] == matrix(c(63,1,67,1,41,0),nrow=3,byrow=TRUE)), TRUE)\n",
    "    }) != TRUE) stop(\"Sorry, wrong answer\")\n",
    "\n",
    "if (test_that(desc=\"\", code={\n",
    "    expect_equal(norm(phat[1:5] - c(0.156541667787126,\n",
    "                                     0.9646140853973,\n",
    "                                     0.141583578594962,\n",
    "                                     0.415638856004774,\n",
    "                                     0.359088710154446),type=\"2\") < 1.e-5, TRUE)\n",
    "    }) != TRUE) stop(\"Sorry, wrong answer\")"
   ]
  },
  {
   "cell_type": "markdown",
   "id": "52216723",
   "metadata": {
    "deletable": false,
    "editable": false,
    "nbgrader": {
     "cell_type": "markdown",
     "checksum": "e8e0a364e0fbc0697b8cfd5cc3dc925b",
     "grade": false,
     "grade_id": "cell-7f3c3462054935d2",
     "locked": true,
     "schema_version": 3,
     "solution": false,
     "task": false
    }
   },
   "source": [
    "### ROC Curve\n",
    "\n",
    "<br>\n",
    "\n",
    "### Part (d)\n",
    "\n",
    "Plot the ROC curve as a visual measure of performance of your `cvfit` model on the test data. Use `roc()` function from `pROC` library."
   ]
  },
  {
   "cell_type": "code",
   "execution_count": 40,
   "id": "704071c0",
   "metadata": {
    "deletable": false,
    "nbgrader": {
     "cell_type": "code",
     "checksum": "171f8d785c1846449e05fe37a6b709c0",
     "grade": true,
     "grade_id": "cell-3f4e5d76d8b4dc62",
     "locked": false,
     "points": 4,
     "schema_version": 3,
     "solution": true,
     "task": false
    }
   },
   "outputs": [
    {
     "name": "stderr",
     "output_type": "stream",
     "text": [
      "Setting levels: control = FALSE, case = TRUE\n",
      "\n",
      "Setting direction: controls < cases\n",
      "\n"
     ]
    },
    {
     "data": {
      "image/png": "[encoded data removed]",
      "text/plain": [
       "Plot with title “AUC =  0.86”"
      ]
     },
     "metadata": {
      "image/png": {
       "height": 420,
       "width": 420
      }
     },
     "output_type": "display_data"
    }
   ],
   "source": [
    "# your code here\n",
    "#code from this same assignment\n",
    "ytest_logical = (ytest == \"Yes\")\n",
    "\n",
    "#Get the curve:\n",
    "ROC_curve_test = roc(response = ytest_logical, predictor = as.vector(phat))\n",
    "\n",
    "#And the area under the curve:\n",
    "AUC_test = auc(ROC_curve_test)\n",
    "\n",
    "#Can get the point closest to upper left\n",
    "best_point = coords(ROC_curve_test, \"best\", ret = c(\"threshold\", \"sens\", \"spec\"))\n",
    "\n",
    "#Plot 1 - specificity\n",
    "plot(x = 1 - ROC_curve_test$specificities,\n",
    "     y = ROC_curve_test$sensitivities,\n",
    "     main = paste(\"AUC = \", round(AUC_test,2)), \n",
    "     xlab = \"1 - Specificity\",\n",
    "     ylab = \"Sensitivity\",\n",
    "     type = \"l\", col=\"red\",\n",
    "     lwd = 2,\n",
    "     cex = 1.25,\n",
    "     cex.lab = 1.25)\n",
    "\n",
    "abline(a = 0, b = 1, lty = \"dashed\") \n",
    "\n",
    "#Plot the point corresponding to the best cutoff\n",
    "points((1 - best_point$spec), best_point$sens, pch = 21, bg = 'black', cex = 2)"
   ]
  },
  {
   "cell_type": "markdown",
   "id": "a68d8d3c",
   "metadata": {
    "deletable": false,
    "editable": false,
    "nbgrader": {
     "cell_type": "markdown",
     "checksum": "05d6f140bdad60629772223377013477",
     "grade": false,
     "grade_id": "cell-dfc25ed4bf3f2ca7",
     "locked": true,
     "schema_version": 3,
     "solution": false,
     "task": false
    }
   },
   "source": [
    "### Part (d) continued\n",
    "\n",
    "Also, create R variable `AUC` which represents the AUC (area under curve), as a quantified measure of performance. (Ignore the warning message). Do NOT round your answer."
   ]
  },
  {
   "cell_type": "code",
   "execution_count": 41,
   "id": "23fc1102",
   "metadata": {
    "deletable": false,
    "nbgrader": {
     "cell_type": "code",
     "checksum": "c3ee04bef0ff31ebd995af15727fa372",
     "grade": false,
     "grade_id": "cell-c5205d23b8d15f2a",
     "locked": false,
     "schema_version": 3,
     "solution": true,
     "task": false
    }
   },
   "outputs": [
    {
     "name": "stderr",
     "output_type": "stream",
     "text": [
      "Setting levels: control = FALSE, case = TRUE\n",
      "\n",
      "Setting direction: controls < cases\n",
      "\n"
     ]
    }
   ],
   "source": [
    "\n",
    "# your code here\n",
    "#code from this same assignment\n",
    "ytest_logical = (ytest == \"Yes\")\n",
    "\n",
    "ROC_curve_test = roc(response = ytest_logical, predictor = as.vector(phat))\n",
    "\n",
    "AUC = auc(ROC_curve_test)"
   ]
  },
  {
   "cell_type": "code",
   "execution_count": 42,
   "id": "3648abc2",
   "metadata": {
    "deletable": false,
    "editable": false,
    "nbgrader": {
     "cell_type": "code",
     "checksum": "694e84ddeaf8ad3615a8948828cc29d0",
     "grade": true,
     "grade_id": "cell-a788a4b131a2f725",
     "locked": true,
     "points": 1,
     "schema_version": 3,
     "solution": false,
     "task": false
    }
   },
   "outputs": [
    {
     "name": "stdout",
     "output_type": "stream",
     "text": [
      "\u001b[32mTest passed\u001b[39m 🥳\n"
     ]
    }
   ],
   "source": [
    "#check whether the 6th and 7th decimal digits of AUC are 71\n",
    "\n",
    "if (test_that(desc=\"\", code={\n",
    "    expect_equal(floor(AUC*10^7) %% 100 == 71, TRUE)\n",
    "    }) != TRUE) stop(\"Sorry, wrong answer\")\n"
   ]
  },
  {
   "cell_type": "code",
   "execution_count": 43,
   "id": "db89e0a1",
   "metadata": {
    "deletable": false,
    "editable": false,
    "nbgrader": {
     "cell_type": "code",
     "checksum": "de2047d763ea2f07b4212d8f220a28eb",
     "grade": true,
     "grade_id": "cell-19e6a114ce3b0d48",
     "locked": true,
     "points": 2,
     "schema_version": 3,
     "solution": false,
     "task": false
    }
   },
   "outputs": [],
   "source": [
    "#check whether AUC is correct (hidden tests)\n",
    "\n"
   ]
  },
  {
   "cell_type": "markdown",
   "id": "5db194cd",
   "metadata": {
    "deletable": false,
    "editable": false,
    "nbgrader": {
     "cell_type": "markdown",
     "checksum": "c23f0e04751c8bb74ddd857df6851420",
     "grade": false,
     "grade_id": "cell-b04ccc8e73db3116",
     "locked": true,
     "schema_version": 3,
     "solution": false,
     "task": false
    }
   },
   "source": [
    "### Confusion Matrix, Accuracy, False Negative Rate\n",
    "\n",
    "<br>\n",
    "\n",
    "### Part (d)\n",
    "\n",
    "Create vector `yhat` of estimated (i.e. predicted) outputs $\\widehat{AHD}$ for the test data, with values \"Yes\" if the corresponding estimated probability of \"Yes\" (i.e. `pihat` entry) is greater than 0.5, and \"No\" otherwise. \n",
    "\n",
    "**Hint:** Approach this just as we did the train data.\n",
    "\n",
    "Also, create R variable `tbl` which is of `table` type and represents confusion matrix, with `yhat` represented by columns and `ytest` by rows. Nos should be first, followed by Yeses.\n",
    "\n",
    "**Hint:** `tbl[1,2]` should be 6. Also, the sum of all the 4 entries should equal the sample size in the test data, which is 90.\n",
    "\n"
   ]
  },
  {
   "cell_type": "code",
   "execution_count": 44,
   "id": "abe61578",
   "metadata": {
    "deletable": false,
    "nbgrader": {
     "cell_type": "code",
     "checksum": "0f8acb0819acb6772be249f6ed75af0c",
     "grade": false,
     "grade_id": "cell-0c074198c300720f",
     "locked": false,
     "schema_version": 3,
     "solution": true,
     "task": false
    }
   },
   "outputs": [],
   "source": [
    "#creating yhat vector based on the rule: yhat=Yes if pihat>0.5; otherwise, yhat=No\n",
    "#also, creating the confusion matrix tbl\n",
    "\n",
    "# your code here\n",
    "#code from this same assignment\n",
    "yhat = ifelse(phat > 0.5, \"Yes\", \"No\")\n",
    "tbl = table(ytest, yhat)\n"
   ]
  },
  {
   "cell_type": "code",
   "execution_count": 45,
   "id": "dd6e7450",
   "metadata": {
    "deletable": false,
    "editable": false,
    "nbgrader": {
     "cell_type": "code",
     "checksum": "39441c4bfdd13eb3b0e7541ddbce6981",
     "grade": true,
     "grade_id": "cell-ec6d9ad5154f48b2",
     "locked": true,
     "points": 1,
     "schema_version": 3,
     "solution": false,
     "task": false
    }
   },
   "outputs": [
    {
     "name": "stdout",
     "output_type": "stream",
     "text": [
      "\u001b[32mTest passed\u001b[39m 🥇\n"
     ]
    }
   ],
   "source": [
    "#check whether first 8 values of yhat are 'No','Yes','No','No','No','No','No','Yes'\n",
    "\n",
    "if (test_that(desc=\"\", code={\n",
    "    expect_equal(all(yhat[1:8] == c('No','Yes','No','No','No','No','No','Yes')), TRUE)\n",
    "    }) != TRUE) stop(\"Sorry, wrong answer\")"
   ]
  },
  {
   "cell_type": "code",
   "execution_count": 46,
   "id": "f8190772",
   "metadata": {
    "deletable": false,
    "editable": false,
    "nbgrader": {
     "cell_type": "code",
     "checksum": "c5a9ddf280221d39d883da8d1ff4da6e",
     "grade": true,
     "grade_id": "cell-7ad6e17afe117f29",
     "locked": true,
     "points": 2,
     "schema_version": 3,
     "solution": false,
     "task": false
    }
   },
   "outputs": [],
   "source": [
    "#check whether yhat is correct (hiden tests)\n",
    "\n"
   ]
  },
  {
   "cell_type": "code",
   "execution_count": 47,
   "id": "8ef4d25e",
   "metadata": {
    "deletable": false,
    "editable": false,
    "nbgrader": {
     "cell_type": "code",
     "checksum": "d60c85fa797b7a97bc312a06413def92",
     "grade": true,
     "grade_id": "cell-18c8b492d0a5ca79",
     "locked": true,
     "points": 1,
     "schema_version": 3,
     "solution": false,
     "task": false
    }
   },
   "outputs": [
    {
     "name": "stdout",
     "output_type": "stream",
     "text": [
      "\u001b[32mTest passed\u001b[39m 🥇\n",
      "\u001b[32mTest passed\u001b[39m 🎊\n"
     ]
    }
   ],
   "source": [
    "#check whether tbl[1,2] is 6\n",
    "\n",
    "if (test_that(desc=\"\", code={\n",
    "    expect_equal(tbl[1,2]==6, TRUE)\n",
    "    }) != TRUE) stop(\"Sorry, wrong answer\")\n",
    "\n",
    "#check whether the sum of all the entries in tbl is 90\n",
    "\n",
    "if (test_that(desc=\"\", code={\n",
    "    expect_equal(sum(tbl), 90)\n",
    "    }) != TRUE) stop(\"Sorry, wrong answer\")"
   ]
  },
  {
   "cell_type": "code",
   "execution_count": 48,
   "id": "6ed728a8",
   "metadata": {
    "deletable": false,
    "editable": false,
    "nbgrader": {
     "cell_type": "code",
     "checksum": "8fbca2a234b1aa688005b78c0e080979",
     "grade": true,
     "grade_id": "cell-958ecfea866de651",
     "locked": true,
     "points": 2,
     "schema_version": 3,
     "solution": false,
     "task": false
    }
   },
   "outputs": [],
   "source": [
    "#check whether tbl is correct (hidden tests)\n",
    "\n"
   ]
  },
  {
   "cell_type": "markdown",
   "id": "7dc67ba1",
   "metadata": {
    "deletable": false,
    "editable": false,
    "nbgrader": {
     "cell_type": "markdown",
     "checksum": "d651921eab98ef52468733c74abcd9b7",
     "grade": false,
     "grade_id": "cell-0c8eb6e8aa409bb8",
     "locked": true,
     "schema_version": 3,
     "solution": false,
     "task": false
    }
   },
   "source": [
    "\n",
    "### Part (e)\n",
    "\n",
    "Calculate the accuracy, i.e. the proportion of correctly predicted outputs in the test data. Store this value in the R variable `acc`.\n",
    "`acc = <some expression>`\n",
    "\n",
    "<br>"
   ]
  },
  {
   "cell_type": "code",
   "execution_count": 49,
   "id": "32677c08",
   "metadata": {
    "deletable": false,
    "nbgrader": {
     "cell_type": "code",
     "checksum": "8537030e11e4829d8197d08c7a720401",
     "grade": false,
     "grade_id": "cell-0e7a0f66f8de5323",
     "locked": false,
     "schema_version": 3,
     "solution": true,
     "task": false
    }
   },
   "outputs": [],
   "source": [
    "\n",
    "# your code here\n",
    "#code from this same assignment\n",
    "acc = (tbl[1,1]+tbl[2,2])/sum(tbl)\n",
    "\n"
   ]
  },
  {
   "cell_type": "code",
   "execution_count": 50,
   "id": "8df8e211",
   "metadata": {
    "deletable": false,
    "editable": false,
    "nbgrader": {
     "cell_type": "code",
     "checksum": "9eec480d938b15631e78ace0d79f95e8",
     "grade": true,
     "grade_id": "cell-9380f876a5441ad8",
     "locked": true,
     "points": 1,
     "schema_version": 3,
     "solution": false,
     "task": false
    }
   },
   "outputs": [
    {
     "name": "stdout",
     "output_type": "stream",
     "text": [
      "\u001b[32mTest passed\u001b[39m 🌈\n"
     ]
    }
   ],
   "source": [
    "#check whether the 6th and 7th decimal digits of acc are 11\n",
    "\n",
    "if (test_that(desc=\"\", code={\n",
    "    expect_equal(floor(acc*10^7) %% 100 == 11, TRUE)\n",
    "    }) != TRUE) stop(\"Sorry, wrong answer\")\n"
   ]
  },
  {
   "cell_type": "code",
   "execution_count": 82,
   "id": "1673ef67",
   "metadata": {
    "deletable": false,
    "editable": false,
    "nbgrader": {
     "cell_type": "code",
     "checksum": "1dcb5541285a586938098d251b08ed49",
     "grade": true,
     "grade_id": "cell-7aeafc42a7c5afbf",
     "locked": true,
     "points": 2,
     "schema_version": 3,
     "solution": false,
     "task": false
    }
   },
   "outputs": [],
   "source": [
    "#check whether acc is correct (hidden tests)\n",
    "\n"
   ]
  },
  {
   "cell_type": "code",
   "execution_count": null,
   "id": "50991c6b",
   "metadata": {},
   "outputs": [],
   "source": []
  }
 ],
 "metadata": {
  "kernelspec": {
   "display_name": "R",
   "language": "R",
   "name": "ir"
  },
  "language_info": {
   "codemirror_mode": "r",
   "file_extension": ".r",
   "mimetype": "text/x-r-source",
   "name": "R",
   "pygments_lexer": "r",
   "version": "4.3.3"
  }
 },
 "nbformat": 4,
 "nbformat_minor": 5
}
