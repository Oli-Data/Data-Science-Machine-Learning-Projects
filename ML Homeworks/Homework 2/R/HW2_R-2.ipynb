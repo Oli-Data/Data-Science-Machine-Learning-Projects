{
 "cells": [
  {
   "cell_type": "markdown",
   "id": "3babdefd",
   "metadata": {},
   "source": [
    "**IMPORTANT** <br> <ul> <li> Do **NOT** replace or remove this notebook (ipynb file)! Each cell has unique nbgrader's metadata and ID which, if changed outside the nbgrader, cannot pass the tests. Do **NOT** change the name of the file!</li> <li> To receive any credit, don't forget to **SUBMIT** your notebook when you are done! You can have multiple submissions before the deadline; only the last one is saved, including its timestamp.</li> <li>Before submitting, **Validate** your notebook to check if your codes pass all visible tests. </li> <li>Make sure you fill in any cell with the comment `# your code here`. Remove or comment the command `fail()` (in R), or `raise NotImplementedError` (in Python) and place your code there </li> </ul>"
   ]
  },
  {
   "cell_type": "code",
   "execution_count": 1,
   "id": "41f05be2",
   "metadata": {},
   "outputs": [],
   "source": [
    "NAME = \"Christian Olivares-Rodriguez\""
   ]
  },
  {
   "cell_type": "markdown",
   "id": "1741c825",
   "metadata": {},
   "source": [
    "---"
   ]
  },
  {
   "cell_type": "code",
   "execution_count": 1,
   "id": "05221e14",
   "metadata": {
    "deletable": false,
    "editable": false,
    "nbgrader": {
     "cell_type": "code",
     "checksum": "0a1cd489cd4282d49e595f8917b95082",
     "grade": false,
     "grade_id": "cell-4a55cab80c69beaf",
     "locked": true,
     "schema_version": 3,
     "solution": false,
     "task": false
    }
   },
   "outputs": [],
   "source": [
    "## import libraries needed\n",
    "## make sure you run this code first!\n",
    "\n",
    "library(testthat)\n",
    "library(digest)\n",
    "library(stringr)"
   ]
  },
  {
   "cell_type": "markdown",
   "id": "a2afcd97",
   "metadata": {
    "deletable": false,
    "editable": false,
    "nbgrader": {
     "cell_type": "markdown",
     "checksum": "dd7fb24ad31db65f1fd4ceb9a69b17a7",
     "grade": false,
     "grade_id": "cell-9495ca7a76add5bc",
     "locked": true,
     "schema_version": 3,
     "solution": false,
     "task": false
    }
   },
   "source": [
    "## Question 1.\n",
    "\n",
    "In class, we saw an example of kNN (k-Nearest Neighbors) model used for predicting concentration of nitrogen oxides (NOx) in Boston air, based on a single predictor - weighted average distance from 5 employment centers in Boston area. In this question you are going to tune the hyperparameter $k$, i.e. find its optimal value, and then fit the model with that value of $k$. But first, you will produce the following plot from class, which shows how performance of the fitted model varies with the tuning parameter $k$.\n",
    "\n",
    "<img src=\"rmse_plots.png\" style=\"width: 600px;\"/>\n",
    "\n",
    "\n",
    "We will use simple validation and split the data into `train` and `test` subsets.\n",
    "\n",
    "To simplify, we first extract the two variables `nox` and `dist` from `Boston` data frame from `MASS` library, and create a new data frame called `df`. To do that, run the following cell.\n",
    "\n",
    "Note that we rename `dist` and `nox` as `xall` and `yall`, respectively, and we will use these in the `kknn()` function below."
   ]
  },
  {
   "cell_type": "code",
   "execution_count": 2,
   "id": "ea7ac783",
   "metadata": {
    "deletable": false,
    "editable": false,
    "nbgrader": {
     "cell_type": "code",
     "checksum": "a6172d762466020ade13c4bf1deadb69",
     "grade": false,
     "grade_id": "cell-b2a6358ffae2e72f",
     "locked": true,
     "schema_version": 3,
     "solution": false,
     "task": false
    }
   },
   "outputs": [
    {
     "data": {
      "text/html": [
       "<style>\n",
       ".list-inline {list-style: none; margin:0; padding: 0}\n",
       ".list-inline>li {display: inline-block}\n",
       ".list-inline>li:not(:last-child)::after {content: \"\\00b7\"; padding: 0 .5ex}\n",
       "</style>\n",
       "<ol class=list-inline><li>506</li><li>2</li></ol>\n"
      ],
      "text/latex": [
       "\\begin{enumerate*}\n",
       "\\item 506\n",
       "\\item 2\n",
       "\\end{enumerate*}\n"
      ],
      "text/markdown": [
       "1. 506\n",
       "2. 2\n",
       "\n",
       "\n"
      ],
      "text/plain": [
       "[1] 506   2"
      ]
     },
     "metadata": {},
     "output_type": "display_data"
    }
   ],
   "source": [
    "## RUN THIS CELL\n",
    "\n",
    "library(MASS)\n",
    "library(kknn)\n",
    "\n",
    "n = nrow(Boston)  #number of observatons/rows, i.e. sample size\n",
    "\n",
    "xall = Boston$dis  #our input variable\n",
    "yall = 10*Boston$nox  #our output variable\n",
    "\n",
    "# create data frame df that consists only of our input and output variables\n",
    "df = data.frame(xall,yall) #simple data frame for convenience\n",
    "\n",
    "dim(df) #checking the dimension of the dataframe df (note there are 506 obs)"
   ]
  },
  {
   "cell_type": "markdown",
   "id": "dbfbc666",
   "metadata": {
    "deletable": false,
    "editable": false,
    "nbgrader": {
     "cell_type": "markdown",
     "checksum": "d420e6dfc38962bfd5a205c4da0c1787",
     "grade": false,
     "grade_id": "cell-4c248124d054f647",
     "locked": true,
     "schema_version": 3,
     "solution": false,
     "task": false
    }
   },
   "source": [
    "### Part (a)\n",
    "\n",
    "\n",
    "**In the following cell, use seed 123 in the function `set.seed()`** to make sure you produce the same (pseudo)random sample as in the test cells.\n",
    "\n",
    "Then, create the vector `tr` which is a random sample of 400 indices from the index set: 1,2,3,...,506 (i.e. all rows in `df`). This will be the set of indices for our *training* data (hence the name `tr`). \n",
    "\n",
    "To create `tr`, use the `sample()` function.\n",
    "\n",
    "You can check the documentation for the function `sample()` for details. Be sure to retain the default argument `replace = FALSE`.\n",
    "\n",
    "If you set the seed to 123 before creating `tr`, first couple of values of `tr` should be\n",
    "\n",
    "`415, 463, 179, 14, 195`\n",
    "\n",
    "<br>"
   ]
  },
  {
   "cell_type": "code",
   "execution_count": 3,
   "id": "5f293cc0",
   "metadata": {
    "deletable": false,
    "nbgrader": {
     "cell_type": "code",
     "checksum": "0d6742e07028d289e334a7f7462f8408",
     "grade": false,
     "grade_id": "cell-792d41b155d9db72",
     "locked": false,
     "schema_version": 3,
     "solution": true,
     "task": false
    }
   },
   "outputs": [],
   "source": [
    "set.seed(123)\n",
    "\n",
    "tr = sample(1:506, size = 400, replace = FALSE)\n"
   ]
  },
  {
   "cell_type": "code",
   "execution_count": 4,
   "id": "f748c8de",
   "metadata": {
    "deletable": false,
    "editable": false,
    "nbgrader": {
     "cell_type": "code",
     "checksum": "211847a4af30c6cc23e5f875de1823b2",
     "grade": true,
     "grade_id": "cell-ee392896f22b2ac2",
     "locked": true,
     "points": 0,
     "schema_version": 3,
     "solution": false,
     "task": false
    }
   },
   "outputs": [
    {
     "name": "stdout",
     "output_type": "stream",
     "text": [
      "\u001b[32mTest passed\u001b[39m 🎊\n",
      "\u001b[32mTest passed\u001b[39m 🎉\n"
     ]
    }
   ],
   "source": [
    "## check whether first 5 values of vector tr are 415, 463, 179, 14, 195\n",
    "\n",
    "if (test_that(desc=\"\", code={\n",
    "    expect_equal(tr[1:5], c(415, 463, 179, 14, 195))\n",
    "    }) != TRUE) stop(\"Sorry, wrong answer\")\n",
    "\n",
    "\n",
    "## check whether tr is of length 400\n",
    "\n",
    "if (test_that(desc=\"\", code={\n",
    "    expect_equal(length(tr), 400)\n",
    "    }) != TRUE) stop(\"Sorry, wrong answer\")\n"
   ]
  },
  {
   "cell_type": "code",
   "execution_count": 5,
   "id": "310d9a59",
   "metadata": {
    "deletable": false,
    "editable": false,
    "nbgrader": {
     "cell_type": "code",
     "checksum": "531e260e5d8b785680d041f7018b4b22",
     "grade": true,
     "grade_id": "cell-7f9cbd05c41e3cc0",
     "locked": true,
     "points": 1,
     "schema_version": 3,
     "solution": false,
     "task": false
    }
   },
   "outputs": [],
   "source": [
    "## check whether tr is correct (hidden tests)\n",
    "\n"
   ]
  },
  {
   "cell_type": "markdown",
   "id": "2ec8aac1",
   "metadata": {
    "deletable": false,
    "editable": false,
    "nbgrader": {
     "cell_type": "markdown",
     "checksum": "5e27ac33bf1651de559c13dcb4605758",
     "grade": false,
     "grade_id": "cell-148b5489b48e843e",
     "locked": true,
     "schema_version": 3,
     "solution": false,
     "task": false
    }
   },
   "source": [
    "### Part (b)\n",
    "\n",
    "Create data frames `train` and `test` from the data frame `df`. The data frame `train` should consist of observations (i.e. rows) of `df` whose indices are precisely those 400 random indices from vector `tr`. The data frame `test` should consist of the complement of `tr`, i.e. precisely those indices which are not in `tr`).\n",
    "\n",
    "**Hint:** First two rows of `train` should be\n",
    "\n",
    "&nbsp; &nbsp; &nbsp; &nbsp; &nbsp; &nbsp; **xall** &nbsp; &nbsp; &nbsp; **yall** <br>\n",
    "**415** `1.6582  6.93` \n",
    "\n",
    "**463** `2.7344  7.13\n",
    "`\n",
    "\n",
    "and of `test`:\n",
    "\n",
    "&nbsp; &nbsp; &nbsp; &nbsp; &nbsp; **xall** &nbsp; &nbsp; &nbsp; **yall** <br>\n",
    "**1** `4.0900  5.38` \n",
    "\n",
    "**6** `6.0622  4.58`"
   ]
  },
  {
   "cell_type": "code",
   "execution_count": 6,
   "id": "a73c19da",
   "metadata": {
    "deletable": false,
    "nbgrader": {
     "cell_type": "code",
     "checksum": "0da627ee11c9f2a25a6a8f7b8955725e",
     "grade": false,
     "grade_id": "cell-83a059ec45d49840",
     "locked": false,
     "schema_version": 3,
     "solution": true,
     "task": false
    }
   },
   "outputs": [
    {
     "data": {
      "text/html": [
       "<table class=\"dataframe\">\n",
       "<caption>A data.frame: 2 × 2</caption>\n",
       "<thead>\n",
       "\t<tr><th></th><th scope=col>xall</th><th scope=col>yall</th></tr>\n",
       "\t<tr><th></th><th scope=col>&lt;dbl&gt;</th><th scope=col>&lt;dbl&gt;</th></tr>\n",
       "</thead>\n",
       "<tbody>\n",
       "\t<tr><th scope=row>415</th><td>1.6582</td><td>6.93</td></tr>\n",
       "\t<tr><th scope=row>463</th><td>2.7344</td><td>7.13</td></tr>\n",
       "</tbody>\n",
       "</table>\n"
      ],
      "text/latex": [
       "A data.frame: 2 × 2\n",
       "\\begin{tabular}{r|ll}\n",
       "  & xall & yall\\\\\n",
       "  & <dbl> & <dbl>\\\\\n",
       "\\hline\n",
       "\t415 & 1.6582 & 6.93\\\\\n",
       "\t463 & 2.7344 & 7.13\\\\\n",
       "\\end{tabular}\n"
      ],
      "text/markdown": [
       "\n",
       "A data.frame: 2 × 2\n",
       "\n",
       "| <!--/--> | xall &lt;dbl&gt; | yall &lt;dbl&gt; |\n",
       "|---|---|---|\n",
       "| 415 | 1.6582 | 6.93 |\n",
       "| 463 | 2.7344 | 7.13 |\n",
       "\n"
      ],
      "text/plain": [
       "    xall   yall\n",
       "415 1.6582 6.93\n",
       "463 2.7344 7.13"
      ]
     },
     "metadata": {},
     "output_type": "display_data"
    },
    {
     "data": {
      "text/html": [
       "<table class=\"dataframe\">\n",
       "<caption>A data.frame: 2 × 2</caption>\n",
       "<thead>\n",
       "\t<tr><th></th><th scope=col>xall</th><th scope=col>yall</th></tr>\n",
       "\t<tr><th></th><th scope=col>&lt;dbl&gt;</th><th scope=col>&lt;dbl&gt;</th></tr>\n",
       "</thead>\n",
       "<tbody>\n",
       "\t<tr><th scope=row>1</th><td>4.0900</td><td>5.38</td></tr>\n",
       "\t<tr><th scope=row>6</th><td>6.0622</td><td>4.58</td></tr>\n",
       "</tbody>\n",
       "</table>\n"
      ],
      "text/latex": [
       "A data.frame: 2 × 2\n",
       "\\begin{tabular}{r|ll}\n",
       "  & xall & yall\\\\\n",
       "  & <dbl> & <dbl>\\\\\n",
       "\\hline\n",
       "\t1 & 4.0900 & 5.38\\\\\n",
       "\t6 & 6.0622 & 4.58\\\\\n",
       "\\end{tabular}\n"
      ],
      "text/markdown": [
       "\n",
       "A data.frame: 2 × 2\n",
       "\n",
       "| <!--/--> | xall &lt;dbl&gt; | yall &lt;dbl&gt; |\n",
       "|---|---|---|\n",
       "| 1 | 4.0900 | 5.38 |\n",
       "| 6 | 6.0622 | 4.58 |\n",
       "\n"
      ],
      "text/plain": [
       "  xall   yall\n",
       "1 4.0900 5.38\n",
       "6 6.0622 4.58"
      ]
     },
     "metadata": {},
     "output_type": "display_data"
    }
   ],
   "source": [
    "\n",
    "# your code here\n",
    "train = df[tr, ]\n",
    "\n",
    "test_indices = setdiff(1:nrow(df), tr)\n",
    "\n",
    "test = df[test_indices, ]\n",
    "\n",
    "head(train, 2)\n",
    "head(test, 2)\n",
    "\n"
   ]
  },
  {
   "cell_type": "code",
   "execution_count": 7,
   "id": "43293336",
   "metadata": {
    "deletable": false,
    "editable": false,
    "nbgrader": {
     "cell_type": "code",
     "checksum": "30905ba299b3ad35516dc3f0883402b5",
     "grade": true,
     "grade_id": "cell-46303c2afae2b74f",
     "locked": true,
     "points": 0,
     "schema_version": 3,
     "solution": false,
     "task": false
    }
   },
   "outputs": [
    {
     "name": "stdout",
     "output_type": "stream",
     "text": [
      "\u001b[32mTest passed\u001b[39m 🌈\n",
      "\u001b[32mTest passed\u001b[39m 😸\n"
     ]
    }
   ],
   "source": [
    "\n",
    "## check whether train and test are data frames and of right format\n",
    "\n",
    "if (test_that(desc=\"\", code={\n",
    "    expect_equal(is.data.frame(train), TRUE)\n",
    "    expect_equal(dim(train),c(400,2))\n",
    "    }) != TRUE) stop(\"Sorry, train is not correct\")\n",
    "\n",
    "if (test_that(desc=\"\", code={\n",
    "    expect_equal(is.data.frame(test), TRUE)\n",
    "    expect_equal(dim(test),c(506-400,2))\n",
    "    }) != TRUE) stop(\"Sorry, test is not correct\")\n"
   ]
  },
  {
   "cell_type": "code",
   "execution_count": 8,
   "id": "60ddbf31",
   "metadata": {
    "deletable": false,
    "editable": false,
    "nbgrader": {
     "cell_type": "code",
     "checksum": "3a8011fd39b0a7dd1202807a111ed911",
     "grade": true,
     "grade_id": "cell-8642b5630c56847d",
     "locked": true,
     "points": 0.5,
     "schema_version": 3,
     "solution": false,
     "task": false
    }
   },
   "outputs": [
    {
     "name": "stdout",
     "output_type": "stream",
     "text": [
      "\u001b[32mTest passed\u001b[39m 😸\n",
      "\u001b[32mTest passed\u001b[39m 😸\n"
     ]
    }
   ],
   "source": [
    "## check whether the first two rows of train and test data are correct\n",
    "\n",
    "\n",
    "if (test_that(desc=\"\", code={\n",
    "    expect_equal(norm(as.matrix(train[1:2,]) \n",
    "                      - matrix(c(1.6582, 6.93, 2.7344, 7.13),nrow=2,byrow=T), type=\"2\") < 1.e-4,\n",
    "                TRUE)\n",
    "    }) != TRUE) stop(\"Sorry, train is not correct\")\n",
    "\n",
    "if (test_that(desc=\"\", code={\n",
    "    expect_equal(norm(as.matrix(test[1:2,]) \n",
    "                      - matrix(c(4.0900, 5.38, 6.0622, 4.58),nrow=2,byrow=T), type=\"2\") < 1.e-4,\n",
    "                TRUE)\n",
    "    }) != TRUE) stop(\"Sorry, test is not correct\")\n"
   ]
  },
  {
   "cell_type": "code",
   "execution_count": 9,
   "id": "5fa1dee0",
   "metadata": {
    "deletable": false,
    "editable": false,
    "nbgrader": {
     "cell_type": "code",
     "checksum": "416e75ceafdce7d4c1d9da6b31ce2f04",
     "grade": true,
     "grade_id": "cell-4e129471733e5f86",
     "locked": true,
     "points": 1,
     "schema_version": 3,
     "solution": false,
     "task": false
    }
   },
   "outputs": [],
   "source": [
    "## check whether train and test data are correct (hidden tests)\n",
    "\n"
   ]
  },
  {
   "cell_type": "markdown",
   "id": "a4f3cb54",
   "metadata": {
    "deletable": false,
    "editable": false,
    "nbgrader": {
     "cell_type": "markdown",
     "checksum": "d7cda1f1bb8c3d0058be2d9d5e3bccca",
     "grade": false,
     "grade_id": "cell-90243936e6f485f6",
     "locked": true,
     "schema_version": 3,
     "solution": false,
     "task": false
    }
   },
   "source": [
    "<br>\n",
    "\n",
    "We now create vector `kvec` of possible values for the tuning parameter (i.e. hyperparameter) $k$ in the kNN model. We will take values 1,2,...,350. We could also include values up to the size of the training sample `train` (which is 400), but it's not difficult to see that the performance of the model for such values of $k$ would be lower than performance for all other values of $k$.\n",
    "\n",
    "Apart from `kvec`, we also define `nk` to be the length of `kvec` (i.e. 350). Run the following cell to create `kvec` and `nk`."
   ]
  },
  {
   "cell_type": "code",
   "execution_count": 10,
   "id": "b453441e",
   "metadata": {
    "deletable": false,
    "editable": false,
    "nbgrader": {
     "cell_type": "code",
     "checksum": "e58b33b8ec60b1cb958b8e8c415b2c5f",
     "grade": false,
     "grade_id": "cell-2eedecb09525a987",
     "locked": true,
     "schema_version": 3,
     "solution": false,
     "task": false
    }
   },
   "outputs": [],
   "source": [
    "## run this code to create kvec and define nk\n",
    "\n",
    "kvec = 1:350\n",
    "nk=length(kvec)\n"
   ]
  },
  {
   "cell_type": "markdown",
   "id": "3e9b113e",
   "metadata": {
    "deletable": false,
    "editable": false,
    "nbgrader": {
     "cell_type": "markdown",
     "checksum": "4becbe05d588cc5719b1fd464d526d2e",
     "grade": false,
     "grade_id": "cell-5913d5334b8a8f0a",
     "locked": true,
     "schema_version": 3,
     "solution": false,
     "task": false
    }
   },
   "source": [
    "### Part (c)\n",
    "\n",
    "In this part you should create vectors `outRMSE` and `inRMSE`. For each $k\\in$ `kvec`, we fit the model using training data `train`. Then, we compute the out-of-sample root mean squared error $outRMSE_k$ as well as in-sample root mean squared error $inRMSE_k$:\n",
    "\n",
    "$$outRMSE_k = \\sqrt{{1\\over n}\\sum_{i\\,\\notin \\,tr} (\\hat{y}_i - y_i)^2}$$\n",
    "\n",
    "$$inRMSE_k = \\sqrt{{1\\over n}\\sum_{i\\,\\in \\,tr} (\\hat{y}_i - y_i)^2}$$\n",
    "\n",
    "Note that the sum in $outRMSE_k$ goes over all indices that are NOT in the training index set `tr` while in $inRMSE_k$ the some goes precisely over those indices which ARE in the training index set `tr`.\n",
    "\n",
    "<br>\n",
    "\n",
    "To compute $outRMSE$ and $inRMSE$ we will need to find the fitted values $\\hat{y}_i$'s, for $i\\notin $`tr` and  \n",
    " \n",
    "For this purpose, we use function `kknn()` from the library `kknn` (imported above). We can use a code line of the form \n",
    "\n",
    "`kmod = kknn(yall ~ xall, train=??, test=??, k=??, kernel=\"rectangular\")`\n",
    "\n",
    "where `yall ~ xall` is the R formula regressing the output `yall` on the input `xall`. The argument `train` is an appropriate data frame used for training/fitting, with columns named  `xall` and `yall`. Among other info, the created object `kmod` gives fitted values for the inputs in the `test` data frame.\n",
    "\n",
    "Note that if want fitted values for the test data fame, using $k = 123$, we could use:\n",
    "\n",
    "`kmod = kknn(yall ~ xall, train=train, test=test, k=123, kernel=\"rectangular\")` and then \n",
    "\n",
    "`kmod$fitted` would be a vector of predicted y values for the `test` dataset.\n",
    "\n",
    "If want to get fitted values for the training dataset, we would just use:\n",
    "\n",
    "`kmodtr = kknn(yall ~ xall, train=train, test=train, k=123, kernel=\"rectangular\")`\n",
    "\n",
    "<br>\n",
    "\n",
    "Your task is to do this for each $k\\in$ `kvec` (not just $k=123$). Create a for-loop that for each $k \\in$ `kvec` = $(1,2,...,\\texttt{nk})$ computes $outRMSE_k$ and $inRMSE_k$ as given above and stores these values as $k$-th components of the R vectors `outRMSE` and `inRMSE`, respectively.\n",
    "\n",
    "You can start by pre-allocating memory for `outRMSE` and `inRMSE`:\n",
    "\n",
    "`outRMSE = rep(0,nk)` <br>\n",
    "`inRMSE = rep(0,nk)`\n",
    "\n",
    "\n",
    "If everything goes okay, the first couple of values of the two vectors are:\n",
    "\n",
    "outRMSE = `0.776118930538112, 0.720259336484056, 0.688533442062602, 0.688563663027939, 0.713899101268837...`\n",
    "\n",
    "inRMSE = `0.0294448637286709, 0.413066386916195, 0.479819913844999, 0.515748405687066, 0.532981421345998...`\n",
    "\n"
   ]
  },
  {
   "cell_type": "code",
   "execution_count": 11,
   "id": "434aca9c",
   "metadata": {
    "deletable": false,
    "nbgrader": {
     "cell_type": "code",
     "checksum": "a3210f91b5c0b05f2f88088390c5b057",
     "grade": false,
     "grade_id": "cell-3870da71f8b915b9",
     "locked": false,
     "schema_version": 3,
     "solution": true,
     "task": false
    }
   },
   "outputs": [],
   "source": [
    "\n",
    "outRMSE = rep(0,nk) #pre-allocating RMSE for out-of-sample data\n",
    "inRMSE = rep(0,nk) #pre-allocating RMSE for in-sample data\n",
    "\n",
    "# your code here\n",
    "\n",
    "for (i in 1:nk) {\n",
    "  k = kvec[i]\n",
    "  \n",
    "  kmod = kknn(yall ~ xall, train = train, test = test, k = k, kernel = \"rectangular\")\n",
    "  \n",
    "  test_predictions = fitted(kmod)\n",
    "\n",
    "  outRMSE[i] = sqrt(mean((test_predictions - test$yall)^2))\n",
    "  \n",
    "  kmod_train = kknn(yall ~ xall, train = train, test = train, k = k, kernel = \"rectangular\")\n",
    "  \n",
    "  train_predictions = fitted(kmod_train)\n",
    "    \n",
    "  inRMSE[i] = sqrt(mean((train_predictions - train$yall)^2))\n",
    "}\n"
   ]
  },
  {
   "cell_type": "code",
   "execution_count": 12,
   "id": "58eb701b",
   "metadata": {
    "deletable": false,
    "editable": false,
    "nbgrader": {
     "cell_type": "code",
     "checksum": "5d0e880258d3a84be6f23d62abfc57ba",
     "grade": true,
     "grade_id": "cell-ca964adb54c7c750",
     "locked": true,
     "points": 0,
     "schema_version": 3,
     "solution": false,
     "task": false
    }
   },
   "outputs": [
    {
     "name": "stdout",
     "output_type": "stream",
     "text": [
      "\u001b[32mTest passed\u001b[39m 🎉\n",
      "\u001b[32mTest passed\u001b[39m 🎊\n"
     ]
    }
   ],
   "source": [
    "## check whether outRMSE and inRMSE are numeric vectors of length nk=350\n",
    "\n",
    "if (test_that(desc=\"\", code={\n",
    "    expect_equal(is.numeric(outRMSE),TRUE)\n",
    "    expect_equal(length(outRMSE)==350, TRUE)\n",
    "    }) != TRUE) stop(\"Sorry, wrong answer\")\n",
    "\n",
    "if (test_that(desc=\"\", code={\n",
    "    expect_equal(is.numeric(inRMSE),TRUE)\n",
    "    expect_equal(length(inRMSE)==350, TRUE)\n",
    "    }) != TRUE) stop(\"Sorry, wrong answer\")\n"
   ]
  },
  {
   "cell_type": "code",
   "execution_count": 13,
   "id": "ea16f7ca",
   "metadata": {
    "deletable": false,
    "editable": false,
    "nbgrader": {
     "cell_type": "code",
     "checksum": "916d806e2e20b0cb7afe98c67aaee707",
     "grade": true,
     "grade_id": "cell-3259c56ea11fe156",
     "locked": true,
     "points": 0.5,
     "schema_version": 3,
     "solution": false,
     "task": false
    }
   },
   "outputs": [
    {
     "name": "stdout",
     "output_type": "stream",
     "text": [
      "\u001b[32mTest passed\u001b[39m 🌈\n"
     ]
    }
   ],
   "source": [
    "## check whether first couple of values of outRMSE are correct\n",
    "\n",
    "if (test_that(desc=\"\", code={\n",
    "    expect_equal(norm(outRMSE[1:5]-c(0.776118930538112, \n",
    "                                0.720259336484056, \n",
    "                                0.688533442062602, \n",
    "                                0.688563663027939, \n",
    "                                0.713899101268837),type=\"2\") < 1.e-5,TRUE)\n",
    "    }) != TRUE) stop(\"Sorry, wrong answer\")\n",
    "\n"
   ]
  },
  {
   "cell_type": "code",
   "execution_count": 14,
   "id": "95d131ea",
   "metadata": {
    "deletable": false,
    "editable": false,
    "nbgrader": {
     "cell_type": "code",
     "checksum": "4c547d2bab802da337fb8ecd8e7782d8",
     "grade": true,
     "grade_id": "cell-a918c87ca5bdccf0",
     "locked": true,
     "points": 1,
     "schema_version": 3,
     "solution": false,
     "task": false
    }
   },
   "outputs": [
    {
     "name": "stdout",
     "output_type": "stream",
     "text": [
      "\u001b[32mTest passed\u001b[39m 🌈\n"
     ]
    }
   ],
   "source": [
    "## check whether first couple of values of inRMSE are correct\n",
    "\n",
    "if (test_that(desc=\"\", code={\n",
    "    expect_equal(norm(inRMSE[1:5]-c(0.0294448637286709, \n",
    "                                     0.413066386916195, \n",
    "                                     0.479819913844999, \n",
    "                                     0.515748405687066, \n",
    "                                     0.532981421345998),type=\"2\") < 1.e-5,TRUE)\n",
    "    }) != TRUE) stop(\"Sorry, wrong answer\")\n"
   ]
  },
  {
   "cell_type": "markdown",
   "id": "2b52ebeb",
   "metadata": {
    "deletable": false,
    "editable": false,
    "nbgrader": {
     "cell_type": "markdown",
     "checksum": "d85d2460411dbc3797ab233c3fdb43ae",
     "grade": false,
     "grade_id": "cell-a087e7c62d3be703",
     "locked": true,
     "schema_version": 3,
     "solution": false,
     "task": false
    }
   },
   "source": [
    "\n",
    "### Part (d)\n",
    "\n",
    "Create plots showing both the test and train RMSE as functions of $k$ and $\\ln{1/k}$. The latter is a measure of model complexity. That is, a smaller $k$ implies fewer neighbors are used by the model, and thus the model is more complex. Your plots should resemble the following:\n",
    "\n",
    "<img src=\"rmse_plots.png\" style=\"width: 750px;\"/>\n"
   ]
  },
  {
   "cell_type": "code",
   "execution_count": 15,
   "id": "201c0092",
   "metadata": {
    "deletable": false,
    "nbgrader": {
     "cell_type": "code",
     "checksum": "c6aa689546827df3b3a36ecfa1710763",
     "grade": true,
     "grade_id": "cell-231d6430c26ed21e",
     "locked": false,
     "points": 1.5,
     "schema_version": 3,
     "solution": true,
     "task": false
    }
   },
   "outputs": [
    {
     "data": {
      "image/png": "[encoded data removed]",
      "text/plain": [
       "plot without title"
      ]
     },
     "metadata": {
      "image/png": {
       "height": 420,
       "width": 420
      }
     },
     "output_type": "display_data"
    },
    {
     "data": {
      "image/png": "[encoded data removed]",
      "text/plain": [
       "plot without title"
      ]
     },
     "metadata": {
      "image/png": {
       "height": 420,
       "width": 420
      }
     },
     "output_type": "display_data"
    }
   ],
   "source": [
    "# your code here\n",
    "library(ggplot2)\n",
    "rmse_data = data.frame(k = kvec, outRMSE = outRMSE, inRMSE = inRMSE)\n",
    "\n",
    "ggplot(rmse_data, aes(x = k)) +\n",
    "  geom_line(aes(y = outRMSE, colour = \"test RMSE (outRMSE)\")) +\n",
    "  geom_line(aes(y = inRMSE, colour = \"train RMSE (inRMSE)\")) +\n",
    "  scale_color_manual(values = c(\"test RMSE (outRMSE)\" = \"red\", \"train RMSE (inRMSE)\" = \"blue\")) +\n",
    "  labs(x = \"k\", y = \"outRMSE and inRMSE\") +\n",
    "  theme_minimal()\n",
    "\n",
    "rmse_data$complexity = log(1 / rmse_data$k)\n",
    "\n",
    "ggplot(rmse_data, aes(x = complexity)) +\n",
    "  geom_line(aes(y = outRMSE, colour = \"test RMSE (outRMSE)\")) +\n",
    "  geom_line(aes(y = inRMSE, colour = \"train RMSE (inRMSE)\")) +\n",
    "  scale_color_manual(values = c(\"test RMSE (outRMSE)\" = \"red\", \"train RMSE (inRMSE)\" = \"blue\")) +\n",
    "  labs(x = \"Complexity (log(1/k))\", y = \"outRMSE and inRMSE\") +\n",
    "  theme_minimal()"
   ]
  },
  {
   "cell_type": "markdown",
   "id": "4d7030e3",
   "metadata": {
    "deletable": false,
    "editable": false,
    "nbgrader": {
     "cell_type": "markdown",
     "checksum": "3e5259bdc529a8fe9016a012e123ecac",
     "grade": false,
     "grade_id": "cell-b302832dd18e5176",
     "locked": true,
     "schema_version": 3,
     "solution": false,
     "task": false
    }
   },
   "source": [
    "\n",
    "### Part (e)\n",
    "\n",
    "Find $k$ for which the out-of-sample root mean squared error is the smallest. You may find the `which.min()` function helpful here.\n",
    "\n",
    "Create variable `kbest` that stores the value $k$ for which `outRMSE` has the smallest value.\n",
    "\n",
    "**Hint:** `kbest` should be between 40 and 50."
   ]
  },
  {
   "cell_type": "code",
   "execution_count": 16,
   "id": "42f4cede",
   "metadata": {
    "deletable": false,
    "nbgrader": {
     "cell_type": "code",
     "checksum": "15a212aa010859a93eb1f9690ebbc49a",
     "grade": false,
     "grade_id": "cell-5c264725cfb29d26",
     "locked": false,
     "schema_version": 3,
     "solution": true,
     "task": false
    }
   },
   "outputs": [],
   "source": [
    "\n",
    "# your code here\n",
    "best_index = which.min(outRMSE)\n",
    "\n",
    "kbest = kvec[best_index]\n",
    "\n"
   ]
  },
  {
   "cell_type": "code",
   "execution_count": 17,
   "id": "57b988d4",
   "metadata": {
    "deletable": false,
    "editable": false,
    "nbgrader": {
     "cell_type": "code",
     "checksum": "1d4beb47c152eed638510dc8949660a2",
     "grade": true,
     "grade_id": "cell-202c881780f7cf5b",
     "locked": true,
     "points": 0,
     "schema_version": 3,
     "solution": false,
     "task": false
    }
   },
   "outputs": [
    {
     "name": "stdout",
     "output_type": "stream",
     "text": [
      "\u001b[32mTest passed\u001b[39m 😸\n"
     ]
    }
   ],
   "source": [
    "## check whether kbest is between 40 and 50\n",
    "\n",
    "if (test_that(desc=\"\", code={\n",
    "    expect_equal((40 <= kbest) & (kbest <= 50),TRUE)\n",
    "    }) != TRUE) stop(\"Sorry, wrong answer\")\n"
   ]
  },
  {
   "cell_type": "code",
   "execution_count": 18,
   "id": "5f062e98",
   "metadata": {
    "deletable": false,
    "editable": false,
    "nbgrader": {
     "cell_type": "code",
     "checksum": "ae9caed4acbfd6186bb2bf0a70970df3",
     "grade": true,
     "grade_id": "cell-b3696456d5cdbef7",
     "locked": true,
     "points": 1,
     "schema_version": 3,
     "solution": false,
     "task": false
    }
   },
   "outputs": [],
   "source": [
    "## check whether kbest is correct (hidden tests)\n"
   ]
  },
  {
   "cell_type": "markdown",
   "id": "eadaa60c",
   "metadata": {
    "deletable": false,
    "editable": false,
    "nbgrader": {
     "cell_type": "markdown",
     "checksum": "cf5ce00da84ca720dc77b3231c51c276",
     "grade": false,
     "grade_id": "cell-7992d89bf3c98f9f",
     "locked": true,
     "schema_version": 3,
     "solution": false,
     "task": false
    }
   },
   "source": [
    "### Part (f)\n",
    "\n",
    "Construct a couple plots showing how model performs on both the training and testing data, and for different $k$.  For both data frames, show model predictions for $k = 5$, $k = 300$, and for $k$ equal to `kbest`, along with all the data points. You should obtain two plots that resemble the following:\n",
    "\n",
    "<img src=\"k_performance.png\" style=\"width: 750px;\"/>\n"
   ]
  },
  {
   "cell_type": "code",
   "execution_count": 19,
   "id": "9e7de16b",
   "metadata": {
    "deletable": false,
    "nbgrader": {
     "cell_type": "code",
     "checksum": "2d19e3dc44736579086452e4571612a8",
     "grade": true,
     "grade_id": "cell-545bae6bead754f9",
     "locked": false,
     "points": 1.5,
     "schema_version": 3,
     "solution": true,
     "task": false
    }
   },
   "outputs": [],
   "source": [
    "# your code here\n",
    "\n"
   ]
  },
  {
   "cell_type": "markdown",
   "id": "04afb8d5",
   "metadata": {
    "deletable": false,
    "editable": false,
    "nbgrader": {
     "cell_type": "markdown",
     "checksum": "1a905b107d335ad5ad201e3f4ab7bc54",
     "grade": false,
     "grade_id": "cell-1155080d72ff46a6",
     "locked": true,
     "schema_version": 3,
     "solution": false,
     "task": false
    }
   },
   "source": [
    "<font style=\"font-size: 11pt;\"><strong>IMPORTANT: In this problem, we fine-tuned the hyperparameter $k$. However, if we choose another training subsample even of the same sample size as above (for example, different seed), the result would be somewhat different (hopefully `kbest` wouldn't differ a lot). You should be aware of this randomness and the fact that `kbest` is not some absolutely optimal value of $k$.</strong></font>"
   ]
  },
  {
   "cell_type": "markdown",
   "id": "72b305b1",
   "metadata": {
    "deletable": false,
    "editable": false,
    "nbgrader": {
     "cell_type": "markdown",
     "checksum": "1772669548ced3e62f8ef12ecba4156b",
     "grade": false,
     "grade_id": "cell-b3503751868793b7",
     "locked": true,
     "schema_version": 3,
     "solution": false,
     "task": false
    }
   },
   "source": [
    "\n",
    "## Question 2.\n",
    "\n",
    "\n",
    "In order to include all the observations as training data at some point, and as validation data at some other time, we do cross-validation.\n",
    "\n",
    "It is important to understand the idea of cross-validation from class and how it is implemented in code. Therefore, the task for this problem is to implement k-fold cross validation.\n",
    "\n",
    "The general algorithm follows for 10-fold validation:\n",
    "\n",
    "1. Suffle the data. Let `n` be the number of observations in total.\n",
    "\n",
    "2. Get 10 blocks of indices of size `n/10`. If `n/10` is not an integer, then we have some leftover indices that we can distribute to the first `r` blocks, where `r` is the remainder of `n/10`.\n",
    "\n",
    "3. Loop through each block of indices, using the data at these indices as the test data, while all other data is the train data. Train the model and get the RMSE for this block.\n",
    "\n",
    "4. Take the average RMSE across the 10 blocks.\n",
    "\n",
    "We run this algorithm for each $k$ of interest to determine our optimal $k$ value.\n",
    "\n",
    "Let's implement the algorithm piecewise...\n",
    "\n",
    "### Part 1\n",
    "\n",
    "Recreate our data frame using the following cell:"
   ]
  },
  {
   "cell_type": "code",
   "execution_count": 20,
   "id": "f9540e00",
   "metadata": {
    "deletable": false,
    "editable": false,
    "nbgrader": {
     "cell_type": "code",
     "checksum": "a3334b5df35e62a0ea61de756cdaa568",
     "grade": false,
     "grade_id": "cell-1eaa95ddccfd8e20",
     "locked": true,
     "schema_version": 3,
     "solution": false,
     "task": false
    }
   },
   "outputs": [],
   "source": [
    "xall = Boston$dis  #our input variable\n",
    "yall = 10*Boston$nox  #our output variable\n",
    "\n",
    "# create data frame df that consists only of our input and output variables\n",
    "df = data.frame(xall,yall) \n",
    "\n",
    "#Number of observations\n",
    "n = nrow(df)"
   ]
  },
  {
   "cell_type": "markdown",
   "id": "c3776e27",
   "metadata": {
    "deletable": false,
    "editable": false,
    "nbgrader": {
     "cell_type": "markdown",
     "checksum": "abd7b7c5cb894ebd30a3abde69b2a565",
     "grade": false,
     "grade_id": "cell-eeb4211fbdf0db8e",
     "locked": true,
     "schema_version": 3,
     "solution": false,
     "task": false
    }
   },
   "source": [
    "<br>\n",
    "\n",
    "Now, shuffle the dataframe by sampling all the indices without replacement; **for reproducibility, set your random number seed to `42`.**\n",
    "\n",
    "That is, use the `sample()` function to give a new index vector, being sure to set `replace=F`. Then, use this vector to get a shuffled version of `df`. Assign this shuffled dataframe to `df` (i.e. replace `df`)."
   ]
  },
  {
   "cell_type": "code",
   "execution_count": 21,
   "id": "73dce1d1",
   "metadata": {
    "deletable": false,
    "nbgrader": {
     "cell_type": "code",
     "checksum": "c9b9e1e6959dbd28c1034395e76fe496",
     "grade": false,
     "grade_id": "cell-68d90113120148ea",
     "locked": false,
     "schema_version": 3,
     "solution": true,
     "task": false
    }
   },
   "outputs": [],
   "source": [
    "# your code here\n",
    "xall = Boston$dis \n",
    "yall = 10*Boston$nox \n",
    "df = data.frame(xall, yall)\n",
    "\n",
    "n = nrow(df)\n",
    "\n",
    "set.seed(42)\n",
    "\n",
    "shuffled_indices = sample(n, replace = FALSE)\n",
    "df = df[shuffled_indices, ]"
   ]
  },
  {
   "cell_type": "code",
   "execution_count": 22,
   "id": "bf899638",
   "metadata": {
    "deletable": false,
    "editable": false,
    "nbgrader": {
     "cell_type": "code",
     "checksum": "c315c85f5d3fa5252c5fb35c2db40e08",
     "grade": true,
     "grade_id": "cell-48855b8c1be9ee9d",
     "locked": true,
     "points": 0,
     "schema_version": 3,
     "solution": false,
     "task": false
    }
   },
   "outputs": [
    {
     "name": "stdout",
     "output_type": "stream",
     "text": [
      "\u001b[32mTest passed\u001b[39m 😸\n"
     ]
    }
   ],
   "source": [
    "## check whether the first two rows of the shuffled dataframe are correct\n",
    "\n",
    "if (test_that(desc=\"\", code={\n",
    "    expect_equal(norm(as.matrix(df[1:2,]) \n",
    "                      - matrix(c(5.8700, 4.480, 3.7240, 5.830),nrow=2,byrow=T), type=\"2\") < 1.e-4,\n",
    "                TRUE)\n",
    "    }) != TRUE) stop(\"Sorry, shuffled df is not correct\")\n"
   ]
  },
  {
   "cell_type": "code",
   "execution_count": 23,
   "id": "7bd7427f",
   "metadata": {
    "deletable": false,
    "editable": false,
    "nbgrader": {
     "cell_type": "code",
     "checksum": "540186fd000cce7c98f4609d13d8c9ba",
     "grade": true,
     "grade_id": "cell-6df7016cebb0829f",
     "locked": true,
     "points": 1,
     "schema_version": 3,
     "solution": false,
     "task": false
    }
   },
   "outputs": [],
   "source": [
    "## check whether shuffled dataframe is correct (hidden tests)\n",
    "\n"
   ]
  },
  {
   "cell_type": "markdown",
   "id": "d3baa1b7",
   "metadata": {
    "deletable": false,
    "editable": false,
    "nbgrader": {
     "cell_type": "markdown",
     "checksum": "76e5f581d9367b922ac59897feef81d9",
     "grade": false,
     "grade_id": "cell-66f9251079cedbff",
     "locked": true,
     "schema_version": 3,
     "solution": false,
     "task": false
    }
   },
   "source": [
    "### Part 2: Index blocks\n",
    "\n",
    "Now, letting `nfolds` be a variable for the number of folds, we need to get the size of each fold, as well as the number of leftover indices.  For example, 103 observations divided into 10 folds leave 3 indices out.\n",
    "\n",
    "The following block of code creates a **list of vectors**, called `index_blocks`, where each element is a vector of indices for a fold.  The leftover indices are assigned to the folds one-by-one, starting from beginning. This code divides 53 indices into 5 folds.\n",
    "\n",
    "Run the cell and make sure you understand the logic."
   ]
  },
  {
   "cell_type": "code",
   "execution_count": 24,
   "id": "026d37b8",
   "metadata": {
    "deletable": false,
    "editable": false,
    "nbgrader": {
     "cell_type": "code",
     "checksum": "1bb0c7d1e1fbfd71ddb8d104c07f5792",
     "grade": false,
     "grade_id": "cell-a8d75d6f60e3466b",
     "locked": true,
     "schema_version": 3,
     "solution": false,
     "task": false
    }
   },
   "outputs": [
    {
     "data": {
      "text/html": [
       "<style>\n",
       ".list-inline {list-style: none; margin:0; padding: 0}\n",
       ".list-inline>li {display: inline-block}\n",
       ".list-inline>li:not(:last-child)::after {content: \"\\00b7\"; padding: 0 .5ex}\n",
       "</style>\n",
       "<ol class=list-inline><li>1</li><li>2</li><li>3</li><li>4</li><li>5</li><li>6</li><li>7</li><li>8</li><li>9</li><li>10</li><li>51</li></ol>\n"
      ],
      "text/latex": [
       "\\begin{enumerate*}\n",
       "\\item 1\n",
       "\\item 2\n",
       "\\item 3\n",
       "\\item 4\n",
       "\\item 5\n",
       "\\item 6\n",
       "\\item 7\n",
       "\\item 8\n",
       "\\item 9\n",
       "\\item 10\n",
       "\\item 51\n",
       "\\end{enumerate*}\n"
      ],
      "text/markdown": [
       "1. 1\n",
       "2. 2\n",
       "3. 3\n",
       "4. 4\n",
       "5. 5\n",
       "6. 6\n",
       "7. 7\n",
       "8. 8\n",
       "9. 9\n",
       "10. 10\n",
       "11. 51\n",
       "\n",
       "\n"
      ],
      "text/plain": [
       " [1]  1  2  3  4  5  6  7  8  9 10 51"
      ]
     },
     "metadata": {},
     "output_type": "display_data"
    }
   ],
   "source": [
    "#Suppose we have 53 indices that we need to divide among 5 folds:\n",
    "nfolds = 5\n",
    "N = 53\n",
    "\n",
    "#Get fold size\n",
    "foldsize = N %/% nfolds\n",
    "remainder = N %% nfolds\n",
    "\n",
    "\n",
    "#Empty list to build on\n",
    "index_blocks = list()\n",
    "\n",
    "\n",
    "for (i in 1:nfolds) {\n",
    "    #Get this block of indices:\n",
    "    idx = ((i-1)*foldsize+1):(i*foldsize)\n",
    "    \n",
    "    #Append to the list:\n",
    "    index_blocks = append(index_blocks, list(idx))\n",
    "}\n",
    "\n",
    "\n",
    "#Now, assign the remainder:\n",
    "base_i = foldsize*nfolds\n",
    "\n",
    "for (i in 1:remainder) {\n",
    "    index_blocks[[i]] = c(index_blocks[[i]], i + base_i)\n",
    "}\n",
    "\n",
    "#Display the first block:\n",
    "index_blocks[[1]]"
   ]
  },
  {
   "cell_type": "markdown",
   "id": "1ea7123f",
   "metadata": {
    "deletable": false,
    "editable": false,
    "nbgrader": {
     "cell_type": "markdown",
     "checksum": "a9ec7a7c63d7e20d54deb0065b57b787",
     "grade": false,
     "grade_id": "cell-5acdaa9a9ce531a3",
     "locked": true,
     "schema_version": 3,
     "solution": false,
     "task": false
    }
   },
   "source": [
    "<br>\n",
    "\n",
    "Adapt the code block above to give you a list of index vectors, also called `index_blocks`, for 10 folds, and for `n` (little `n`) indices, with `n` the number of observations in our data frame.\n"
   ]
  },
  {
   "cell_type": "code",
   "execution_count": 25,
   "id": "368fde46",
   "metadata": {
    "deletable": false,
    "nbgrader": {
     "cell_type": "code",
     "checksum": "6d0f559d4d055c82ed1e7af95f5da3bc",
     "grade": false,
     "grade_id": "cell-ce2ac7094037e322",
     "locked": false,
     "schema_version": 3,
     "solution": true,
     "task": false
    }
   },
   "outputs": [
    {
     "data": {
      "text/html": [
       "<style>\n",
       ".list-inline {list-style: none; margin:0; padding: 0}\n",
       ".list-inline>li {display: inline-block}\n",
       ".list-inline>li:not(:last-child)::after {content: \"\\00b7\"; padding: 0 .5ex}\n",
       "</style>\n",
       "<ol class=list-inline><li>1</li><li>2</li><li>3</li><li>4</li><li>5</li><li>6</li><li>7</li><li>8</li><li>9</li><li>10</li><li>11</li><li>12</li><li>13</li><li>14</li><li>15</li><li>16</li><li>17</li><li>18</li><li>19</li><li>20</li><li>21</li><li>22</li><li>23</li><li>24</li><li>25</li><li>26</li><li>27</li><li>28</li><li>29</li><li>30</li><li>31</li><li>32</li><li>33</li><li>34</li><li>35</li><li>36</li><li>37</li><li>38</li><li>39</li><li>40</li><li>41</li><li>42</li><li>43</li><li>44</li><li>45</li><li>46</li><li>47</li><li>48</li><li>49</li><li>50</li><li>501</li></ol>\n"
      ],
      "text/latex": [
       "\\begin{enumerate*}\n",
       "\\item 1\n",
       "\\item 2\n",
       "\\item 3\n",
       "\\item 4\n",
       "\\item 5\n",
       "\\item 6\n",
       "\\item 7\n",
       "\\item 8\n",
       "\\item 9\n",
       "\\item 10\n",
       "\\item 11\n",
       "\\item 12\n",
       "\\item 13\n",
       "\\item 14\n",
       "\\item 15\n",
       "\\item 16\n",
       "\\item 17\n",
       "\\item 18\n",
       "\\item 19\n",
       "\\item 20\n",
       "\\item 21\n",
       "\\item 22\n",
       "\\item 23\n",
       "\\item 24\n",
       "\\item 25\n",
       "\\item 26\n",
       "\\item 27\n",
       "\\item 28\n",
       "\\item 29\n",
       "\\item 30\n",
       "\\item 31\n",
       "\\item 32\n",
       "\\item 33\n",
       "\\item 34\n",
       "\\item 35\n",
       "\\item 36\n",
       "\\item 37\n",
       "\\item 38\n",
       "\\item 39\n",
       "\\item 40\n",
       "\\item 41\n",
       "\\item 42\n",
       "\\item 43\n",
       "\\item 44\n",
       "\\item 45\n",
       "\\item 46\n",
       "\\item 47\n",
       "\\item 48\n",
       "\\item 49\n",
       "\\item 50\n",
       "\\item 501\n",
       "\\end{enumerate*}\n"
      ],
      "text/markdown": [
       "1. 1\n",
       "2. 2\n",
       "3. 3\n",
       "4. 4\n",
       "5. 5\n",
       "6. 6\n",
       "7. 7\n",
       "8. 8\n",
       "9. 9\n",
       "10. 10\n",
       "11. 11\n",
       "12. 12\n",
       "13. 13\n",
       "14. 14\n",
       "15. 15\n",
       "16. 16\n",
       "17. 17\n",
       "18. 18\n",
       "19. 19\n",
       "20. 20\n",
       "21. 21\n",
       "22. 22\n",
       "23. 23\n",
       "24. 24\n",
       "25. 25\n",
       "26. 26\n",
       "27. 27\n",
       "28. 28\n",
       "29. 29\n",
       "30. 30\n",
       "31. 31\n",
       "32. 32\n",
       "33. 33\n",
       "34. 34\n",
       "35. 35\n",
       "36. 36\n",
       "37. 37\n",
       "38. 38\n",
       "39. 39\n",
       "40. 40\n",
       "41. 41\n",
       "42. 42\n",
       "43. 43\n",
       "44. 44\n",
       "45. 45\n",
       "46. 46\n",
       "47. 47\n",
       "48. 48\n",
       "49. 49\n",
       "50. 50\n",
       "51. 501\n",
       "\n",
       "\n"
      ],
      "text/plain": [
       " [1]   1   2   3   4   5   6   7   8   9  10  11  12  13  14  15  16  17  18  19\n",
       "[20]  20  21  22  23  24  25  26  27  28  29  30  31  32  33  34  35  36  37  38\n",
       "[39]  39  40  41  42  43  44  45  46  47  48  49  50 501"
      ]
     },
     "metadata": {},
     "output_type": "display_data"
    }
   ],
   "source": [
    "# your code here\n",
    "nFolds = 10\n",
    "\n",
    "foldSize = n %/% nFolds\n",
    "remainder = n %% nFolds\n",
    "\n",
    "index_blocks = list()\n",
    "\n",
    "for (i in 1:nFolds) {\n",
    "    \n",
    "  idx = ((i - 1) * foldSize + 1):(i * foldSize)\n",
    "  \n",
    "  index_blocks = append(index_blocks, list(idx))\n",
    "}\n",
    "\n",
    "base_i = foldSize * nFolds\n",
    "for (i in 1:remainder) {\n",
    "  index_blocks[[i]] = c(index_blocks[[i]], i + base_i)\n",
    "}\n",
    "\n",
    "index_blocks[[1]]"
   ]
  },
  {
   "cell_type": "code",
   "execution_count": 26,
   "id": "09875a20",
   "metadata": {
    "deletable": false,
    "editable": false,
    "nbgrader": {
     "cell_type": "code",
     "checksum": "cd970a4e209250ccca19b5f6938075ef",
     "grade": true,
     "grade_id": "cell-ea8238a01a0ce6c8",
     "locked": true,
     "points": 0,
     "schema_version": 3,
     "solution": false,
     "task": false
    }
   },
   "outputs": [
    {
     "name": "stdout",
     "output_type": "stream",
     "text": [
      "\u001b[32mTest passed\u001b[39m 🌈\n"
     ]
    }
   ],
   "source": [
    "## check whether the first element of index_blocks is correct\n",
    "\n",
    "correct_b1 = c(seq(1,50), 501)\n",
    "\n",
    "if (test_that(desc=\"\", code={\n",
    "    expect_equal(all(index_blocks[[1]] == correct_b1),\n",
    "                TRUE)\n",
    "    }) != TRUE) stop(\"Sorry, first element of index_blocks not correct\")\n"
   ]
  },
  {
   "cell_type": "code",
   "execution_count": 27,
   "id": "e7d1bd79",
   "metadata": {
    "deletable": false,
    "editable": false,
    "nbgrader": {
     "cell_type": "code",
     "checksum": "2e85b83d47f094e5ccf1607070a7eba8",
     "grade": true,
     "grade_id": "cell-74d72d857c47dc37",
     "locked": true,
     "points": 1,
     "schema_version": 3,
     "solution": false,
     "task": false
    }
   },
   "outputs": [],
   "source": [
    "## check whether index_blocks is correct (hidden tests)\n"
   ]
  },
  {
   "cell_type": "markdown",
   "id": "17ddca45",
   "metadata": {
    "deletable": false,
    "editable": false,
    "nbgrader": {
     "cell_type": "markdown",
     "checksum": "1e76bddfdef57e1bf63d3f39c646796f",
     "grade": false,
     "grade_id": "cell-121800bc84e0ed60",
     "locked": true,
     "schema_version": 3,
     "solution": false,
     "task": false
    }
   },
   "source": [
    "### Parts 3/4\n",
    "\n",
    "Loop through each block of indices (each fold), using each group of indices to define your validation dataset, while all other data is used for training. Train a KNN model with `k = 100` and calculate the RMSE for each fold. You may find it helpful to define a helper `rmse()` function.\n",
    "\n",
    "Finally, take the mean RMSE across all folds. Store this value as `mean_rmse` (all lowercase)."
   ]
  },
  {
   "cell_type": "code",
   "execution_count": 34,
   "id": "8a67e0cc",
   "metadata": {
    "deletable": false,
    "nbgrader": {
     "cell_type": "code",
     "checksum": "4a50c6bc4b18c5b47833da32b50a2a1d",
     "grade": false,
     "grade_id": "cell-47c734da4326ad02",
     "locked": false,
     "schema_version": 3,
     "solution": true,
     "task": false
    }
   },
   "outputs": [],
   "source": [
    "# your code here\n",
    "\n",
    "    "
   ]
  },
  {
   "cell_type": "code",
   "execution_count": 35,
   "id": "56650cc5",
   "metadata": {
    "deletable": false,
    "editable": false,
    "nbgrader": {
     "cell_type": "code",
     "checksum": "91c526e0ca983b74e2896b17ba2a7743",
     "grade": true,
     "grade_id": "cell-c3bd3d596328bfa8",
     "locked": true,
     "points": 0,
     "schema_version": 3,
     "solution": false,
     "task": false
    }
   },
   "outputs": [
    {
     "name": "stdout",
     "output_type": "stream",
     "text": [
      "── \u001b[1m\u001b[33mError\u001b[39m (<text>:4:5): \u001b[22m ────────────────────────────────────────────────────────\n",
      "Error: object 'mean_rmse' not found\n",
      "\u001b[1mBacktrace:\u001b[22m\n",
      "\u001b[90m 1. \u001b[39mtestthat::expect_equal(...)\n",
      "\u001b[90m 2. \u001b[39mtestthat::quasi_label(enquo(object), label, arg = \"object\")\n",
      "\u001b[90m 3. \u001b[39mrlang::eval_bare(expr, quo_get_env(quo))\n",
      "\n"
     ]
    },
    {
     "ename": "ERROR",
     "evalue": "Error in eval(expr, envir, enclos): Sorry, your CI is incorrect.\n",
     "output_type": "error",
     "traceback": [
      "Error in eval(expr, envir, enclos): Sorry, your CI is incorrect.\nTraceback:\n",
      "1. stop(\"Sorry, your CI is incorrect.\")"
     ]
    }
   ],
   "source": [
    "## check whether whether 4th and 5th dec. digits of mean_rmse are 92\n",
    "\n",
    "if (test_that(desc=\"\", code={\n",
    "    expect_equal( (floor(mean_rmse*10^5) %% 100 == 92), TRUE)\n",
    "    }) != TRUE) stop(\"Sorry, your CI is incorrect.\")"
   ]
  },
  {
   "cell_type": "code",
   "execution_count": null,
   "id": "b70628e8",
   "metadata": {
    "deletable": false,
    "editable": false,
    "nbgrader": {
     "cell_type": "code",
     "checksum": "a5fc35fb0b3da8e92be5d778a40923f4",
     "grade": true,
     "grade_id": "cell-a513323ed4f05aa3",
     "locked": true,
     "points": 1,
     "schema_version": 3,
     "solution": false,
     "task": false
    }
   },
   "outputs": [],
   "source": [
    "## check whether the answer is correct (hidden test)\n"
   ]
  },
  {
   "cell_type": "markdown",
   "id": "0f4fdbe6",
   "metadata": {
    "deletable": false,
    "editable": false,
    "nbgrader": {
     "cell_type": "markdown",
     "checksum": "6b8fe7371393a23dd24a6826157f74ae",
     "grade": false,
     "grade_id": "cell-8b7eb0437137533d",
     "locked": true,
     "schema_version": 3,
     "solution": false,
     "task": false
    }
   },
   "source": [
    "### All Together Now\n",
    "\n",
    "Now, let's put everything together into a single function. Implement a function, `knn_CV` that takes the following arguments:\n",
    "\n",
    "1. `df`: Dataframe to train/test KNN model on. `df` is expected to have `xall` and `yall` as the only variables.\n",
    "\n",
    "2. `nfolds`: Number of folds for cross-validation\n",
    "\n",
    "3. `kvec`: A **vector** of `k` values for which cross-validation will be performed.\n",
    "\n",
    "The function should:\n",
    "\n",
    "1. Shuffle the dataframe\n",
    "2. Perform cross-validation for the specified number of folds, assigning the remainder indices as above\n",
    "3. Return a vector of mean RMSE values, corresponding to each `k` value in the `kvec` vector."
   ]
  },
  {
   "cell_type": "code",
   "execution_count": null,
   "id": "fb452780",
   "metadata": {
    "deletable": false,
    "nbgrader": {
     "cell_type": "code",
     "checksum": "70e34b81ce2662ac6f0422e5fe8c69de",
     "grade": true,
     "grade_id": "cell-09f8ff744a8cce7e",
     "locked": false,
     "points": 2,
     "schema_version": 3,
     "solution": true,
     "task": false
    }
   },
   "outputs": [],
   "source": [
    "# your code here\n",
    "fail() # No Answer - remove if you provide an answer\n"
   ]
  },
  {
   "cell_type": "markdown",
   "id": "e697482e",
   "metadata": {
    "deletable": false,
    "editable": false,
    "nbgrader": {
     "cell_type": "markdown",
     "checksum": "9b0fc09efbe3304118e86cdec99e38d3",
     "grade": false,
     "grade_id": "cell-de5767e168c75d6b",
     "locked": true,
     "schema_version": 3,
     "solution": false,
     "task": false
    }
   },
   "source": [
    "<br>\n",
    "\n",
    "Use this function to find the mean RMSE vector under cross-validation for the following sets of parameters:\n",
    "\n",
    "1. `nfolds = 5`, `kvec = 1:250`\n",
    "2. `nfolds = 10`, `kvec = 1:250`\n",
    "3. `nfolds = 15`, `kvec = 1:250`\n",
    "\n",
    "Plot the mean RMSE for each case against $\\ln{1/k}$. Your final plot should look something like the following:\n",
    "\n",
    "<img src=\"final_fig.png\" style=\"width: 700px;\"/>\n"
   ]
  },
  {
   "cell_type": "code",
   "execution_count": null,
   "id": "20fe18a4",
   "metadata": {
    "deletable": false,
    "nbgrader": {
     "cell_type": "code",
     "checksum": "2bed214c843620ed0e0604415788a997",
     "grade": true,
     "grade_id": "cell-b76c003d3ff92ab6",
     "locked": false,
     "points": 2,
     "schema_version": 3,
     "solution": true,
     "task": false
    }
   },
   "outputs": [],
   "source": [
    "# your code here\n",
    "fail() # No Answer - remove if you provide an answer\n"
   ]
  }
 ],
 "metadata": {
  "kernelspec": {
   "display_name": "R",
   "language": "R",
   "name": "ir"
  },
  "language_info": {
   "codemirror_mode": "r",
   "file_extension": ".r",
   "mimetype": "text/x-r-source",
   "name": "R",
   "pygments_lexer": "r",
   "version": "4.3.3"
  }
 },
 "nbformat": 4,
 "nbformat_minor": 5
}
