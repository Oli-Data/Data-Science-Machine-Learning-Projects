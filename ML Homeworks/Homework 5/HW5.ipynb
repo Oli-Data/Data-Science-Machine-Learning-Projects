{
 "cells": [
  {
   "cell_type": "markdown",
   "id": "1a016772",
   "metadata": {},
   "source": [
    "**IMPORTANT** <br> <ul> <li> Do **NOT** replace or remove this notebook (ipynb file)! Each cell has unique nbgrader's metadata and ID which, if changed outside the nbgrader, cannot pass the tests. Do **NOT** change the name of the file!</li> <li> To receive any credit, don't forget to **SUBMIT** your notebook when you are done! You can have multiple submissions before the deadline; only the last one is saved, including its timestamp.</li> <li>Before submitting, **Validate** your notebook to check if your codes pass all visible tests. </li> <li>Make sure you fill in any cell with the comment `# your code here`. Remove or comment the command `fail()` (in R), or `raise NotImplementedError` (in Python) and place your code there </li> </ul>"
   ]
  },
  {
   "cell_type": "code",
   "execution_count": null,
   "id": "2e270cdf",
   "metadata": {},
   "outputs": [],
   "source": [
    "NAME = \"Christian Olivares-Rodriguez\""
   ]
  },
  {
   "cell_type": "markdown",
   "id": "dd305700",
   "metadata": {},
   "source": [
    "---"
   ]
  },
  {
   "cell_type": "markdown",
   "id": "a1efe4a1",
   "metadata": {
    "deletable": false,
    "editable": false,
    "nbgrader": {
     "cell_type": "markdown",
     "checksum": "8b3e6ce45ce5bbbcfd5c8c73c6631a17",
     "grade": false,
     "grade_id": "cell-77a40a5806726445",
     "locked": true,
     "schema_version": 3,
     "solution": false,
     "task": false
    }
   },
   "source": [
    "# Convolutional Nets, Plus Autoencoder + Transfer Learning\n",
    "\n",
    "In this homework, we'll briefly practice making a few convolutional nets to classify numbers and images. We'll also train an autoencoder and use it for transfer learning.\n",
    "\n",
    "Note: You **must restart the kernel before validating**.\n",
    "\n",
    "Also Note: Specified training times are much shorter than is optimal, but have been chosen so that the notebook will validate in a reasonable amount of time. You will get better results than those here if you just train for more epochs."
   ]
  },
  {
   "cell_type": "code",
   "execution_count": 39,
   "id": "6d54079d",
   "metadata": {
    "deletable": false,
    "editable": false,
    "nbgrader": {
     "cell_type": "code",
     "checksum": "f69d492cea7628798f76e110ae625285",
     "grade": false,
     "grade_id": "cell-f5a0f8c612f2079a",
     "locked": true,
     "schema_version": 3,
     "solution": false,
     "task": false
    }
   },
   "outputs": [],
   "source": [
    "## RUN THIS CELL FIRST to import TensorFlow and some helper modules\n",
    "\n",
    "# TensorFlow and tf.keras\n",
    "import tensorflow as tf\n",
    "\n",
    "# And the usual suspects\n",
    "import numpy as np\n",
    "import matplotlib.pyplot as plt\n",
    "import pandas as pd"
   ]
  },
  {
   "cell_type": "markdown",
   "id": "4bf564e0",
   "metadata": {
    "deletable": false,
    "editable": false,
    "nbgrader": {
     "cell_type": "markdown",
     "checksum": "7fa4fbd9df9f1f7382ef154eac1c08c8",
     "grade": false,
     "grade_id": "cell-a34086f5101a5cf3",
     "locked": true,
     "schema_version": 3,
     "solution": false,
     "task": false
    }
   },
   "source": [
    "## Get the MNIST Numbers Data to Start\n",
    "\n",
    "Run the following cells to get the MNIST data, hold out a part of the training set for validation, and rescale."
   ]
  },
  {
   "cell_type": "code",
   "execution_count": 40,
   "id": "6b90934d",
   "metadata": {
    "deletable": false,
    "editable": false,
    "nbgrader": {
     "cell_type": "code",
     "checksum": "151ad5c92c0f70d30bf957bf24b88c9b",
     "grade": false,
     "grade_id": "cell-91a59107932333d2",
     "locked": true,
     "schema_version": 3,
     "solution": false,
     "task": false
    }
   },
   "outputs": [],
   "source": [
    "#Load as usual:\n",
    "from keras.datasets import mnist\n",
    "\n",
    "(train_images, train_labels), (test_images, test_labels) = mnist.load_data()\n",
    "\n",
    "\n",
    "## Hold out some of the training data for validation:\n",
    "######\n",
    "\n",
    "## All but last 5,000 will be train data; last 5,000 will be validation\n",
    "X_train, y_train = train_images[:-5000], train_labels[:-5000]\n",
    "\n",
    "X_valid, y_valid = train_images[-5000:], train_labels[-5000:]\n",
    "\n",
    "#Rename the test data for consistency:\n",
    "X_test, y_test = test_images, test_labels"
   ]
  },
  {
   "cell_type": "code",
   "execution_count": 41,
   "id": "5e2e85ef",
   "metadata": {
    "deletable": false,
    "editable": false,
    "nbgrader": {
     "cell_type": "code",
     "checksum": "ceb93e22896213d9ea1c9aae89b9f303",
     "grade": false,
     "grade_id": "cell-fa085cf21a3cc1d1",
     "locked": true,
     "schema_version": 3,
     "solution": false,
     "task": false
    }
   },
   "outputs": [],
   "source": [
    "## And rescale everything to be floats between 0 and 1:\n",
    "X_train, X_valid, X_test = X_train / 255., X_valid / 255., X_test / 255."
   ]
  },
  {
   "cell_type": "markdown",
   "id": "fac4303a",
   "metadata": {
    "deletable": false,
    "editable": false,
    "nbgrader": {
     "cell_type": "markdown",
     "checksum": "49a248dd9980951cc5d3580aff07d867",
     "grade": false,
     "grade_id": "cell-33141c9ef453f9d4",
     "locked": true,
     "schema_version": 3,
     "solution": false,
     "task": false
    }
   },
   "source": [
    "## Part 1: Reproduce (Almost) the LeNet-5 Architecture\n",
    "\n",
    "The LeNet-5 model is a famous convolutional neural net (CNN) architecture for recognizing handwritten digits. The general model structure follows:\n",
    "\n",
    "Layer  | Type            | Maps | Size     | Kernel size | Stride | Activation\n",
    "-------|-----------------|------|----------|-------------|--------|-----------\n",
    " Out   | Fully connected | –    | 10       | –           | –      | RBF\n",
    " F6    | Fully connected | –    | 84       | –           | –      | tanh\n",
    " C5    | Convolution     | 120  | 1 × 1    | 5 × 5       | 1      | tanh\n",
    " S4    | Avg pooling     | 16   | 5 × 5    | 2 × 2       | 2      | tanh\n",
    " C3    | Convolution     | 16   | 10 × 10  | 5 × 5       | 1      | tanh\n",
    " S2    | Avg pooling     | 6    | 14 × 14  | 2 × 2       | 2      | tanh\n",
    " C1    | Convolution     | 6    | 28 × 28  | 5 × 5       | 1      | tanh\n",
    " In    | Input           | 1    | 32 × 32  | –           | –      | –\n",
    " \n",
    "\n",
    "Or, using the figure from the original paper:\n",
    "\n",
    "<img src=\"LeNet5.png\" width=\"850\">\n",
    "\n",
    "Your task is to implement this model and use it to classify the MNIST numbers. The only difference is, we will use a **softmax** activation function for the output layer instead of an RBF function.\n",
    "\n",
    "Also note that LeNet gives 32x32 as the input size: The MNIST numbers are 28x28, so the idea is we have zero-padding to get an effective 32x32 input size. That is, you'll need some zero-padding in your first convolutional layer.\n",
    "\n",
    "The model you will implement is fully specified by the following table:\n",
    "\n",
    "Layer  | Type            | Maps | Size     | Kernel size | Stride | Activation\n",
    "-------|-----------------|------|----------|-------------|--------|-----------\n",
    " Out   | Fully connected | –    | 10       | –           | –      | softmax\n",
    " F6    | Fully connected | –    | 84       | –           | –      | tanh\n",
    " C5    | Convolution     | 120  | 1 × 1    | 5 × 5       | 1      | tanh\n",
    " S4    | Avg pooling     | 16   | 5 × 5    | 2 × 2       | 2      | tanh\n",
    " C3    | Convolution     | 16   | 10 × 10  | 5 × 5       | 1      | tanh\n",
    " S2    | Avg pooling     | 6    | 14 × 14  | 2 × 2       | 2      | tanh\n",
    " C1    | Convolution     | 6    | 28 × 28  | 5 × 5       | 1      | tanh\n",
    " In    | Input           | 1    | 28 × 28   | –           | –      | –\n",
    "     |            |     | (32 x 32 w pad)  |         |      |\n",
    "\n",
    "#### Specify the model\n",
    "\n",
    "In the following cell, use either the sequential or functional Keras API to *create* the model as indicated above. Name the model `model`.\n",
    "\n",
    "Initialize all layer weights using Glorot uniform initialization.\n",
    "\n",
    "Do not compile or train just yet."
   ]
  },
  {
   "cell_type": "code",
   "execution_count": 42,
   "id": "a7a2a9ea",
   "metadata": {
    "deletable": false,
    "nbgrader": {
     "cell_type": "code",
     "checksum": "d226f0037977525815f9e4613c0056ab",
     "grade": false,
     "grade_id": "cell-8269561bf49f4193",
     "locked": false,
     "schema_version": 3,
     "solution": true,
     "task": false
    }
   },
   "outputs": [
    {
     "name": "stdout",
     "output_type": "stream",
     "text": [
      "Model: \"sequential_5\"\n",
      "_________________________________________________________________\n",
      " Layer (type)                Output Shape              Param #   \n",
      "=================================================================\n",
      " conv2d_15 (Conv2D)          (None, 28, 28, 6)         156       \n",
      "                                                                 \n",
      " average_pooling2d_10 (Avera  (None, 14, 14, 6)        0         \n",
      " gePooling2D)                                                    \n",
      "                                                                 \n",
      " conv2d_16 (Conv2D)          (None, 10, 10, 16)        2416      \n",
      "                                                                 \n",
      " average_pooling2d_11 (Avera  (None, 5, 5, 16)         0         \n",
      " gePooling2D)                                                    \n",
      "                                                                 \n",
      " conv2d_17 (Conv2D)          (None, 1, 1, 120)         48120     \n",
      "                                                                 \n",
      " flatten_5 (Flatten)         (None, 120)               0         \n",
      "                                                                 \n",
      " dense_10 (Dense)            (None, 84)                10164     \n",
      "                                                                 \n",
      " dense_11 (Dense)            (None, 10)                850       \n",
      "                                                                 \n",
      "=================================================================\n",
      "Total params: 61,706\n",
      "Trainable params: 61,706\n",
      "Non-trainable params: 0\n",
      "_________________________________________________________________\n"
     ]
    }
   ],
   "source": [
    "\n",
    "np.random.seed(123) #set the seed in numpy\n",
    "tf.random.set_seed(123)  #set the seed in tensorflow\n",
    "\n",
    "# your code here\n",
    "from tensorflow.keras import layers, models, initializers\n",
    "\n",
    "X_train = np.pad(X_train, ((0,0),(2,2),(2,2)), 'constant')\n",
    "X_valid = np.pad(X_valid, ((0,0),(2,2),(2,2)), 'constant')\n",
    "X_test = np.pad(X_test, ((0,0),(2,2),(2,2)), 'constant')\n",
    "\n",
    "model = models.Sequential()\n",
    "\n",
    "#C1\n",
    "model.add(layers.Conv2D(filters = 6,\n",
    "                        kernel_size = (5, 5),\n",
    "                        strides = (1, 1),\n",
    "                        activation = 'tanh',\n",
    "                        input_shape = (32, 32, 1),\n",
    "                        kernel_initializer=initializers.GlorotUniform()))\n",
    "\n",
    "#S2\n",
    "model.add(layers.AvgPool2D(pool_size = (2, 2), strides = (2, 2)))\n",
    "\n",
    "#C3\n",
    "model.add(layers.Conv2D(filters = 16,\n",
    "                        kernel_size = (5, 5),\n",
    "                        strides = (1, 1),\n",
    "                        activation = 'tanh',\n",
    "                        kernel_initializer = initializers.GlorotUniform()))\n",
    "\n",
    "#S4\n",
    "model.add(layers.AvgPool2D(pool_size = (2, 2), strides = (2, 2)))\n",
    "\n",
    "#C5\n",
    "model.add(layers.Conv2D(filters = 120,\n",
    "                        kernel_size = (5, 5),\n",
    "                        strides = (1, 1),\n",
    "                        activation = 'tanh',\n",
    "                        kernel_initializer = initializers.GlorotUniform()))\n",
    "\n",
    "model.add(layers.Flatten())\n",
    "\n",
    "#F6 \n",
    "model.add(layers.Dense(units = 84,\n",
    "                       activation = 'tanh',\n",
    "                       kernel_initializer = initializers.GlorotUniform()))\n",
    "\n",
    "model.add(layers.Dense(units = 10,\n",
    "                       activation = 'softmax',\n",
    "                       kernel_initializer = initializers.GlorotUniform()))\n",
    "\n",
    "model.summary()"
   ]
  },
  {
   "cell_type": "code",
   "execution_count": 43,
   "id": "42a7bdee",
   "metadata": {
    "deletable": false,
    "editable": false,
    "nbgrader": {
     "cell_type": "code",
     "checksum": "220cbef5f2f0b3f715d730f36fbf58ee",
     "grade": true,
     "grade_id": "cell-a4f2bd415efb3a06",
     "locked": true,
     "points": 2,
     "schema_version": 3,
     "solution": false,
     "task": false
    }
   },
   "outputs": [],
   "source": [
    "#check whether there are 8 layers\n",
    "assert len(model.layers) == 8 , \"Sorry, wrong answer\"\n",
    "\n",
    "#check the shape of the first three layers:\n",
    "assert model.layers[0].output_shape == (None, 28, 28, 6), \"Sorry, wrong answer\"\n",
    "assert model.layers[1].output_shape == (None, 14, 14, 6), \"Sorry, wrong answer\"\n",
    "assert model.layers[2].output_shape == (None, 10, 10, 16), \"Sorry, wrong answer\"\n",
    "\n",
    "#Shape of the last layer:\n",
    "assert model.layers[7].output_shape == (None, 10), \"Sorry, wrong answer\""
   ]
  },
  {
   "cell_type": "code",
   "execution_count": 44,
   "id": "7a340e8a",
   "metadata": {
    "deletable": false,
    "editable": false,
    "nbgrader": {
     "cell_type": "code",
     "checksum": "7c5169b26f4653e591ed9aacc493e19a",
     "grade": true,
     "grade_id": "cell-d5e6901fa7683207",
     "locked": true,
     "points": 2,
     "schema_version": 3,
     "solution": false,
     "task": false
    }
   },
   "outputs": [],
   "source": [
    "#check whether norm of vector of initial weights of the first layer is correct\n",
    "assert abs(np.linalg.norm(model.layers[0].get_weights()[0].flatten()) - 1.2473539) < 1.e-4, \"Sorry, wrong answer\"\n",
    "\n",
    "#And check the last layer:\n",
    "assert abs(np.linalg.norm(model.layers[7].get_weights()[0].flatten()) - 4.389196) < 1.e-4, \"Sorry, wrong answer\""
   ]
  },
  {
   "cell_type": "markdown",
   "id": "37cd4cc7",
   "metadata": {
    "deletable": false,
    "editable": false,
    "nbgrader": {
     "cell_type": "markdown",
     "checksum": "d8eca19ef13b048bed889b396b8a31c3",
     "grade": false,
     "grade_id": "cell-a105f19262615d2a",
     "locked": true,
     "schema_version": 3,
     "solution": false,
     "task": false
    }
   },
   "source": [
    "### Compile and Train\n",
    "\n",
    "Now, compile the model, using the appropriate loss function and the following:\n",
    "\n",
    "1. Adam Optimizer (use Keras defaults)\n",
    "2. Accuracy as the only metric\n",
    "\n",
    "Fit the model using **5 epochs** with a **mini-batch size of 256**. Use the training and validation datasets constructed at the beginning of the notebook. This will take a couple moments.\n",
    "\n",
    "Only run the fit *once* if you want your results to match the autograder (recreate the model before the fit if needed.)\n",
    "\n",
    "**Save the training history as `history`.**"
   ]
  },
  {
   "cell_type": "code",
   "execution_count": 45,
   "id": "f043adbb",
   "metadata": {
    "deletable": false,
    "nbgrader": {
     "cell_type": "code",
     "checksum": "679ad94c00d3fe149c1d1c616ed1c50a",
     "grade": false,
     "grade_id": "cell-f79dbdbb45199ad7",
     "locked": false,
     "schema_version": 3,
     "solution": true,
     "task": false
    }
   },
   "outputs": [
    {
     "name": "stdout",
     "output_type": "stream",
     "text": [
      "Epoch 1/5\n",
      "215/215 [==============================] - 4s 15ms/step - loss: 0.4495 - accuracy: 0.8762 - val_loss: 0.1687 - val_accuracy: 0.9558\n",
      "Epoch 2/5\n",
      "215/215 [==============================] - 3s 15ms/step - loss: 0.1697 - accuracy: 0.9485 - val_loss: 0.1076 - val_accuracy: 0.9708\n",
      "Epoch 3/5\n",
      "215/215 [==============================] - 3s 14ms/step - loss: 0.1100 - accuracy: 0.9670 - val_loss: 0.0780 - val_accuracy: 0.9786\n",
      "Epoch 4/5\n",
      "215/215 [==============================] - 3s 15ms/step - loss: 0.0830 - accuracy: 0.9752 - val_loss: 0.0712 - val_accuracy: 0.9804\n",
      "Epoch 5/5\n",
      "215/215 [==============================] - 3s 14ms/step - loss: 0.0639 - accuracy: 0.9806 - val_loss: 0.0631 - val_accuracy: 0.9826\n"
     ]
    }
   ],
   "source": [
    "# your code here\n",
    "model.compile(optimizer = 'adam', loss = 'sparse_categorical_crossentropy', metrics = ['accuracy'])\n",
    "\n",
    "history = model.fit(X_train, y_train,epochs = 5, batch_size = 256, validation_data = (X_valid, y_valid), verbose = 1)"
   ]
  },
  {
   "cell_type": "code",
   "execution_count": 48,
   "id": "6d8220d3",
   "metadata": {
    "deletable": false,
    "editable": false,
    "nbgrader": {
     "cell_type": "code",
     "checksum": "5db08b2b81fbb3607608d9c99890f8fb",
     "grade": true,
     "grade_id": "cell-09fc234963f56966",
     "locked": true,
     "points": 3,
     "schema_version": 3,
     "solution": false,
     "task": false
    }
   },
   "outputs": [],
   "source": [
    "#Check the trained weights:\n",
    "###\n",
    "\n",
    "#check whether norm of vector of final weights of the first layer is correct\n",
    "assert abs(np.linalg.norm(model.layers[0].get_weights()[0].flatten()) - 2.0671482) < 1.e-4, \"Sorry, wrong answer\"\n",
    "\n",
    "#And check the last layer:\n",
    "assert abs(np.linalg.norm(model.layers[7].get_weights()[0].flatten()) - 6.6404786) < 1.e-4, \"Sorry, wrong answer\""
   ]
  },
  {
   "cell_type": "markdown",
   "id": "eaa22e01",
   "metadata": {
    "deletable": false,
    "editable": false,
    "nbgrader": {
     "cell_type": "markdown",
     "checksum": "d7db9bd2e70c21380287b9aba947c798",
     "grade": false,
     "grade_id": "cell-27ab98ca3f1661d8",
     "locked": true,
     "schema_version": 3,
     "solution": false,
     "task": false
    }
   },
   "source": [
    "### Plot the History\n",
    "\n",
    "Make a quick plot of the training loss and accuracy, as well as the validation loss and accuracy.  Your plot should resemble the following:\n",
    "\n",
    "<img src=\"history.png\" width=\"450px\">\n"
   ]
  },
  {
   "cell_type": "code",
   "execution_count": 70,
   "id": "325e6518",
   "metadata": {
    "deletable": false,
    "nbgrader": {
     "cell_type": "code",
     "checksum": "4638873d86bf3136657f7c888ca1f987",
     "grade": true,
     "grade_id": "cell-698d3f2c0282514f",
     "locked": false,
     "points": 3,
     "schema_version": 3,
     "solution": true,
     "task": false
    }
   },
   "outputs": [
    {
     "data": {
      "image/png": "[encoded data removed]",
      "text/plain": [
       "<Figure size 720x576 with 2 Axes>"
      ]
     },
     "metadata": {
      "needs_background": "light"
     },
     "output_type": "display_data"
    }
   ],
   "source": [
    "# your code here\n",
    "plt.figure(figsize = (10, 8))\n",
    "\n",
    "plt.subplot(2, 1, 1)\n",
    "plt.plot(history.history['loss'], label = 'Training Loss')\n",
    "plt.plot(history.history['val_loss'], label = 'Validation Loss')\n",
    "plt.xlabel('Epoch')\n",
    "plt.legend()\n",
    "\n",
    "plt.subplot(2, 1, 2)\n",
    "plt.plot(history.history['accuracy'],  label = 'Training Accuracy')\n",
    "plt.plot(history.history['val_accuracy'], label = 'Validation Accuracy')\n",
    "plt.xlabel('Epoch')\n",
    "plt.legend(loc = 'lower right')\n",
    "plt.tight_layout()\n"
   ]
  },
  {
   "cell_type": "markdown",
   "id": "e9ee5d7e",
   "metadata": {
    "deletable": false,
    "editable": false,
    "nbgrader": {
     "cell_type": "markdown",
     "checksum": "c830aa902f00b511b6baf2f211051565",
     "grade": false,
     "grade_id": "cell-e4ce149537f700de",
     "locked": true,
     "schema_version": 3,
     "solution": false,
     "task": false
    }
   },
   "source": [
    "### Visualize the Filters\n",
    "\n",
    "While not terribly informative, also take a moment to visualize the (six) trained filters of the first convolution layer. Your figure should look something like:\n",
    "\n",
    "<img src=\"filters.png\" width=\"425px\">"
   ]
  },
  {
   "cell_type": "code",
   "execution_count": 90,
   "id": "ed7033fe",
   "metadata": {
    "deletable": false,
    "nbgrader": {
     "cell_type": "code",
     "checksum": "1726b5206dbde3faab6352941aacbd51",
     "grade": true,
     "grade_id": "cell-ced52a953617fb45",
     "locked": false,
     "points": 3,
     "schema_version": 3,
     "solution": true,
     "task": false
    }
   },
   "outputs": [
    {
     "data": {
      "image/png": "[encoded data removed]",
      "text/plain": [
       "<Figure size 720x432 with 6 Axes>"
      ]
     },
     "metadata": {},
     "output_type": "display_data"
    }
   ],
   "source": [
    "# your code here\n",
    "filters, biases = model.layers[0].get_weights()\n",
    "\n",
    "f_min, f_max = filters.min(), filters.max()\n",
    "filters = (filters - f_min) / (f_max - f_min)\n",
    "\n",
    "n_filters = filters.shape[3]\n",
    "plt.figure(figsize = (10, 6))  \n",
    "\n",
    "n_columns = 3\n",
    "n_rows = n_filters // n_columns\n",
    "\n",
    "for i in range(n_filters):\n",
    "    f = filters[:, :, :, i]\n",
    "    row = i // n_columns\n",
    "    col = i % n_columns\n",
    "    ax = plt.subplot(n_rows, n_columns, i + 1)\n",
    "    ax.set_xticks([])\n",
    "    ax.set_yticks([])\n",
    "    plt.imshow(f[:, :, 0], cmap='summer')"
   ]
  },
  {
   "cell_type": "markdown",
   "id": "a7520cf9",
   "metadata": {
    "deletable": false,
    "editable": false,
    "nbgrader": {
     "cell_type": "markdown",
     "checksum": "b0317d52e14a3edd57c3f00fc637706f",
     "grade": false,
     "grade_id": "cell-7fa7726c711733b9",
     "locked": true,
     "schema_version": 3,
     "solution": false,
     "task": false
    }
   },
   "source": [
    "### Accuracy on the Test Set\n",
    "\n",
    "Determine the model accuracy on the test dataset.\n",
    "\n",
    "Assign the result to the variable `test_acc`."
   ]
  },
  {
   "cell_type": "code",
   "execution_count": 91,
   "id": "b4f85a21",
   "metadata": {
    "deletable": false,
    "nbgrader": {
     "cell_type": "code",
     "checksum": "63873cd21d74bade4087aace62fcd54c",
     "grade": false,
     "grade_id": "cell-fe13d90a95d1c885",
     "locked": false,
     "schema_version": 3,
     "solution": true,
     "task": false
    }
   },
   "outputs": [
    {
     "name": "stdout",
     "output_type": "stream",
     "text": [
      "313/313 [==============================] - 1s 4ms/step - loss: 0.0633 - accuracy: 0.9807\n"
     ]
    }
   ],
   "source": [
    "# your code here\n",
    "test_loss, test_acc = model.evaluate(X_test, y_test, verbose = 1)"
   ]
  },
  {
   "cell_type": "code",
   "execution_count": 92,
   "id": "026be3a6",
   "metadata": {
    "deletable": false,
    "editable": false,
    "nbgrader": {
     "cell_type": "code",
     "checksum": "259dd2d45c46e74ad19edaa73b6f71f9",
     "grade": true,
     "grade_id": "cell-1ecfe5c43f8deb76",
     "locked": true,
     "points": 1,
     "schema_version": 3,
     "solution": false,
     "task": false
    }
   },
   "outputs": [],
   "source": [
    "#check whether the 3rd and 4th decimal digits of train_acc are 07 \n",
    "assert np.mod(np.floor(test_acc * 10**4), 100) == 7\n"
   ]
  },
  {
   "cell_type": "code",
   "execution_count": 93,
   "id": "6e85a1cb",
   "metadata": {
    "deletable": false,
    "editable": false,
    "nbgrader": {
     "cell_type": "code",
     "checksum": "2b89fd406500a8fd72db89014fd9d59c",
     "grade": true,
     "grade_id": "cell-ba38374044eef41b",
     "locked": true,
     "points": 1,
     "schema_version": 3,
     "solution": false,
     "task": false
    }
   },
   "outputs": [],
   "source": [
    "#check whether the answer is correct (hidden tests)\n"
   ]
  },
  {
   "cell_type": "markdown",
   "id": "123ae00a",
   "metadata": {
    "deletable": false,
    "editable": false,
    "nbgrader": {
     "cell_type": "markdown",
     "checksum": "bd6f5be8a6e835c6bd2372d7bb8054cc",
     "grade": false,
     "grade_id": "cell-84e245a4b38e7563",
     "locked": true,
     "schema_version": 3,
     "solution": false,
     "task": false
    }
   },
   "source": [
    "### Predictions on the Test Set\n",
    "\n",
    "Predict the *class* (digit) for all instances in the testing dataset.\n",
    "\n",
    "Assign the result to the variable `y_pred`."
   ]
  },
  {
   "cell_type": "code",
   "execution_count": 94,
   "id": "c21976bc",
   "metadata": {
    "deletable": false,
    "nbgrader": {
     "cell_type": "code",
     "checksum": "a8a05394bc46d207b9ecde6a7ac2aff3",
     "grade": false,
     "grade_id": "cell-8abc8e02c385ab35",
     "locked": false,
     "schema_version": 3,
     "solution": true,
     "task": false
    }
   },
   "outputs": [],
   "source": [
    "# your code here\n",
    "y_pred = np.argmax(model.predict(X_test), axis = 1)"
   ]
  },
  {
   "cell_type": "code",
   "execution_count": 95,
   "id": "186bfa55",
   "metadata": {
    "deletable": false,
    "editable": false,
    "nbgrader": {
     "cell_type": "code",
     "checksum": "f26a96b44e50cb685dd82474575c8e0d",
     "grade": true,
     "grade_id": "cell-f6908cfadf8867da",
     "locked": true,
     "points": 1,
     "schema_version": 3,
     "solution": false,
     "task": false
    }
   },
   "outputs": [],
   "source": [
    "#Check the first 10 values \n",
    "assert (y_pred[:10] == np.array([7, 2, 1, 0, 4, 1, 4, 9, 5, 9])).all()"
   ]
  },
  {
   "cell_type": "code",
   "execution_count": 25,
   "id": "a5f4f5bb",
   "metadata": {
    "deletable": false,
    "editable": false,
    "nbgrader": {
     "cell_type": "code",
     "checksum": "8bedcdfb8abebe15e4ed9b8cd877675c",
     "grade": true,
     "grade_id": "cell-294110f7a5ac3e8f",
     "locked": true,
     "points": 2,
     "schema_version": 3,
     "solution": false,
     "task": false
    }
   },
   "outputs": [],
   "source": [
    "#check whether the answer is correct (hidden tests)\n"
   ]
  },
  {
   "cell_type": "markdown",
   "id": "12e911ac",
   "metadata": {
    "deletable": false,
    "editable": false,
    "nbgrader": {
     "cell_type": "markdown",
     "checksum": "eb991855d4ed8efcf3786f14282ea126",
     "grade": false,
     "grade_id": "cell-66613b9b13321967",
     "locked": true,
     "schema_version": 3,
     "solution": false,
     "task": false
    }
   },
   "source": [
    "### Plot Some Failures\n",
    "\n",
    "Plot the first 16 misclassified digits in the test dataset, along with a barplot of the probabilities of each class. Color bar associated with the model-predicted class red in the case of a misclassification, and color the true label green. Color all other bars grey. That is, use the exact same method we used in HW4 to visualize prediction probabilities on the MNIST Fashion dataset.\n",
    "\n",
    "So, adapt the code from HW4 to make the following plot (in essence):\n",
    "\n",
    "<img src=\"misclass1.png\" width=\"800px\">"
   ]
  },
  {
   "cell_type": "code",
   "execution_count": 139,
   "id": "6507c872",
   "metadata": {
    "deletable": false,
    "nbgrader": {
     "cell_type": "code",
     "checksum": "adaa6c3021aa97ee2462eb040775861f",
     "grade": true,
     "grade_id": "cell-4e4a513d56a68fcb",
     "locked": false,
     "points": 3,
     "schema_version": 3,
     "solution": true,
     "task": false
    }
   },
   "outputs": [],
   "source": [
    "# your code here\n"
   ]
  },
  {
   "cell_type": "markdown",
   "id": "aa4e06c4",
   "metadata": {
    "deletable": false,
    "editable": false,
    "nbgrader": {
     "cell_type": "markdown",
     "checksum": "43fa98fc23df9174f9c0cd8dcaeadfdd",
     "grade": false,
     "grade_id": "cell-1cbaf5c12d35edf3",
     "locked": true,
     "schema_version": 3,
     "solution": false,
     "task": false
    }
   },
   "source": [
    "## Make Some Modifications\n",
    "\n",
    "Make a new model based on the (modified) LeNet architecture implemented above, but add the following layers:\n",
    "\n",
    "1. Add a Batch Normalization Layer after each convolutional layer (after the activation function).\n",
    "2. Add a Dropout Layer with 20% dropout before the hidden Dense layer.\n",
    "3. Add a Dropout Layer with 40% dropout before the output layer.\n",
    "\n",
    "Make the following changes to the existing layers:\n",
    "\n",
    "1. Replace the average pooling layers with Max pooling layers.\n",
    "2. Change the activation function for all hidden layers from tanh to ReLU.\n",
    "3. Change weight initialization to He Normal for all layers with ReLU activation functions.\n",
    "\n",
    "Also reset the numpy and tensorflow random seeds to 123.\n",
    "\n",
    "Name this new model `model_mod`."
   ]
  },
  {
   "cell_type": "code",
   "execution_count": 50,
   "id": "c072e159",
   "metadata": {
    "deletable": false,
    "nbgrader": {
     "cell_type": "code",
     "checksum": "a250a38a400c294787ba3038d1d7e0be",
     "grade": false,
     "grade_id": "cell-1dbf6a1cfa315e10",
     "locked": false,
     "schema_version": 3,
     "solution": true,
     "task": false
    }
   },
   "outputs": [
    {
     "name": "stdout",
     "output_type": "stream",
     "text": [
      "Model: \"sequential_15\"\n",
      "_________________________________________________________________\n",
      " Layer (type)                Output Shape              Param #   \n",
      "=================================================================\n",
      " conv2d_45 (Conv2D)          (None, 28, 28, 6)         156       \n",
      "                                                                 \n",
      " batch_normalization_37 (Bat  (None, 28, 28, 6)        24        \n",
      " chNormalization)                                                \n",
      "                                                                 \n",
      " max_pooling2d_26 (MaxPoolin  (None, 14, 14, 6)        0         \n",
      " g2D)                                                            \n",
      "                                                                 \n",
      " conv2d_46 (Conv2D)          (None, 10, 10, 16)        2416      \n",
      "                                                                 \n",
      " batch_normalization_38 (Bat  (None, 10, 10, 16)       64        \n",
      " chNormalization)                                                \n",
      "                                                                 \n",
      " max_pooling2d_27 (MaxPoolin  (None, 5, 5, 16)         0         \n",
      " g2D)                                                            \n",
      "                                                                 \n",
      " conv2d_47 (Conv2D)          (None, 1, 1, 120)         48120     \n",
      "                                                                 \n",
      " batch_normalization_39 (Bat  (None, 1, 1, 120)        480       \n",
      " chNormalization)                                                \n",
      "                                                                 \n",
      " flatten_15 (Flatten)        (None, 120)               0         \n",
      "                                                                 \n",
      " dense_30 (Dense)            (None, 84)                10164     \n",
      "                                                                 \n",
      " dropout_24 (Dropout)        (None, 84)                0         \n",
      "                                                                 \n",
      " dense_31 (Dense)            (None, 10)                850       \n",
      "                                                                 \n",
      " dropout_25 (Dropout)        (None, 10)                0         \n",
      "                                                                 \n",
      "=================================================================\n",
      "Total params: 62,274\n",
      "Trainable params: 61,990\n",
      "Non-trainable params: 284\n",
      "_________________________________________________________________\n"
     ]
    }
   ],
   "source": [
    "\n",
    "np.random.seed(123) #set the seed in numpy\n",
    "tf.random.set_seed(123)  #set the seed in tensorflow\n",
    "\n",
    "# your code here\n"
   ]
  },
  {
   "cell_type": "code",
   "execution_count": 51,
   "id": "de575063",
   "metadata": {
    "deletable": false,
    "editable": false,
    "nbgrader": {
     "cell_type": "code",
     "checksum": "53c07100fd9bd71c4bb9edcdf2323539",
     "grade": true,
     "grade_id": "cell-643440f8ec50401f",
     "locked": true,
     "points": 2,
     "schema_version": 3,
     "solution": false,
     "task": false
    }
   },
   "outputs": [
    {
     "ename": "AssertionError",
     "evalue": "Sorry, wrong answer",
     "output_type": "error",
     "traceback": [
      "\u001b[0;31m---------------------------------------------------------------------------\u001b[0m",
      "\u001b[0;31mAssertionError\u001b[0m                            Traceback (most recent call last)",
      "\u001b[0;32m<ipython-input-51-e7e7f490441a>\u001b[0m in \u001b[0;36m<module>\u001b[0;34m\u001b[0m\n\u001b[1;32m     10\u001b[0m \u001b[0;32massert\u001b[0m \u001b[0mmodel_mod\u001b[0m\u001b[0;34m.\u001b[0m\u001b[0mlayers\u001b[0m\u001b[0;34m[\u001b[0m\u001b[0;36m7\u001b[0m\u001b[0;34m]\u001b[0m\u001b[0;34m.\u001b[0m\u001b[0moutput_shape\u001b[0m \u001b[0;34m==\u001b[0m \u001b[0;34m(\u001b[0m\u001b[0;32mNone\u001b[0m\u001b[0;34m,\u001b[0m \u001b[0;36m1\u001b[0m\u001b[0;34m,\u001b[0m \u001b[0;36m1\u001b[0m\u001b[0;34m,\u001b[0m \u001b[0;36m120\u001b[0m\u001b[0;34m)\u001b[0m\u001b[0;34m,\u001b[0m \u001b[0;34m\"Sorry, wrong answer\"\u001b[0m\u001b[0;34m\u001b[0m\u001b[0;34m\u001b[0m\u001b[0m\n\u001b[1;32m     11\u001b[0m \u001b[0;32massert\u001b[0m \u001b[0mmodel_mod\u001b[0m\u001b[0;34m.\u001b[0m\u001b[0mlayers\u001b[0m\u001b[0;34m[\u001b[0m\u001b[0;36m8\u001b[0m\u001b[0;34m]\u001b[0m\u001b[0;34m.\u001b[0m\u001b[0moutput_shape\u001b[0m \u001b[0;34m==\u001b[0m \u001b[0;34m(\u001b[0m\u001b[0;32mNone\u001b[0m\u001b[0;34m,\u001b[0m \u001b[0;36m120\u001b[0m\u001b[0;34m)\u001b[0m\u001b[0;34m,\u001b[0m \u001b[0;34m\"Sorry, wrong answer\"\u001b[0m\u001b[0;34m\u001b[0m\u001b[0;34m\u001b[0m\u001b[0m\n\u001b[0;32m---> 12\u001b[0;31m \u001b[0;32massert\u001b[0m \u001b[0mmodel_mod\u001b[0m\u001b[0;34m.\u001b[0m\u001b[0mlayers\u001b[0m\u001b[0;34m[\u001b[0m\u001b[0;36m9\u001b[0m\u001b[0;34m]\u001b[0m\u001b[0;34m.\u001b[0m\u001b[0moutput_shape\u001b[0m \u001b[0;34m==\u001b[0m \u001b[0;34m(\u001b[0m\u001b[0;32mNone\u001b[0m\u001b[0;34m,\u001b[0m \u001b[0;36m120\u001b[0m\u001b[0;34m)\u001b[0m\u001b[0;34m,\u001b[0m \u001b[0;34m\"Sorry, wrong answer\"\u001b[0m\u001b[0;34m\u001b[0m\u001b[0;34m\u001b[0m\u001b[0m\n\u001b[0m",
      "\u001b[0;31mAssertionError\u001b[0m: Sorry, wrong answer"
     ]
    }
   ],
   "source": [
    "#check whether there are 13 layers\n",
    "assert len(model_mod.layers) == 13 , \"Sorry, wrong answer\"\n",
    "\n",
    "#check the shape of the first three layers:\n",
    "assert model_mod.layers[0].output_shape == (None, 28, 28, 6), \"Sorry, wrong answer\"\n",
    "assert model_mod.layers[1].output_shape == (None, 28, 28, 6), \"Sorry, wrong answer\"\n",
    "assert model_mod.layers[2].output_shape == (None, 14, 14, 6), \"Sorry, wrong answer\"\n",
    "\n",
    "#Shape of a few more layers\n",
    "assert model_mod.layers[7].output_shape == (None, 1, 1, 120), \"Sorry, wrong answer\"\n",
    "assert model_mod.layers[8].output_shape == (None, 120), \"Sorry, wrong answer\"\n",
    "assert model_mod.layers[9].output_shape == (None, 120), \"Sorry, wrong answer\""
   ]
  },
  {
   "cell_type": "code",
   "execution_count": 52,
   "id": "ce297100",
   "metadata": {
    "deletable": false,
    "editable": false,
    "nbgrader": {
     "cell_type": "code",
     "checksum": "e02a5023093c174dc73e9777cec60e9a",
     "grade": true,
     "grade_id": "cell-deefaad316149c55",
     "locked": true,
     "points": 2,
     "schema_version": 3,
     "solution": false,
     "task": false
    }
   },
   "outputs": [
    {
     "ename": "IndexError",
     "evalue": "list index out of range",
     "output_type": "error",
     "traceback": [
      "\u001b[0;31m---------------------------------------------------------------------------\u001b[0m",
      "\u001b[0;31mIndexError\u001b[0m                                Traceback (most recent call last)",
      "\u001b[0;32m<ipython-input-52-9912da073094>\u001b[0m in \u001b[0;36m<module>\u001b[0;34m\u001b[0m\n\u001b[1;32m      3\u001b[0m \u001b[0;34m\u001b[0m\u001b[0m\n\u001b[1;32m      4\u001b[0m \u001b[0;31m#And check the last layer:\u001b[0m\u001b[0;34m\u001b[0m\u001b[0;34m\u001b[0m\u001b[0;34m\u001b[0m\u001b[0m\n\u001b[0;32m----> 5\u001b[0;31m \u001b[0;32massert\u001b[0m \u001b[0mabs\u001b[0m\u001b[0;34m(\u001b[0m\u001b[0mnp\u001b[0m\u001b[0;34m.\u001b[0m\u001b[0mlinalg\u001b[0m\u001b[0;34m.\u001b[0m\u001b[0mnorm\u001b[0m\u001b[0;34m(\u001b[0m\u001b[0mmodel_mod\u001b[0m\u001b[0;34m.\u001b[0m\u001b[0mlayers\u001b[0m\u001b[0;34m[\u001b[0m\u001b[0;36m12\u001b[0m\u001b[0;34m]\u001b[0m\u001b[0;34m.\u001b[0m\u001b[0mget_weights\u001b[0m\u001b[0;34m(\u001b[0m\u001b[0;34m)\u001b[0m\u001b[0;34m[\u001b[0m\u001b[0;36m0\u001b[0m\u001b[0;34m]\u001b[0m\u001b[0;34m.\u001b[0m\u001b[0mflatten\u001b[0m\u001b[0;34m(\u001b[0m\u001b[0;34m)\u001b[0m\u001b[0;34m)\u001b[0m \u001b[0;34m-\u001b[0m \u001b[0;36m4.389196\u001b[0m\u001b[0;34m)\u001b[0m \u001b[0;34m<\u001b[0m \u001b[0;36m1.e-4\u001b[0m\u001b[0;34m,\u001b[0m \u001b[0;34m\"Sorry, wrong answer\"\u001b[0m\u001b[0;34m\u001b[0m\u001b[0;34m\u001b[0m\u001b[0m\n\u001b[0m",
      "\u001b[0;31mIndexError\u001b[0m: list index out of range"
     ]
    }
   ],
   "source": [
    "#check whether norm of vector of initial weights of the first layer is correct\n",
    "assert abs(np.linalg.norm(model_mod.layers[0].get_weights()[0].flatten()) - 3.4778945) < 1.e-4, \"Sorry, wrong answer\"\n",
    "\n",
    "#And check the last layer:\n",
    "assert abs(np.linalg.norm(model_mod.layers[12].get_weights()[0].flatten()) - 4.389196) < 1.e-4, \"Sorry, wrong answer\""
   ]
  },
  {
   "cell_type": "markdown",
   "id": "a59b6c02",
   "metadata": {
    "deletable": false,
    "editable": false,
    "nbgrader": {
     "cell_type": "markdown",
     "checksum": "dc4637f012ef17076cea39b9e6511b36",
     "grade": false,
     "grade_id": "cell-ad7b12ef2c48ba2a",
     "locked": true,
     "schema_version": 3,
     "solution": false,
     "task": false
    }
   },
   "source": [
    "### Compile and Train Again\n",
    "\n",
    "Compile the model using the same loss, optimizer, and metrics as above.\n",
    "\n",
    "Train the model for **2 Epochs with a mini-batch size of 256**. Use the training and validation datasets constructed at the beginning of the notebook."
   ]
  },
  {
   "cell_type": "code",
   "execution_count": null,
   "id": "3f7bbb2c",
   "metadata": {
    "deletable": false,
    "nbgrader": {
     "cell_type": "code",
     "checksum": "73062f1bc6fb0907f7a2b3e7adc49d91",
     "grade": false,
     "grade_id": "cell-e7ca7ca0025deecb",
     "locked": false,
     "schema_version": 3,
     "solution": true,
     "task": false
    }
   },
   "outputs": [],
   "source": [
    "# your code here\n",
    "raise NotImplementedError"
   ]
  },
  {
   "cell_type": "markdown",
   "id": "60e5e533",
   "metadata": {
    "deletable": false,
    "editable": false,
    "nbgrader": {
     "cell_type": "markdown",
     "checksum": "9e104f88379ca1fd35f2412498387522",
     "grade": false,
     "grade_id": "cell-6ca99bcb5c6c81c0",
     "locked": true,
     "schema_version": 3,
     "solution": false,
     "task": false
    }
   },
   "source": [
    "### Accuracy on the Test Set\n",
    "\n",
    "Determine the modified model's accuracy on the test dataset. Assign the result to the variable `test_acc`."
   ]
  },
  {
   "cell_type": "code",
   "execution_count": null,
   "id": "a7b4afbf",
   "metadata": {
    "deletable": false,
    "nbgrader": {
     "cell_type": "code",
     "checksum": "c9fb5ed9d6704df598ecc6f58b9575c8",
     "grade": false,
     "grade_id": "cell-263adc1c72578449",
     "locked": false,
     "schema_version": 3,
     "solution": true,
     "task": false
    }
   },
   "outputs": [],
   "source": [
    "# your code here\n",
    "raise NotImplementedError"
   ]
  },
  {
   "cell_type": "code",
   "execution_count": null,
   "id": "2ea33610",
   "metadata": {
    "deletable": false,
    "editable": false,
    "nbgrader": {
     "cell_type": "code",
     "checksum": "b63d5ceda2a0b3c4321255b86fcebff3",
     "grade": true,
     "grade_id": "cell-199483f77c56c3a4",
     "locked": true,
     "points": 1,
     "schema_version": 3,
     "solution": false,
     "task": false
    }
   },
   "outputs": [],
   "source": [
    "#check whether the 3rd and 4th decimal digits of train_acc are 50\n",
    "assert np.mod(np.floor(test_acc * 10**4), 100) == 50\n"
   ]
  },
  {
   "cell_type": "code",
   "execution_count": null,
   "id": "afb9f8d9",
   "metadata": {
    "deletable": false,
    "editable": false,
    "nbgrader": {
     "cell_type": "code",
     "checksum": "28d55bd1a4f0b983878117c5cdaef1c7",
     "grade": true,
     "grade_id": "cell-eb16b1718428ea9f",
     "locked": true,
     "points": 1,
     "schema_version": 3,
     "solution": false,
     "task": false
    }
   },
   "outputs": [],
   "source": [
    "#check whether the answer is correct (hidden tests)\n"
   ]
  },
  {
   "cell_type": "markdown",
   "id": "2d426c78",
   "metadata": {
    "deletable": false,
    "editable": false,
    "nbgrader": {
     "cell_type": "markdown",
     "checksum": "481b275fb66b01042531c7d9987cd59c",
     "grade": false,
     "grade_id": "cell-af4f3a54945bef82",
     "locked": true,
     "schema_version": 3,
     "solution": false,
     "task": false
    }
   },
   "source": [
    "### More Predictions on the Test Set\n",
    "\n",
    "Predict the *class* (digit) for all instance in the testing dataset, using the modified model.\n",
    "\n",
    "Assign the result to the variable `y_pred_mod`.\n"
   ]
  },
  {
   "cell_type": "code",
   "execution_count": null,
   "id": "08fc6b04",
   "metadata": {
    "deletable": false,
    "nbgrader": {
     "cell_type": "code",
     "checksum": "d1737ae42cc8bff61c9406b015faa284",
     "grade": false,
     "grade_id": "cell-f589724a1d464fce",
     "locked": false,
     "schema_version": 3,
     "solution": true,
     "task": false
    }
   },
   "outputs": [],
   "source": [
    "# your code here\n",
    "raise NotImplementedError"
   ]
  },
  {
   "cell_type": "code",
   "execution_count": null,
   "id": "c2d9f0e3",
   "metadata": {
    "deletable": false,
    "editable": false,
    "nbgrader": {
     "cell_type": "code",
     "checksum": "9368db1863133e82936d5bab78b5b1f4",
     "grade": true,
     "grade_id": "cell-5d4a01cf297961f4",
     "locked": true,
     "points": 1,
     "schema_version": 3,
     "solution": false,
     "task": false
    }
   },
   "outputs": [],
   "source": [
    "#Check the first 10 values \n",
    "assert (y_pred_mod[:10] == np.array([7, 2, 1, 0, 4, 1, 4, 9, 5, 9])).all()"
   ]
  },
  {
   "cell_type": "code",
   "execution_count": null,
   "id": "37af4900",
   "metadata": {
    "deletable": false,
    "editable": false,
    "nbgrader": {
     "cell_type": "code",
     "checksum": "322dea834e0588537186a842c0d9a1e5",
     "grade": true,
     "grade_id": "cell-276031efb6631df5",
     "locked": true,
     "points": 2,
     "schema_version": 3,
     "solution": false,
     "task": false
    }
   },
   "outputs": [],
   "source": [
    "\n",
    "#check whether the answer is correct (hidden tests)\n",
    "\n"
   ]
  },
  {
   "cell_type": "markdown",
   "id": "f26cc31d",
   "metadata": {
    "deletable": false,
    "editable": false,
    "nbgrader": {
     "cell_type": "markdown",
     "checksum": "a32799a4308832dbd1b45876b40306c7",
     "grade": false,
     "grade_id": "cell-72056b642f4ff8dd",
     "locked": true,
     "schema_version": 3,
     "solution": false,
     "task": false
    }
   },
   "source": [
    "### Plot Some More Failures\n",
    "\n",
    "Plot the first 16 misclassified digits in the test dataset, making a graph of the probabilities of each class. Adapt your earlier code to reproduce (in essence):\n",
    "\n",
    "<img src=\"misclass2.png\" width=\"800px\">\n"
   ]
  },
  {
   "cell_type": "code",
   "execution_count": null,
   "id": "0d261f17",
   "metadata": {
    "deletable": false,
    "nbgrader": {
     "cell_type": "code",
     "checksum": "452cfcaf852f1451d439b50642ef7e9e",
     "grade": true,
     "grade_id": "cell-ab22cf33db473cd3",
     "locked": false,
     "points": 3,
     "schema_version": 3,
     "solution": true,
     "task": false
    }
   },
   "outputs": [],
   "source": [
    "# your code here\n",
    "raise NotImplementedError"
   ]
  },
  {
   "cell_type": "markdown",
   "id": "9888d044",
   "metadata": {
    "deletable": false,
    "editable": false,
    "nbgrader": {
     "cell_type": "markdown",
     "checksum": "5d873f4a3848aaef007b73964554e02b",
     "grade": false,
     "grade_id": "cell-7cf30b7e000bf4a3",
     "locked": true,
     "schema_version": 3,
     "solution": false,
     "task": false
    }
   },
   "source": [
    "## Part 2: Autoencoder + Transfer Learning\n",
    "\n",
    "We will download the CIFAR10 Dataset, and try out some unsupervised pretraining. Run the following cells to download the data and plot the first few entries of the training set:\n"
   ]
  },
  {
   "cell_type": "code",
   "execution_count": null,
   "id": "b86f5bb3",
   "metadata": {
    "deletable": false,
    "editable": false,
    "nbgrader": {
     "cell_type": "code",
     "checksum": "b337434ec378ed47b42dc4b6485b0a67",
     "grade": false,
     "grade_id": "cell-1d5fec718102f25c",
     "locked": true,
     "schema_version": 3,
     "solution": false,
     "task": false
    }
   },
   "outputs": [],
   "source": [
    "#Let's get the CIFAR10 dataset\n",
    "from tensorflow.keras import datasets\n",
    "\n",
    "(train_images, train_labels), (test_images, test_labels) = datasets.cifar10.load_data()\n",
    "\n",
    "#Normalize to between 0 and 1:\n",
    "train_images, test_images = train_images / 255.0, test_images / 255.0\n",
    "\n",
    "\n",
    "## Hold out some for validation, just like before:\n",
    "###########\n",
    "\n",
    "## All but last 5,000 will be train data; last 5,000 will be validation\n",
    "X_train, y_train = train_images[:-5000], train_labels[:-5000]\n",
    "\n",
    "X_valid, y_valid = train_images[-5000:], train_labels[-5000:]\n",
    "\n",
    "#Rename the test data for consistency:\n",
    "X_test, y_test = test_images, test_labels\n",
    "\n",
    "\n",
    "#And our class names follow:\n",
    "class_names = ['airplane', 'automobile', 'bird', 'cat', 'deer',\n",
    "               'dog', 'frog', 'horse', 'ship', 'truck']"
   ]
  },
  {
   "cell_type": "code",
   "execution_count": null,
   "id": "a0af8681",
   "metadata": {
    "deletable": false,
    "editable": false,
    "nbgrader": {
     "cell_type": "code",
     "checksum": "5705b73b5936a818259e95d816d708e2",
     "grade": false,
     "grade_id": "cell-9b2a0ae61d0dc1ff",
     "locked": true,
     "schema_version": 3,
     "solution": false,
     "task": false
    }
   },
   "outputs": [],
   "source": [
    "#### Plot some of the images\n",
    "#########\n",
    "fig1, ax1 = plt.subplots(3, 8, figsize=(15,7))\n",
    "ax1 = ax1.flatten()\n",
    "\n",
    "#And plot:\n",
    "for i in range(24):\n",
    "\n",
    "    ax1[i].imshow(X_train[i])\n",
    "    ax1[i].set_title(class_names[y_train[i][0]], fontweight='bold')\n",
    "    \n",
    "    ax1[i].set_axis_off()\n"
   ]
  },
  {
   "cell_type": "markdown",
   "id": "c1f91795",
   "metadata": {
    "deletable": false,
    "editable": false,
    "nbgrader": {
     "cell_type": "markdown",
     "checksum": "853554d24488f33412bd446d47ba373b",
     "grade": false,
     "grade_id": "cell-c24b5f3645d675c5",
     "locked": true,
     "schema_version": 3,
     "solution": false,
     "task": false
    }
   },
   "source": [
    "### Make the Autoenconder\n",
    "\n",
    "Now, build an **autoencoder** with the following structure, where Maps is the number of feature maps:\n",
    "\n",
    "Layer  | Type            | Maps | Size     | Kernel size | Stride | Activation\n",
    "-------|-----------------|------|----------|-------------|--------|-----------\n",
    " Reshape   | - | –    | 32 x32 x 3       | –           | –      | None\n",
    " Out   | Fully connected | –    | 3078       | –           | –      | None\n",
    " F7    | Fully connected | –    | 128       | –           | –      | ReLU\n",
    " D6    | Dropout 40%    | -  | -    | -      | -      | -\n",
    " C5    | Convolution     | 64  | 5 × 5    | 3 × 3       | 1      | ReLU\n",
    " S4    | Max pooling     | 32   | 7 × 7    | 2 × 2       | 2      | -\n",
    " C3    | Convolution     | 32   | 14 × 14  | 3 × 3       | 1      | ReLU\n",
    " S2    | Max pooling     | 32    | 16 × 16  | 2 × 2       | 2      | -\n",
    " C1    | Convolution     | 32    | 32 × 32  | 5 × 5       | 1      | ReLU\n",
    " In    | Input           | 1    | 32 × 32 x 3  | –           | –      | –\n",
    " \n",
    "- Include zero-padding only for the first convolutional layer.\n",
    "\n",
    "- Use He Normal weight initialization for layers with a ReLU activation function.\n",
    "\n",
    "- Call your model `model_auto`\n",
    "\n",
    "Again, reset the random number seeds to 123."
   ]
  },
  {
   "cell_type": "code",
   "execution_count": null,
   "id": "1d4de592",
   "metadata": {
    "deletable": false,
    "nbgrader": {
     "cell_type": "code",
     "checksum": "2174a3774a8d0220747d63d4d9d63d1a",
     "grade": false,
     "grade_id": "cell-b14d4b09ef06adbe",
     "locked": false,
     "schema_version": 3,
     "solution": true,
     "task": false
    }
   },
   "outputs": [],
   "source": [
    "np.random.seed(123) #set the seed in numpy\n",
    "tf.random.set_seed(123)  #set the seed in tensorflow\n",
    "\n",
    "# your code here\n",
    "raise NotImplementedError\n"
   ]
  },
  {
   "cell_type": "code",
   "execution_count": null,
   "id": "994cd47e",
   "metadata": {
    "deletable": false,
    "editable": false,
    "nbgrader": {
     "cell_type": "code",
     "checksum": "4e66b5848756d287bc43bfde8ee34707",
     "grade": true,
     "grade_id": "cell-24c70dcc33c3a97c",
     "locked": true,
     "points": 2,
     "schema_version": 3,
     "solution": false,
     "task": false
    }
   },
   "outputs": [],
   "source": [
    "#check whether there are 10 layers\n",
    "assert len(model_auto.layers) == 10 , \"Sorry, wrong answer\"\n",
    "\n",
    "#check the shape of the first three layers:\n",
    "assert model_auto.layers[0].output_shape == (None, 32, 32, 32), \"Sorry, wrong answer\"\n",
    "assert model_auto.layers[1].output_shape == (None, 16, 16, 32), \"Sorry, wrong answer\"\n",
    "assert model_auto.layers[2].output_shape == (None, 14, 14, 32), \"Sorry, wrong answer\"\n",
    "\n",
    "#Shape of a few more layers\n",
    "assert model_auto.layers[6].output_shape == (None, 1600), \"Sorry, wrong answer\"\n",
    "assert model_auto.layers[7].output_shape == (None, 128), \"Sorry, wrong answer\"\n",
    "assert model_auto.layers[8].output_shape == (None, 3072), \"Sorry, wrong answer\"\n",
    "assert model_auto.layers[9].output_shape == (None, 32, 32, 3), \"Sorry, wrong answer\""
   ]
  },
  {
   "cell_type": "code",
   "execution_count": null,
   "id": "9e5b0f92",
   "metadata": {
    "deletable": false,
    "editable": false,
    "nbgrader": {
     "cell_type": "code",
     "checksum": "b7b1811eac5f7de00e60123255e3a106",
     "grade": true,
     "grade_id": "cell-1bb5a069bf83594d",
     "locked": true,
     "points": 2,
     "schema_version": 3,
     "solution": false,
     "task": false
    }
   },
   "outputs": [],
   "source": [
    "\n",
    "#check whether norm of vector of initial weights of the first layer is correct\n",
    "assert abs(np.linalg.norm(model_auto.layers[0].get_weights()[0].flatten()) - 7.9769735) < 1.e-4, \"Sorry, wrong answer\"\n",
    "\n",
    "#And check layer 8:\n",
    "assert abs(np.linalg.norm(model_auto.layers[8].get_weights()[0].flatten()) - 15.683301) < 1.e-4, \"Sorry, wrong answer\""
   ]
  },
  {
   "cell_type": "markdown",
   "id": "fb25ca7e",
   "metadata": {
    "deletable": false,
    "editable": false,
    "nbgrader": {
     "cell_type": "markdown",
     "checksum": "15923873ab6c8b56f9bffa90c3a8a86e",
     "grade": false,
     "grade_id": "cell-3f744b6f63e958d3",
     "locked": true,
     "schema_version": 3,
     "solution": false,
     "task": false
    }
   },
   "source": [
    "### Compile and Train\n",
    "\n",
    "Compile the model using mean square error as your loss function, and the Adam optimizer.\n",
    "\n",
    "Train the model for **3 Epochs with a mini-batch size of 128**. Use the training and validation datasets constructed at the beginning of this section."
   ]
  },
  {
   "cell_type": "code",
   "execution_count": null,
   "id": "32de9a91",
   "metadata": {
    "deletable": false,
    "nbgrader": {
     "cell_type": "code",
     "checksum": "507d725ad03c9a3d1a7f657fa96c4ab1",
     "grade": false,
     "grade_id": "cell-603a4dd5afc8b8f9",
     "locked": false,
     "schema_version": 3,
     "solution": true,
     "task": false
    }
   },
   "outputs": [],
   "source": [
    "# your code here\n",
    "raise NotImplementedError"
   ]
  },
  {
   "cell_type": "markdown",
   "id": "3443b92c",
   "metadata": {
    "deletable": false,
    "editable": false,
    "nbgrader": {
     "cell_type": "markdown",
     "checksum": "3953b867e0ee990473c64f5d6b2843b1",
     "grade": false,
     "grade_id": "cell-c77441a1ac64e48a",
     "locked": true,
     "schema_version": 3,
     "solution": false,
     "task": false
    }
   },
   "source": [
    "### Visualize Some Output\n",
    "\n",
    "Plot the input image and autoencoder output for the first 12 entries of the *validation* dataset.  Your results should look something like the following:\n",
    "\n",
    "<img src=\"auto_results.png\" width=\"1000px\">"
   ]
  },
  {
   "cell_type": "code",
   "execution_count": null,
   "id": "67e07518",
   "metadata": {
    "deletable": false,
    "nbgrader": {
     "cell_type": "code",
     "checksum": "9a8613c0b6f42c86d2ba0a9652885431",
     "grade": true,
     "grade_id": "cell-9f507c6aaa18e13e",
     "locked": false,
     "points": 4,
     "schema_version": 3,
     "solution": true,
     "task": false
    }
   },
   "outputs": [],
   "source": [
    "# your code here\n",
    "raise NotImplementedError"
   ]
  },
  {
   "cell_type": "markdown",
   "id": "b484b389",
   "metadata": {
    "deletable": false,
    "editable": false,
    "nbgrader": {
     "cell_type": "markdown",
     "checksum": "41c1e370508e2bfbfd5a48aae9bb8d1a",
     "grade": false,
     "grade_id": "cell-6103b287848bddc7",
     "locked": true,
     "schema_version": 3,
     "solution": false,
     "task": false
    }
   },
   "source": [
    "### And Now for the Transfer Learning: Setup\n",
    "\n",
    "Clone `model_auto`, and set all the clone weights to those of the original model (`model_auto`).  Then, do the following:\n",
    "\n",
    "1. Set your random number seeds to 123\n",
    "2. Drop the top two layers of the net\n",
    "3. Replace these with a Dense output layer with 10 neurons, and softmax activation function\n",
    "4. Make the first four layers (First two convolutional layers and associated Max pool layers) **untrainable**\n",
    "\n",
    "Name this final model `model_transfer`."
   ]
  },
  {
   "cell_type": "code",
   "execution_count": null,
   "id": "03baa77b",
   "metadata": {
    "deletable": false,
    "nbgrader": {
     "cell_type": "code",
     "checksum": "dca28e763c35c79e4080669bc9d2b771",
     "grade": false,
     "grade_id": "cell-24df0ddc8487d605",
     "locked": false,
     "schema_version": 3,
     "solution": true,
     "task": false
    }
   },
   "outputs": [],
   "source": [
    "np.random.seed(123) #set the seed in numpy\n",
    "tf.random.set_seed(123)  #set the seed in tensorflow\n",
    "\n",
    "# your code here\n",
    "raise NotImplementedError\n",
    "    "
   ]
  },
  {
   "cell_type": "code",
   "execution_count": null,
   "id": "bc7e80a4",
   "metadata": {
    "deletable": false,
    "editable": false,
    "nbgrader": {
     "cell_type": "code",
     "checksum": "49f5c41a138d15800d51a4393bad0460",
     "grade": true,
     "grade_id": "cell-f02e416c6f6ae462",
     "locked": true,
     "points": 2,
     "schema_version": 3,
     "solution": false,
     "task": false
    }
   },
   "outputs": [],
   "source": [
    "#check whether there are 9 layers\n",
    "assert len(model_transfer.layers) == 9 , \"Sorry, wrong answer\"\n",
    "\n",
    "#check the shape of the first few and last few layers:\n",
    "assert model_transfer.layers[0].output_shape == (None, 32, 32, 32), \"Sorry, wrong answer\"\n",
    "assert model_transfer.layers[1].output_shape == (None, 16, 16, 32), \"Sorry, wrong answer\"\n",
    "\n",
    "#Shape of a few more layers\n",
    "assert model_transfer.layers[6].output_shape == (None, 1600), \"Sorry, wrong answer\"\n",
    "assert model_transfer.layers[7].output_shape == (None, 128), \"Sorry, wrong answer\"\n",
    "assert model_transfer.layers[8].output_shape == (None, 10), \"Sorry, wrong answer\"\n"
   ]
  },
  {
   "cell_type": "code",
   "execution_count": null,
   "id": "3e6545bd",
   "metadata": {
    "deletable": false,
    "editable": false,
    "nbgrader": {
     "cell_type": "code",
     "checksum": "c7d1c7225686531df4043c468ac39929",
     "grade": true,
     "grade_id": "cell-dab19b5d149a381c",
     "locked": true,
     "points": 2,
     "schema_version": 3,
     "solution": false,
     "task": false
    }
   },
   "outputs": [],
   "source": [
    "#check whether norm of vector of initial weights of the first layer is correct\n",
    "assert abs(np.linalg.norm(model_transfer.layers[0].get_weights()[0].flatten()) - 7.9397416) < 1.e-4, \"Sorry, wrong answer\"\n",
    "\n",
    "#Third layer:\n",
    "assert abs(np.linalg.norm(model_transfer.layers[2].get_weights()[0].flatten()) - 7.942527) < 1.e-4, \"Sorry, wrong answer\"\n",
    "\n",
    "#And check layer 9:\n",
    "assert abs(np.linalg.norm(model_transfer.layers[8].get_weights()[0].flatten()) - 4.350016) < 1.e-4, \"Sorry, wrong answer\""
   ]
  },
  {
   "cell_type": "markdown",
   "id": "91799c13",
   "metadata": {
    "deletable": false,
    "editable": false,
    "nbgrader": {
     "cell_type": "markdown",
     "checksum": "0771407cbc4ca517121ac92e79e08cb5",
     "grade": false,
     "grade_id": "cell-e9bf5714a5098ac6",
     "locked": true,
     "schema_version": 3,
     "solution": false,
     "task": false
    }
   },
   "source": [
    "### Compile, Train, and Predict\n",
    "\n",
    "Compile the model using the appropriate loss function, Adam optimizer, and track accuracy as a metric.\n",
    "\n",
    "Then, train `model_transfer` on the training data for **3 epochs with mini-batch size of 128**. Use the training and validation data loaded earlier."
   ]
  },
  {
   "cell_type": "code",
   "execution_count": null,
   "id": "4d8b802b",
   "metadata": {
    "deletable": false,
    "nbgrader": {
     "cell_type": "code",
     "checksum": "7b7574fe7c4f1bcb66704dcca9fdb9cf",
     "grade": false,
     "grade_id": "cell-157cca00782e3fb7",
     "locked": false,
     "schema_version": 3,
     "solution": true,
     "task": false
    }
   },
   "outputs": [],
   "source": [
    "# your code here\n",
    "raise NotImplementedError"
   ]
  },
  {
   "cell_type": "code",
   "execution_count": null,
   "id": "55d4c863",
   "metadata": {
    "deletable": false,
    "editable": false,
    "nbgrader": {
     "cell_type": "code",
     "checksum": "1ea7a17e4bbd6232dc11991a84e6b2ff",
     "grade": true,
     "grade_id": "cell-46aae12199c08815",
     "locked": true,
     "points": 2,
     "schema_version": 3,
     "solution": false,
     "task": false
    }
   },
   "outputs": [],
   "source": [
    "#check whether norm of vector of initial weights of the first layer is correct\n",
    "assert abs(np.linalg.norm(model_transfer.layers[0].get_weights()[0].flatten()) - 7.9397416) < 1.e-4, \"Sorry, wrong answer\"\n",
    "\n",
    "#Third layer:\n",
    "assert abs(np.linalg.norm(model_transfer.layers[2].get_weights()[0].flatten()) - 7.942527) < 1.e-4, \"Sorry, wrong answer\"\n",
    "\n",
    "#And check layer 7:\n",
    "assert abs(np.linalg.norm(model_transfer.layers[7].get_weights()[0].flatten()) - 23.793957) < 1.e-4, \"Sorry, wrong answer\"\n",
    "\n",
    "#And check layer 8:\n",
    "assert abs(np.linalg.norm(model_transfer.layers[8].get_weights()[0].flatten()) - 5.154296) < 1.e-4, \"Sorry, wrong answer\""
   ]
  },
  {
   "cell_type": "markdown",
   "id": "6ab5e08f",
   "metadata": {
    "deletable": false,
    "editable": false,
    "nbgrader": {
     "cell_type": "markdown",
     "checksum": "82c4ec9f0d3b690e7bb8c6a91f8f8c30",
     "grade": false,
     "grade_id": "cell-8555a2b896c8fcbe",
     "locked": true,
     "schema_version": 3,
     "solution": false,
     "task": false
    }
   },
   "source": [
    "### Final Accuracy on the Test Set\n",
    "\n",
    "Determine the accuracy of the newly trained `model_transfer` on the test dataset. Assign the result to the variable `test_acc`.\n"
   ]
  },
  {
   "cell_type": "code",
   "execution_count": null,
   "id": "56209878",
   "metadata": {
    "deletable": false,
    "nbgrader": {
     "cell_type": "code",
     "checksum": "839e5cceea2d5ca66322458802d9c166",
     "grade": false,
     "grade_id": "cell-5dc3aab2e99f657d",
     "locked": false,
     "schema_version": 3,
     "solution": true,
     "task": false
    }
   },
   "outputs": [],
   "source": [
    "# your code here\n",
    "raise NotImplementedError"
   ]
  },
  {
   "cell_type": "code",
   "execution_count": null,
   "id": "51b6af6d",
   "metadata": {
    "deletable": false,
    "editable": false,
    "nbgrader": {
     "cell_type": "code",
     "checksum": "ad0bbbf486e48a9ba6fae9e5bd9604cd",
     "grade": true,
     "grade_id": "cell-ccbcf3ab9b3f926a",
     "locked": true,
     "points": 1,
     "schema_version": 3,
     "solution": false,
     "task": false
    }
   },
   "outputs": [],
   "source": [
    "#check whether the 3rd and 4th decimal digits of train_acc are 28\n",
    "assert np.mod(np.floor(test_acc * 10**4), 100) == 28"
   ]
  },
  {
   "cell_type": "code",
   "execution_count": null,
   "id": "10918aa7",
   "metadata": {
    "deletable": false,
    "editable": false,
    "nbgrader": {
     "cell_type": "code",
     "checksum": "48381199880e6c73784c6f978776653e",
     "grade": true,
     "grade_id": "cell-38b5e172f4490a1c",
     "locked": true,
     "points": 2,
     "schema_version": 3,
     "solution": false,
     "task": false
    }
   },
   "outputs": [],
   "source": [
    "#check whether the answer is correct (hidden tests)\n"
   ]
  }
 ],
 "metadata": {
  "kernelspec": {
   "display_name": "Python 3 (ipykernel)",
   "language": "python",
   "name": "python3"
  },
  "language_info": {
   "codemirror_mode": {
    "name": "ipython",
    "version": 3
   },
   "file_extension": ".py",
   "mimetype": "text/x-python",
   "name": "python",
   "nbconvert_exporter": "python",
   "pygments_lexer": "ipython3",
   "version": "3.12.3"
  }
 },
 "nbformat": 4,
 "nbformat_minor": 5
}
