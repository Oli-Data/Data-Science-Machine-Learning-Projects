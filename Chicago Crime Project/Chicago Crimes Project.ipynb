{
 "cells": [
  {
   "cell_type": "markdown",
   "id": "42e04b30",
   "metadata": {},
   "source": [
    "# 🚧 In Early Development"
   ]
  },
  {
   "cell_type": "markdown",
   "id": "a9dbf41f",
   "metadata": {},
   "source": [
    "# Chicago Crimes (2001 to Present)\n",
    "A CO³ Labs study by Christian Olivares-Rodriguez\n",
    "\n",
    "The following data is directly from the City of Chicago with the latest update at the time of this project being 9/1/25\n",
    "\n",
    "\n",
    "\n",
    "The dataset can be found in the following link: https://data.cityofchicago.org/d/ijzp-q8t2\n",
    "\n",
    "## 📊 Dataset Features\n",
    "\n",
    "The dataset contains **22 features**:\n",
    "\n",
    "- **ID**: Unique identifier for the record.  \n",
    "- **Case Number**: The Chicago Police Department RD Number (Records Division Number), which is unique to the incident.  \n",
    "- **Date**: Date when the incident occurred (sometimes a best estimate).  \n",
    "- **Block**: The partially redacted address where the incident occurred, placing it on the same block as the actual address.  \n",
    "- **IUCR**: The Illinois Uniform Crime Reporting code. This is directly linked to the Primary Type and Description.  \n",
    "  - 🔗 [List of IUCR codes](https://data.cityofchicago.org/d/c7ck-438e)  \n",
    "- **Primary Type**: The primary description of the IUCR code.  \n",
    "- **Description**: The secondary description of the IUCR code, a subcategory of the primary description.  \n",
    "- **Location Description**: Description of the location where the incident occurred.  \n",
    "- **Arrest**: Indicates whether an arrest was made.  \n",
    "- **Domestic**: Indicates whether the incident was domestic-related as defined by the Illinois Domestic Violence Act.  \n",
    "- **Beat**: The beat where the incident occurred. A beat is the smallest police geographic area, each with a dedicated police beat car.  \n",
    "  - 🔗 [See Chicago beats](https://data.cityofchicago.org/d/aerh-rz74)  \n",
    "- **District**: Indicates the police district where the incident occurred.  \n",
    "  - 🔗 [See Chicago districts](https://data.cityofchicago.org/d/fthy-xz3r)  \n",
    "- **Ward**: The ward (City Council district) where the incident occurred.  \n",
    "  - 🔗 [See Chicago wards](https://data.cityofchicago.org/d/sp34-6z76)  \n",
    "- **Community Area**: Indicates the community area where the incident occurred. Chicago has 77 community areas.  \n",
    "  - 🔗 [See community areas](https://data.cityofchicago.org/d/cauq-8yn6)  \n",
    "- **FBI Code**: Crime classification per the FBI's NIBRS system.  \n",
    "  - 🔗 [FBI crime classifications](https://gis.chicagopolice.org/pages/crime_details)  \n",
    "- **X Coordinate**: The X coordinate of the location (State Plane Illinois East NAD 1983). Slightly shifted for privacy.  \n",
    "- **Y Coordinate**: The Y coordinate of the location (State Plane Illinois East NAD 1983). Slightly shifted for privacy.  \n",
    "- **Year**: Year the incident occurred.  \n",
    "- **Updated On**: Date and time the record was last updated.  \n",
    "- **Latitude**: The latitude of the incident location (shifted for privacy).  \n",
    "- **Longitude**: The longitude of the incident location (shifted for privacy).  \n",
    "- **Location**: Combined latitude/longitude format for mapping and geographic operations.  \n",
    "\n",
    "This project will consist of two main phases, **Analysis (Phase 1)** and **Machine learning predictions with Pytorch (Phase 2)**\n",
    "\n",
    "<p align = \"center\"> \n",
    "     <a href=\"https://pandas.pydata.org/\" target=\"_blank\" rel=\"noreferrer\">\n",
    "        <img src=\"https://pandas.pydata.org/static/img/pandas_mark.svg\" alt=\"pandas\" width=\"40\" height=\"40\"/>\n",
    "    </a>\n",
    "    <a href = \"https://pytorch.org/\" target=\"_blank\" rel=\"noreferrer\">\n",
    "        <img src=\"https://www.vectorlogo.zone/logos/pytorch/pytorch-icon.svg\" alt=\"pytorch\" width=\"40\" height=\"40\"/>\n",
    "    </a>\n",
    "</p>\n",
    "\n",
    "### Libraries\n"
   ]
  },
  {
   "cell_type": "code",
   "execution_count": 57,
   "id": "03d3f1fd",
   "metadata": {},
   "outputs": [
    {
     "name": "stdout",
     "output_type": "stream",
     "text": [
      "Defaulting to user installation because normal site-packages is not writeable\n",
      "Collecting matplotlib\n",
      "  Downloading matplotlib-3.9.4-cp39-cp39-macosx_11_0_arm64.whl.metadata (11 kB)\n",
      "Collecting contourpy>=1.0.1 (from matplotlib)\n",
      "  Downloading contourpy-1.3.0-cp39-cp39-macosx_11_0_arm64.whl.metadata (5.4 kB)\n",
      "Collecting cycler>=0.10 (from matplotlib)\n",
      "  Downloading cycler-0.12.1-py3-none-any.whl.metadata (3.8 kB)\n",
      "Collecting fonttools>=4.22.0 (from matplotlib)\n",
      "  Downloading fonttools-4.59.2-cp39-cp39-macosx_10_9_universal2.whl.metadata (109 kB)\n",
      "Collecting kiwisolver>=1.3.1 (from matplotlib)\n",
      "  Downloading kiwisolver-1.4.7-cp39-cp39-macosx_11_0_arm64.whl.metadata (6.3 kB)\n",
      "Requirement already satisfied: numpy>=1.23 in /Users/christianolivares/Library/Python/3.9/lib/python/site-packages (from matplotlib) (2.0.2)\n",
      "Requirement already satisfied: packaging>=20.0 in /Users/christianolivares/Library/Python/3.9/lib/python/site-packages (from matplotlib) (24.1)\n",
      "Requirement already satisfied: pillow>=8 in /Users/christianolivares/Library/Python/3.9/lib/python/site-packages (from matplotlib) (11.0.0)\n",
      "Collecting pyparsing>=2.3.1 (from matplotlib)\n",
      "  Downloading pyparsing-3.2.3-py3-none-any.whl.metadata (5.0 kB)\n",
      "Requirement already satisfied: python-dateutil>=2.7 in /Users/christianolivares/Library/Python/3.9/lib/python/site-packages (from matplotlib) (2.9.0.post0)\n",
      "Collecting importlib-resources>=3.2.0 (from matplotlib)\n",
      "  Downloading importlib_resources-6.5.2-py3-none-any.whl.metadata (3.9 kB)\n",
      "Requirement already satisfied: zipp>=3.1.0 in /Users/christianolivares/Library/Python/3.9/lib/python/site-packages (from importlib-resources>=3.2.0->matplotlib) (3.20.1)\n",
      "Requirement already satisfied: six>=1.5 in /Library/Developer/CommandLineTools/Library/Frameworks/Python3.framework/Versions/3.9/lib/python3.9/site-packages (from python-dateutil>=2.7->matplotlib) (1.15.0)\n",
      "Downloading matplotlib-3.9.4-cp39-cp39-macosx_11_0_arm64.whl (7.8 MB)\n",
      "\u001b[2K   \u001b[90m━━━━━━━━━━━━━━━━━━━━━━━━━━━━━━━━━━━━━━━━\u001b[0m \u001b[32m7.8/7.8 MB\u001b[0m \u001b[31m29.1 MB/s\u001b[0m eta \u001b[36m0:00:00\u001b[0ma \u001b[36m0:00:01\u001b[0m\n",
      "\u001b[?25hDownloading contourpy-1.3.0-cp39-cp39-macosx_11_0_arm64.whl (249 kB)\n",
      "Downloading cycler-0.12.1-py3-none-any.whl (8.3 kB)\n",
      "Downloading fonttools-4.59.2-cp39-cp39-macosx_10_9_universal2.whl (2.8 MB)\n",
      "\u001b[2K   \u001b[90m━━━━━━━━━━━━━━━━━━━━━━━━━━━━━━━━━━━━━━━━\u001b[0m \u001b[32m2.8/2.8 MB\u001b[0m \u001b[31m28.8 MB/s\u001b[0m eta \u001b[36m0:00:00\u001b[0m\n",
      "\u001b[?25hDownloading importlib_resources-6.5.2-py3-none-any.whl (37 kB)\n",
      "Downloading kiwisolver-1.4.7-cp39-cp39-macosx_11_0_arm64.whl (64 kB)\n",
      "Downloading pyparsing-3.2.3-py3-none-any.whl (111 kB)\n",
      "Installing collected packages: pyparsing, kiwisolver, importlib-resources, fonttools, cycler, contourpy, matplotlib\n",
      "Successfully installed contourpy-1.3.0 cycler-0.12.1 fonttools-4.59.2 importlib-resources-6.5.2 kiwisolver-1.4.7 matplotlib-3.9.4 pyparsing-3.2.3\n",
      "\n",
      "\u001b[1m[\u001b[0m\u001b[34;49mnotice\u001b[0m\u001b[1;39;49m]\u001b[0m\u001b[39;49m A new release of pip is available: \u001b[0m\u001b[31;49m24.2\u001b[0m\u001b[39;49m -> \u001b[0m\u001b[32;49m25.2\u001b[0m\n",
      "\u001b[1m[\u001b[0m\u001b[34;49mnotice\u001b[0m\u001b[1;39;49m]\u001b[0m\u001b[39;49m To update, run: \u001b[0m\u001b[32;49m/Library/Developer/CommandLineTools/usr/bin/python3 -m pip install --upgrade pip\u001b[0m\n",
      "Note: you may need to restart the kernel to use updated packages.\n"
     ]
    }
   ],
   "source": [
    "pip install matplotlib"
   ]
  },
  {
   "cell_type": "code",
   "execution_count": 58,
   "id": "6d5ccdb8",
   "metadata": {},
   "outputs": [
    {
     "name": "stderr",
     "output_type": "stream",
     "text": [
      "Matplotlib is building the font cache; this may take a moment.\n"
     ]
    }
   ],
   "source": [
    "# Uncomment if running in a fresh environment\n",
    "# pip install torch torchvision torchaudio --index-url https://download.pytorch.org/whl/cpu\n",
    "# pip install matplotlib\n",
    "import pandas as pd\n",
    "import torch \n",
    "from IPython.display import display\n",
    "import matplotlib.pyplot as plt"
   ]
  },
  {
   "cell_type": "markdown",
   "id": "878ccfd2",
   "metadata": {},
   "source": [
    "### Importing the Data"
   ]
  },
  {
   "cell_type": "code",
   "execution_count": 59,
   "id": "6a19b272",
   "metadata": {},
   "outputs": [
    {
     "data": {
      "text/html": [
       "<div>\n",
       "<style scoped>\n",
       "    .dataframe tbody tr th:only-of-type {\n",
       "        vertical-align: middle;\n",
       "    }\n",
       "\n",
       "    .dataframe tbody tr th {\n",
       "        vertical-align: top;\n",
       "    }\n",
       "\n",
       "    .dataframe thead th {\n",
       "        text-align: right;\n",
       "    }\n",
       "</style>\n",
       "<table border=\"1\" class=\"dataframe\">\n",
       "  <thead>\n",
       "    <tr style=\"text-align: right;\">\n",
       "      <th></th>\n",
       "      <th>ID</th>\n",
       "      <th>Case Number</th>\n",
       "      <th>Date</th>\n",
       "      <th>Block</th>\n",
       "      <th>IUCR</th>\n",
       "      <th>Primary Type</th>\n",
       "      <th>Description</th>\n",
       "      <th>Location Description</th>\n",
       "      <th>Arrest</th>\n",
       "      <th>Domestic</th>\n",
       "      <th>...</th>\n",
       "      <th>Ward</th>\n",
       "      <th>Community Area</th>\n",
       "      <th>FBI Code</th>\n",
       "      <th>X Coordinate</th>\n",
       "      <th>Y Coordinate</th>\n",
       "      <th>Year</th>\n",
       "      <th>Updated On</th>\n",
       "      <th>Latitude</th>\n",
       "      <th>Longitude</th>\n",
       "      <th>Location</th>\n",
       "    </tr>\n",
       "  </thead>\n",
       "  <tbody>\n",
       "    <tr>\n",
       "      <th>0</th>\n",
       "      <td>13944993</td>\n",
       "      <td>JJ387932</td>\n",
       "      <td>08/24/2025 12:00:00 AM</td>\n",
       "      <td>048XX W NORTH AVE</td>\n",
       "      <td>051A</td>\n",
       "      <td>ASSAULT</td>\n",
       "      <td>AGGRAVATED - HANDGUN</td>\n",
       "      <td>STREET</td>\n",
       "      <td>False</td>\n",
       "      <td>False</td>\n",
       "      <td>...</td>\n",
       "      <td>37</td>\n",
       "      <td>25</td>\n",
       "      <td>04A</td>\n",
       "      <td>1143357.0</td>\n",
       "      <td>1910187.0</td>\n",
       "      <td>2025</td>\n",
       "      <td>08/31/2025 03:44:27 PM</td>\n",
       "      <td>41.909591</td>\n",
       "      <td>-87.748806</td>\n",
       "      <td>(41.909591067, -87.748805933)</td>\n",
       "    </tr>\n",
       "    <tr>\n",
       "      <th>1</th>\n",
       "      <td>13944716</td>\n",
       "      <td>JJ387574</td>\n",
       "      <td>08/24/2025 12:00:00 AM</td>\n",
       "      <td>094XX S PERRY AVE</td>\n",
       "      <td>2017</td>\n",
       "      <td>NARCOTICS</td>\n",
       "      <td>MANUFACTURE / DELIVER - CRACK</td>\n",
       "      <td>ALLEY</td>\n",
       "      <td>True</td>\n",
       "      <td>False</td>\n",
       "      <td>...</td>\n",
       "      <td>9</td>\n",
       "      <td>49</td>\n",
       "      <td>18</td>\n",
       "      <td>1177273.0</td>\n",
       "      <td>1842339.0</td>\n",
       "      <td>2025</td>\n",
       "      <td>08/31/2025 03:44:27 PM</td>\n",
       "      <td>41.722708</td>\n",
       "      <td>-87.626265</td>\n",
       "      <td>(41.722708451, -87.626264554)</td>\n",
       "    </tr>\n",
       "    <tr>\n",
       "      <th>2</th>\n",
       "      <td>13944725</td>\n",
       "      <td>JJ387611</td>\n",
       "      <td>08/24/2025 12:00:00 AM</td>\n",
       "      <td>033XX S BELL AVE</td>\n",
       "      <td>1310</td>\n",
       "      <td>CRIMINAL DAMAGE</td>\n",
       "      <td>TO PROPERTY</td>\n",
       "      <td>ALLEY</td>\n",
       "      <td>False</td>\n",
       "      <td>False</td>\n",
       "      <td>...</td>\n",
       "      <td>12</td>\n",
       "      <td>59</td>\n",
       "      <td>14</td>\n",
       "      <td>1161899.0</td>\n",
       "      <td>1882457.0</td>\n",
       "      <td>2025</td>\n",
       "      <td>08/31/2025 03:44:27 PM</td>\n",
       "      <td>41.833130</td>\n",
       "      <td>-87.681464</td>\n",
       "      <td>(41.833130457, -87.681463965)</td>\n",
       "    </tr>\n",
       "    <tr>\n",
       "      <th>3</th>\n",
       "      <td>13946336</td>\n",
       "      <td>JJ388372</td>\n",
       "      <td>08/24/2025 12:00:00 AM</td>\n",
       "      <td>025XX W IRVING PARK RD</td>\n",
       "      <td>1310</td>\n",
       "      <td>CRIMINAL DAMAGE</td>\n",
       "      <td>TO PROPERTY</td>\n",
       "      <td>RESIDENCE</td>\n",
       "      <td>False</td>\n",
       "      <td>False</td>\n",
       "      <td>...</td>\n",
       "      <td>47</td>\n",
       "      <td>5</td>\n",
       "      <td>14</td>\n",
       "      <td>1158560.0</td>\n",
       "      <td>1926479.0</td>\n",
       "      <td>2025</td>\n",
       "      <td>08/31/2025 03:44:27 PM</td>\n",
       "      <td>41.954000</td>\n",
       "      <td>-87.692509</td>\n",
       "      <td>(41.953999563, -87.69250903)</td>\n",
       "    </tr>\n",
       "    <tr>\n",
       "      <th>4</th>\n",
       "      <td>13948459</td>\n",
       "      <td>JJ392059</td>\n",
       "      <td>08/24/2025 12:00:00 AM</td>\n",
       "      <td>056XX S HERMITAGE AVE</td>\n",
       "      <td>0620</td>\n",
       "      <td>BURGLARY</td>\n",
       "      <td>UNLAWFUL ENTRY</td>\n",
       "      <td>ABANDONED BUILDING</td>\n",
       "      <td>False</td>\n",
       "      <td>False</td>\n",
       "      <td>...</td>\n",
       "      <td>15</td>\n",
       "      <td>67</td>\n",
       "      <td>05</td>\n",
       "      <td>1165641.0</td>\n",
       "      <td>1867263.0</td>\n",
       "      <td>2025</td>\n",
       "      <td>08/31/2025 03:44:27 PM</td>\n",
       "      <td>41.791358</td>\n",
       "      <td>-87.668165</td>\n",
       "      <td>(41.791357661, -87.668165381)</td>\n",
       "    </tr>\n",
       "  </tbody>\n",
       "</table>\n",
       "<p>5 rows × 22 columns</p>\n",
       "</div>"
      ],
      "text/plain": [
       "         ID Case Number                    Date                   Block  IUCR  \\\n",
       "0  13944993    JJ387932  08/24/2025 12:00:00 AM       048XX W NORTH AVE  051A   \n",
       "1  13944716    JJ387574  08/24/2025 12:00:00 AM       094XX S PERRY AVE  2017   \n",
       "2  13944725    JJ387611  08/24/2025 12:00:00 AM        033XX S BELL AVE  1310   \n",
       "3  13946336    JJ388372  08/24/2025 12:00:00 AM  025XX W IRVING PARK RD  1310   \n",
       "4  13948459    JJ392059  08/24/2025 12:00:00 AM   056XX S HERMITAGE AVE  0620   \n",
       "\n",
       "      Primary Type                    Description Location Description  \\\n",
       "0          ASSAULT           AGGRAVATED - HANDGUN               STREET   \n",
       "1        NARCOTICS  MANUFACTURE / DELIVER - CRACK                ALLEY   \n",
       "2  CRIMINAL DAMAGE                    TO PROPERTY                ALLEY   \n",
       "3  CRIMINAL DAMAGE                    TO PROPERTY            RESIDENCE   \n",
       "4         BURGLARY                 UNLAWFUL ENTRY   ABANDONED BUILDING   \n",
       "\n",
       "   Arrest  Domestic  ...  Ward  Community Area  FBI Code  X Coordinate  \\\n",
       "0   False     False  ...    37              25       04A     1143357.0   \n",
       "1    True     False  ...     9              49        18     1177273.0   \n",
       "2   False     False  ...    12              59        14     1161899.0   \n",
       "3   False     False  ...    47               5        14     1158560.0   \n",
       "4   False     False  ...    15              67        05     1165641.0   \n",
       "\n",
       "  Y Coordinate  Year              Updated On   Latitude  Longitude  \\\n",
       "0    1910187.0  2025  08/31/2025 03:44:27 PM  41.909591 -87.748806   \n",
       "1    1842339.0  2025  08/31/2025 03:44:27 PM  41.722708 -87.626265   \n",
       "2    1882457.0  2025  08/31/2025 03:44:27 PM  41.833130 -87.681464   \n",
       "3    1926479.0  2025  08/31/2025 03:44:27 PM  41.954000 -87.692509   \n",
       "4    1867263.0  2025  08/31/2025 03:44:27 PM  41.791358 -87.668165   \n",
       "\n",
       "                        Location  \n",
       "0  (41.909591067, -87.748805933)  \n",
       "1  (41.722708451, -87.626264554)  \n",
       "2  (41.833130457, -87.681463965)  \n",
       "3   (41.953999563, -87.69250903)  \n",
       "4  (41.791357661, -87.668165381)  \n",
       "\n",
       "[5 rows x 22 columns]"
      ]
     },
     "metadata": {},
     "output_type": "display_data"
    },
    {
     "name": "stdout",
     "output_type": "stream",
     "text": [
      "(200000, 22)\n"
     ]
    },
    {
     "data": {
      "text/plain": [
       "ID                        0\n",
       "Case Number               0\n",
       "Date                      0\n",
       "Block                     0\n",
       "IUCR                      0\n",
       "Primary Type              0\n",
       "Description               0\n",
       "Location Description    717\n",
       "Arrest                    0\n",
       "Domestic                  0\n",
       "Beat                      0\n",
       "District                  0\n",
       "Ward                      0\n",
       "Community Area            0\n",
       "FBI Code                  0\n",
       "X Coordinate             59\n",
       "Y Coordinate             59\n",
       "Year                      0\n",
       "Updated On                0\n",
       "Latitude                 59\n",
       "Longitude                59\n",
       "Location                 59\n",
       "dtype: int64"
      ]
     },
     "execution_count": 59,
     "metadata": {},
     "output_type": "execute_result"
    }
   ],
   "source": [
    "# Uncomment to load full dataset\n",
    "# crime_df = pd.read_csv('/Users/christianolivares/Data Sci/Projects/Python/Chicago Crimes/CSV/Crimes_-_2001_to_Present_20250901.csv')\n",
    "crime_df = pd.read_csv('/Users/christianolivares/Data Sci/Projects/Python/Chicago Crimes/CSV/Crimes_-_2001_to_Present_20250901.csv', nrows = 200_000)\n",
    "\n",
    "display(crime_df.head(5))\n",
    "print(crime_df.shape)\n",
    "crime_df.isnull().sum()"
   ]
  },
  {
   "cell_type": "markdown",
   "id": "a67de011",
   "metadata": {},
   "source": [
    "# Making a Copy and Filtering the Data"
   ]
  },
  {
   "cell_type": "code",
   "execution_count": 60,
   "id": "11b72fc0",
   "metadata": {},
   "outputs": [
    {
     "name": "stdout",
     "output_type": "stream",
     "text": [
      "(199224, 22)\n",
      "ID                      0\n",
      "Case Number             0\n",
      "Date                    0\n",
      "Block                   0\n",
      "IUCR                    0\n",
      "Primary Type            0\n",
      "Description             0\n",
      "Location Description    0\n",
      "Arrest                  0\n",
      "Domestic                0\n",
      "Beat                    0\n",
      "District                0\n",
      "Ward                    0\n",
      "Community Area          0\n",
      "FBI Code                0\n",
      "X Coordinate            0\n",
      "Y Coordinate            0\n",
      "Year                    0\n",
      "Updated On              0\n",
      "Latitude                0\n",
      "Longitude               0\n",
      "Location                0\n",
      "dtype: int64\n"
     ]
    }
   ],
   "source": [
    "# Copy df\n",
    "crime_copy_df = crime_df.copy()\n",
    "\n",
    "# Drop NAs, check shape, and check for any NAs\n",
    "crime_clean_df = crime_copy_df.dropna()\n",
    "print(crime_clean_df.shape)\n",
    "print(crime_clean_df.isnull().sum())"
   ]
  },
  {
   "cell_type": "markdown",
   "id": "bcdf1641",
   "metadata": {},
   "source": [
    "After cleaning we went from 200,000 rows down to 199,224"
   ]
  },
  {
   "cell_type": "markdown",
   "id": "588ac9e9",
   "metadata": {},
   "source": [
    "# Phase 1\n",
    "### Analysis\n",
    "\n",
    "Let's first start off by checking all the column names and the unique crimes fromt the column Primary Type along with the amount of times they appear in the dataset"
   ]
  },
  {
   "cell_type": "code",
   "execution_count": 61,
   "id": "a2db5621",
   "metadata": {},
   "outputs": [
    {
     "name": "stdout",
     "output_type": "stream",
     "text": [
      "Column Names:\n"
     ]
    },
    {
     "data": {
      "text/plain": [
       "['ID',\n",
       " 'Case Number',\n",
       " 'Date',\n",
       " 'Block',\n",
       " 'IUCR',\n",
       " 'Primary Type',\n",
       " 'Description',\n",
       " 'Location Description',\n",
       " 'Arrest',\n",
       " 'Domestic',\n",
       " 'Beat',\n",
       " 'District',\n",
       " 'Ward',\n",
       " 'Community Area',\n",
       " 'FBI Code',\n",
       " 'X Coordinate',\n",
       " 'Y Coordinate',\n",
       " 'Year',\n",
       " 'Updated On',\n",
       " 'Latitude',\n",
       " 'Longitude',\n",
       " 'Location']"
      ]
     },
     "metadata": {},
     "output_type": "display_data"
    },
    {
     "name": "stdout",
     "output_type": "stream",
     "text": [
      "Unique Primary Types:\n"
     ]
    },
    {
     "data": {
      "text/plain": [
       "array(['ASSAULT', 'NARCOTICS', 'CRIMINAL DAMAGE', 'BURGLARY', 'THEFT',\n",
       "       'OTHER OFFENSE', 'MOTOR VEHICLE THEFT', 'BATTERY',\n",
       "       'WEAPONS VIOLATION', 'CRIMINAL TRESPASS',\n",
       "       'CRIMINAL SEXUAL ASSAULT', 'ROBBERY', 'PUBLIC PEACE VIOLATION',\n",
       "       'SEX OFFENSE', 'ARSON', 'CONCEALED CARRY LICENSE VIOLATION',\n",
       "       'OFFENSE INVOLVING CHILDREN', 'DECEPTIVE PRACTICE',\n",
       "       'INTERFERENCE WITH PUBLIC OFFICER', 'INTIMIDATION', 'PROSTITUTION',\n",
       "       'HOMICIDE', 'STALKING', 'KIDNAPPING', 'OBSCENITY',\n",
       "       'HUMAN TRAFFICKING', 'LIQUOR LAW VIOLATION', 'GAMBLING',\n",
       "       'OTHER NARCOTIC VIOLATION', 'PUBLIC INDECENCY', 'NON-CRIMINAL'],\n",
       "      dtype=object)"
      ]
     },
     "metadata": {},
     "output_type": "display_data"
    },
    {
     "data": {
      "text/plain": [
       "Primary Type\n",
       "THEFT                                47032\n",
       "BATTERY                              35983\n",
       "CRIMINAL DAMAGE                      21962\n",
       "ASSAULT                              18139\n",
       "MOTOR VEHICLE THEFT                  14456\n",
       "OTHER OFFENSE                        14010\n",
       "DECEPTIVE PRACTICE                   11447\n",
       "BURGLARY                              7562\n",
       "NARCOTICS                             6385\n",
       "ROBBERY                               5695\n",
       "WEAPONS VIOLATION                     4900\n",
       "CRIMINAL TRESPASS                     4368\n",
       "OFFENSE INVOLVING CHILDREN            1333\n",
       "CRIMINAL SEXUAL ASSAULT               1322\n",
       "SEX OFFENSE                           1050\n",
       "PUBLIC PEACE VIOLATION                 849\n",
       "INTERFERENCE WITH PUBLIC OFFICER       740\n",
       "STALKING                               435\n",
       "HOMICIDE                               358\n",
       "ARSON                                  327\n",
       "CONCEALED CARRY LICENSE VIOLATION      233\n",
       "PROSTITUTION                           187\n",
       "LIQUOR LAW VIOLATION                   163\n",
       "INTIMIDATION                           110\n",
       "KIDNAPPING                              83\n",
       "OBSCENITY                               44\n",
       "HUMAN TRAFFICKING                       20\n",
       "GAMBLING                                12\n",
       "OTHER NARCOTIC VIOLATION                 8\n",
       "PUBLIC INDECENCY                         8\n",
       "NON-CRIMINAL                             3\n",
       "Name: count, dtype: int64"
      ]
     },
     "execution_count": 61,
     "metadata": {},
     "output_type": "execute_result"
    }
   ],
   "source": [
    "column_names = list(crime_clean_df.columns)\n",
    "\n",
    "unique_primary_type = crime_clean_df['Primary Type'].unique()\n",
    "\n",
    "print(\"Column Names:\")\n",
    "display(column_names)\n",
    "\n",
    "print(\"Unique Primary Types:\")\n",
    "display(unique_primary_type)\n",
    "\n",
    "crime_clean_df['Primary Type'].value_counts()"
   ]
  },
  {
   "cell_type": "code",
   "execution_count": null,
   "id": "c6de394e",
   "metadata": {},
   "outputs": [],
   "source": [
    "# group the amount of times a certain crime occured per year\n",
    "crime_counts = crime_clean_df.groupby([\"Year\", \"Primary Type\"]).size().reset_index(name = \"Count\")"
   ]
  },
  {
   "cell_type": "code",
   "execution_count": null,
   "id": "c64dc145",
   "metadata": {},
   "outputs": [
    {
     "data": {
      "text/plain": [
       "<Axes: title={'center': 'Crimes by Type in 2025'}, xlabel='Primary Type'>"
      ]
     },
     "execution_count": 83,
     "metadata": {},
     "output_type": "execute_result"
    },
    {
     "data": {
      "image/png": "[encoded data removed]",
      "text/plain": [
       "<Figure size 1000x500 with 1 Axes>"
      ]
     },
     "metadata": {},
     "output_type": "display_data"
    }
   ],
   "source": [
    "# crime_clean_df.plot(x = \"Year\", y = \"Primary Type\", kind = \"bar\", title = \"Crimes per Year\")\n",
    "crime_counts[crime_counts[\"Year\"] == 2025].plot(\n",
    "    x = \"Primary Type\", y = \"Count\",kind = \"bar\", figsize = (10,5),\n",
    "    title = \"Crimes by Type in 2025\"\n",
    ")"
   ]
  },
  {
   "cell_type": "markdown",
   "id": "615f1eb5",
   "metadata": {},
   "source": [
    "# Phase 2\n",
    "### Machine Learning Predictions with Pytorch"
   ]
  },
  {
   "cell_type": "code",
   "execution_count": null,
   "id": "917936b5",
   "metadata": {},
   "outputs": [],
   "source": []
  }
 ],
 "metadata": {
  "kernelspec": {
   "display_name": "Python 3",
   "language": "python",
   "name": "python3"
  },
  "language_info": {
   "codemirror_mode": {
    "name": "ipython",
    "version": 3
   },
   "file_extension": ".py",
   "mimetype": "text/x-python",
   "name": "python",
   "nbconvert_exporter": "python",
   "pygments_lexer": "ipython3",
   "version": "3.9.6"
  }
 },
 "nbformat": 4,
 "nbformat_minor": 5
}
