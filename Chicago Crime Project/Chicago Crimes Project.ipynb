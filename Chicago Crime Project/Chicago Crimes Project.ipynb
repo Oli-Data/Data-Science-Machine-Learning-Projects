{
 "cells": [
  {
   "cell_type": "markdown",
   "id": "42e04b30",
   "metadata": {},
   "source": [
    "# 🚧 In Early Development"
   ]
  },
  {
   "cell_type": "markdown",
   "id": "a9dbf41f",
   "metadata": {},
   "source": [
    "# Chicago Crimes (2001 to Present)\n",
    "A CO³ Labs study by Christian Olivares-Rodriguez\n",
    "\n",
    "The following data is directly from the City of Chicago with the latest update at the time of this project being 9-1-25\n",
    "\n",
    "\n",
    "\n",
    "The dataset can be found in the following link: https://data.cityofchicago.org/Public-Safety/Crimes-2001-to-Present/ijzp-q8t2/about_data\n",
    "\n",
    "<p>The dataset contains 22 Features:<p>\n",
    "<li>ID</li>\n",
    "<li>Case Number</li>\n",
    "<li>Date</li>\n",
    "<li>Block</li>\n",
    "<li>IUCR</li>\n",
    "<li>Primary Type</li>\n",
    "<li>Description</li>\n",
    "<li>Location Description</i>\n",
    "<li>Arrest</li>\n",
    "<li>Domestic</li>\n",
    "<li>Beat</li>\n",
    "<li>District</li>\n",
    "<li>Ward</li>\n",
    "<li>Community Area</li>\n",
    "<li>FBI Code</li>\n",
    "<li>X Coordinate</li>\n",
    "<li>Y Coordinate</li>\n",
    "<li>Year</li>\n",
    "<li>Updated On</li>\n",
    "<li>Latitude</li>\n",
    "<li>Longitude</li>\n",
    "<li>Location</li>\n",
    "\n",
    "### Libraries\n"
   ]
  },
  {
   "cell_type": "code",
   "execution_count": null,
   "id": "6d5ccdb8",
   "metadata": {},
   "outputs": [],
   "source": [
    "import pandas as pd"
   ]
  },
  {
   "cell_type": "markdown",
   "id": "878ccfd2",
   "metadata": {},
   "source": [
    "### Importing the Data"
   ]
  },
  {
   "cell_type": "code",
   "execution_count": null,
   "id": "6a19b272",
   "metadata": {},
   "outputs": [],
   "source": [
    "crime_df = pd.read_csv(\"\")"
   ]
  }
 ],
 "metadata": {
  "kernelspec": {
   "display_name": "Python 3",
   "language": "python",
   "name": "python3"
  },
  "language_info": {
   "name": "python",
   "version": "3.9.6"
  }
 },
 "nbformat": 4,
 "nbformat_minor": 5
}
